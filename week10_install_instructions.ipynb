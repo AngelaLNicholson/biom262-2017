{
 "cells": [
  {
   "cell_type": "markdown",
   "metadata": {},
   "source": [
    "# Install instructions for Week 10 lectures"
   ]
  },
  {
   "cell_type": "markdown",
   "metadata": {},
   "source": [
    "**1) Install PLINK**\n",
    "\n",
    "    conda install -c biobuilds plink=1.07\n",
    "    \n",
    "**2) Install admixture**\n",
    "\n",
    "This one is not available in anaconda, so we are going to get the source code from [here](https://www.genetics.ucla.edu/software/admixture/download.html).\n",
    "\n",
    "    cd ~/software\n",
    "    \n",
    "    wget https://www.genetics.ucla.edu/software/admixture/binaries/admixture_linux-1.3.0.tar.gz\n",
    "    \n",
    "    tar -xvf admixture_linux-1.3.0.tar.gz\n",
    "    \n",
    "Add this path to your ~/.bashrc. REMEMBER TO CHANGE ## TO YOUR NUMBER\n",
    "\n",
    "    export PATH=\"/home/ucsd-train##/software/admixture_linux-1.3.0/:$PATH\"\n",
    "    \n",
    "**3) Install R package Vegan**\n",
    "\n",
    "First open R:\n",
    "\n",
    "    R\n",
    "    \n",
    "Now do the installs, first permute:\n",
    "\n",
    "    install.packages(“permute”)\n",
    "    \n",
    "    58 (or maybe 18... whatever one says HTTP mirrors)\n",
    "    80\n",
    "    \n",
    "Now vegan. If you try to do this first, you get the error that says it depends on permute and that has not been installed yet.\n",
    "\n",
    "    install.packages(\"vegan\", repos=\"http://r-forge.r-project.org/“)\n",
    "    \n",
    "Quit R with:\n",
    "\n",
    "    quit()\n",
    "    \n",
    "**4) reinstall the R kernel**\n",
    "\n",
    "There is an annoying bug when installing these R packages that kills your R kernel. So reinstall it in r essentials\n",
    "\n",
    "    conda install -c r r-essentials\n",
    "    \n",
    "    \n",
    "    "
   ]
  },
  {
   "cell_type": "code",
   "execution_count": null,
   "metadata": {
    "collapsed": true
   },
   "outputs": [],
   "source": []
  }
 ],
 "metadata": {
  "kernelspec": {
   "display_name": "Python 2",
   "language": "python",
   "name": "python2"
  },
  "language_info": {
   "codemirror_mode": {
    "name": "ipython",
    "version": 2
   },
   "file_extension": ".py",
   "mimetype": "text/x-python",
   "name": "python",
   "nbconvert_exporter": "python",
   "pygments_lexer": "ipython2",
   "version": "2.7.12"
  }
 },
 "nbformat": 4,
 "nbformat_minor": 0
}
