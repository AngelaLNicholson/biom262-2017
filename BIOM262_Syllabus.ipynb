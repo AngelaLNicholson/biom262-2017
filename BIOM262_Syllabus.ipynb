{
 "cells": [
  {
   "cell_type": "markdown",
   "metadata": {},
   "source": [
    "# BIOM262: Quantitative Methods in Genetics and Genomics\n",
    "**University of California San Diego (UCSD)**  \n",
    "**Winter 2017**  \n",
    "\n",
    "### Contact us:\n",
    "Lead Instructor [Dr. Gene Yeo](mailto:geneyeo@ucsd.edu \"Gene Yeo\") (geneyeo@ucsd.edu)  \n",
    "Teaching Assistant [Emily Wheeler](mailto:ecwheele@ucsd.edu) (ecwheele@ucsd.edu)  \n",
    "Teaching Assistant [Jamison McCorrison](mailto:jmccorri@eng.ucsd.edu) (jmccorri@ucsd.edu)  \n",
    "  \n",
    "Lecture-specific contact info provided below.\n",
    "\n",
    "### Course Description \n",
    "Quantitative Methods in Genetics and Genomics is designed to teach experimental and analytical approaches in modern genetics and genomics, from experimental design through data analysis in each of several topic areas. Lecturers this year include Gene Yeo, Emily Wheeler, Scott Rifkin, Olivier Harismendy, Alon Goren, Graham McVicker, Ondrej Libiger, Nicholas Schork, and Hannah Carter.  \n",
    "*This course is a requirement for students in the UCSD Genetics Training Program. 4 units.*\n",
    "\n",
    "### Lecture Location\n",
    "Lectures will all be held at the Sanford Consortium for Regenerative Medicine (SCRM) from 9AM - 12PM.  Room locations will vary over the course of the course.  Please refer to the syllabus (below) to find the location of each week's lecture.\n",
    "\n",
    "\n",
    "### Homework Submission\n",
    "Homework will be assigned on Thursdays and due on Tuesdays throughout the semester. There will not be an assignment every week. Assignments will be announced in the week they are assigned.  \n",
    "Submission of homework will be conducted **by email** to ecwheele@ucsd.edu AND jmccorri@eng.ucsd.edu and will be **due by 9 AM PST on Tuesday mornings.**\n",
    "\n",
    "### Office Hours\n",
    "**Time:** Mondays 9-10AM  \n",
    "**Emily's Location:** SCRM 3318 (Check in at the front desk for access to building)  \n",
    "**Jamison's Location:** J. Craig Venter Institute (Room 136)  \nPress buzzer at front door, ask for Jamison's office hours, sign in at the Front Desk  \n4120 Capricorn Lane, La Jolla 92104 (Next to La Jolla Playhouse, SW corner of campus)  \n",
    "**Schedule:**  \n1/16: None (appointment only)  \n1/23: Jamison  \n1/30: Emily  \n"
   ]
  },
  {
   "cell_type": "markdown",
   "metadata": {},
   "source": [
    "## Syllabus\n",
    "\n",
    "| Module Num. | Date |  Lecture Room | Lecturer | Topic | Lecture | Homework | Solutions |\n",
    "| ----------- | ---- | ------------- | -------- | ----- | ------- | -------- | --------- |\n",
    "| **0** |  |  |  | Pre-class Setup | [Windows](http://nbviewer.jupyter.org/github/biom262/biom262-2017/blob/master/Module1/0_Generate_public_and_private_key_windows.ipynb) [Mac/Linux](http://nbviewer.jupyter.org/github/biom262/biom262-2017/blob/master/Module1/0_Generate_public_private_key_mac.ipynb) |  |  |\n",
    "| **1** | 1/10/17 | 1013A+B | **Emily Wheeler** ([contact](mailto:ecwheele@ucsd.edu)) | Unix, TSCC, Jupyter I | [Downloads](https://github.com/biom262/biom262-2017/blob/master/Module1/0_Programs_to_install_outside_of_class.ipynb) [BASH Intro](https://github.com/biom262/biom262-2017/blob/master/Module1/1_Intro_to_BASH.ipynb)[TSCC Intro](https://github.com/biom262/biom262-2017/blob/master/Module1/2_TSCC_login_and_program_downloads.ipynb) |  |  |\n",
    "|       | 1/12/17 | 1013A+B | Emily Wheeler | RNA-Seq (Transcriptomics Analysis) I |[Overview_Lecture](https://github.com/biom262/biom262-2017/blob/master/Module1/Week1_Day2.pptx)[Data_Download](https://github.com/biom262/biom262-2017/blob/master/Module1/3_Download_Data_and_quality_checks.ipynb) [STAR_alignment](https://github.com/biom262/biom262-2017/blob/master/Module1/4_STAR_and_ailases.ipynb) | | |\n",
    "| **2** | 1/17/17 | 1013A+B | **Scott Rifkin** ([contact](mailto:sarifkin@ucsd.edu))  | Statistics I|[Module_Materials](https://github.com/biom262/biom262-2017/tree/master/Module2_statistics) | | |\n",
    "|       | 1/19/17 | 1013A+B | Scott Rifkin | Statistics II | |[Homework](https://github.com/biom262/biom262-2017/blob/master/Module2_statistics/introToRAssignment.Rmd) |[solution](https://github.com/biom262/biom262-2017/blob/master/Module2_statistics/introToRAssignment_Ans-1.Rmd) |\n",
    "| **3** | 1/24/17 | Auditorium | **Gene Yeo** ([contact](mailto:geneyeo@ucsd.edu)) | RNA-seq (Transcriptomics Analysis) II |[STAR](https://github.com/biom262/biom262-2017/blob/master/Module1/4_STAR_and_ailases.ipynb)  [samtools](https://github.com/biom262/biom262-2017/blob/master/Module1/5_Samtools_and_IGV.ipynb)  [featureCounts](https://github.com/biom262/biom262-2017/blob/master/Module1/6_featureCounts.ipynb) | | |\n",
    "|       | 1/26/17 | Auditorium | Emily Wheeler | RNA-seq (Transcriptomics Analysis) III |[lecture_slides](https://github.com/biom262/biom262-2017/blob/master/Module1/Yeo_slides_2016-01-26.pptx)  [code_demo](https://github.com/biom262/biom262-2017/blob/master/Module1/8_python_code_tutorial.ipynb) |[homework](https://github.com/biom262/biom262-2017/blob/master/Module1/homework/Week3_homework.ipynb) | |\n",
    "| **4** | 1/31/17 | 1013A+B | Emily Wheeler | RNA-seq (Transcriptomics Analysis) IV |[DESeq2](https://github.com/biom262/biom262-2017/blob/master/Module1/9_DESeq2.ipynb) [class_code](https://github.com/biom262/biom262-2017/tree/master/Module1/class_code_jan_31) | | |\n",
    "|       | 2/2/17 | 1013A+B | Emily Wheeler | RNA-seq (Transcriptomics Analysis) V |[tpm_plotting](https://github.com/biom262/biom262-2017/blob/master/Module1/10_summarize_expression_results.ipynb) [rMATS](https://github.com/biom262/biom262-2017/blob/master/Module1/11_rMATS_alternative_splicing.ipynb) [class_code](https://github.com/biom262/biom262-2017/tree/master/Module1/class_code_02_02) | | |\n",
    "| **5** | 2/7/16 | 1013A+B | Scott Rifkin  | Statistics IIII | | | |\n",
    "|       | 2/9/16 | 1013A+B | Scott Rifkin | Statistics IV | | | |\n",
    "| **6** | 2/14/16 | 1013A+B |  **Olivier Harismendy** ([contact](mailto:oharismendy@ucsd.edu@ucsd.edu)) | DNA Analysis and Variant Calling I | | | |\n",
    "|       | 2/16/16 | 1013A+B | Olivier Harismendy | DNA Analysis and Variant Calling II | | | |\n",
    "| **7** | 2/21/16 | 1013A+B | **Alon Goren** ([contact](mailto:agoren@ucsd.edu)) | ChIP/Clip Binding Data I | | | |\n",
    "|       | 2/23/16 | 1013A+B | Alon Goren | ChIP/Clip Binding Data II | | | |\n",
    "| **8** | 2/28/16 | 1013A+B | **Graham McVicker** ([contact](mailto:gmcvicker@salk.edu)) | Genetic Variation and Transcription Regulation I | | | |\n",
    "|       | 3/2/16 | 1013A+B | Graham McVicker | Genetic Variation and Transcription Regulation II | | | |\n",
    "| **9** | 3/7/16 | Auditorium | **Ondrej Libiger** ([contact](mailto:ondrej@mdrevolution.com)) | Python and PLINK | | | |\n",
    "|       | 3/9/16 | 1013A+B | **Nicholas Schork** ([contact](mailto:nschork@ucsd.edu)) | Modern Applied Population Genetics. Admixture Mapping. | | | |\n",
    "| **10** | 3/14/16 | 1013A+B | **Hannah Carter** | Variation (genetic, inherited, somatic variation.) I | | | |\n",
    "|        | 3/16/16 | 1013A+B | Hannah Carter | Variation (genetic, inherited, somatic variation.) II | | | |"
   ]
  },
  {
   "cell_type": "markdown",
   "metadata": {},
   "source": [
    "\n",
    "\n",
    "## Take Home Exams\n",
    "\n",
    "**Midterm:** Assigned on 2/10, Due on 2/19 at 11:59PM  \n",
    "**Final Exam:** Assigned on 3/17, Due on 3/26 at 11:59PM"
   ]
  }
 ],
 "metadata": {
  "kernelspec": {
   "display_name": "Python 2",
   "language": "python",
   "name": "python2"
  },
  "language_info": {
   "codemirror_mode": {
    "name": "ipython",
    "version": 2
   },
   "file_extension": ".py",
   "mimetype": "text/x-python",
   "name": "python",
   "nbconvert_exporter": "python",
   "pygments_lexer": "ipython2",
   "version": "2.7.11"
  }
 },
 "nbformat": 4,
 "nbformat_minor": 0
}
