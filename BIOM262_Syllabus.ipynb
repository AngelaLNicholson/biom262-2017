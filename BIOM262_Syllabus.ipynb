{
 "cells": [
  {
   "cell_type": "markdown",
   "metadata": {},
   "source": [
    "# BIOM262: Quantitative Methods in Genetics and Genomics\n",
    "**University of California San Diego (UCSD)**  \n",
    "**Winter 2017**  \n",
    "\n",
    "#### Contact us:\n",
    "Lead Instructor [Dr. Gene Yeo](mailto:geneyeo@ucsd.edu \"Gene Yeo\")  \n",
    "Teaching Assistant [Emily Wheeler](mailto:ecwheele@ucsd.edu)  \n",
    "Teaching Assistant [Jamison McCorrison](mailto:jmccorri@eng.ucsd.edu)  \n",
    "Lecture-specific contact info provided below.\n",
    "\n",
    "\n",
    "#### Course Description \n",
    "Quantitative Methods in Genetics and Genomics is designed to teach experimental and analytical approaches in modern genetics and genomics, from experimental design through data analysis in each of several topic areas.",
    "  This course is a requirement for students in the UCSD Genetics Training Program. 4 units.*\n",
    "\n",
    "#### Lecture Location\n",
    "Lectures will all be held at the Sanford Consortium for Regenerative Medicine (SCRM).  Room locations will vary over the course of the course.  Please refer to the syllabus (below) to find the location of each week's lecture."
   ]
  },
  {
   "cell_type": "markdown",
   "metadata": {},
   "source": [
    "## Syllabus\n",
    "\n",
    "| Module Num. | Date |  Lecture Room | Lecturer | Topic |           |            |            |\n",
    "| ----------- | ---- | ------------- | -------- | ----- | --------- | ---------- | ---------- |\n",
    "| **1** | 1/10/17 | 1013A+B | **Emily Wheeler** ([contact](mailto:ecwheele@ucsd.edu)) | Unix, TSCC, Jupyter I | Lecture | Homework | Solution |\n",
    "|       | 1/12/17 | 1013A+B | Emily Wheeler | Unix, TSCC, Jupyter II | Lecture | Homework | Solution |\n",
    "| **2** | 1/17/17 | 1013A+B | Emily Wheeler | RNA-seq (Transcriptomics Analysis) I | Lecture | Homework | Solution |\n",
    "|       | 1/19/17 | 1013A+B | Emily Wheeler | RNA-seq (Transcriptomics Analysis) II | Lecture | Homework | Solution |\n",
    "| **3** | 1/24/17 | Auditorium | Emily Wheeler | RNA-seq (Transcriptomics Analysis) III | Lecture | Homework | Solution |\n",
    "|       | 1/26/17 | Auditorium | Emily Wheeler | RNA-seq (Transcriptomics Analysis) IV | Lecture | Homework | Solution |\n",
    "| **4** | 1/31/16 | 1013A+B | **Scott Rifkin** ([contact](mailto:sarifkin@ucsd.edu))  | Statistics I| Lecture | Homework | Solution |\n",
    "|       | 2/2/16 | 2803 | Scott Rifkin | Statistics II | Lecture | Homework | Solution |\n",
    "| **5** | 2/7/16 | 1013A+B | Scott Rifkin  | Statistics IIII | Lecture | Homework | Solution |\n",
    "|       | 2/9/16 | 2803 | Scott Rifkin | Statistics IV | Lecture | Homework | Solution |\n",
    "| **6** | 2/14/16 | 1013A+B |  **Olivier Harismendy** ([contact](mailto:oharismendy@ucsd.edu@ucsd.edu)) | DNA Analysis and Variant Calling I | Lecture | Homework | Solution |\n",
    "|       | 2/16/16 | 2803 | Olivier Harismendy | DNA Analysis and Variant Calling II | Lecture | Homework | Solution |\n",
    "| **7** | 2/21/16 | 1013A+B | **Alon Goren** ([contact](mailto:agoren@ucsd.edu@ucsd.edu)) | ChIP/Clip Binding Data I | Lecture | Homework | Solution |\n",
    "|       | 2/23/16 | 2803 | Alon Goren | ChIP/Clip Binding Data II | Lecture | Homework | Solution |\n",
    "| **8** | 2/28/16 | 1013A+B | **Graham McVicker** ([contact](mailto:gmcvicker@salk.edu)) | Genetic Variation and Transcription Regulation I | Lecture | Homework | Solution |\n",
    "|       | 3/2/16 | Auditorium | Graham McVicker | Genetic Variation and Transcription Regulation II | Lecture | Homework | Solution |\n",
    "| **9** | 3/7/16 | Auditorium | **Ondrej Libiger** ([contact](mailto:ondrej@mdrevolution.com)) | Python and PLINK | Lecture | Homework | Solution |\n",
    "|       | 3/9/16 | 1013A+B | **Nicholas Schork** ([contact](mailto:nschork@ucsd.edu)) | Modern Applied Population Genetics. Admixture Mapping. | Lecture | Homework | Solution |\n",
    "| **10** | 3/14/16 | 1013A+B | **Hannah Carter** | Variation (genetic, inherited, somatic variation.) I | Lecture | Homework | Solution |\n",
    "|        | 3/16/16 | 1013A+B | Hannah Carter | Variation (genetic, inherited, somatic variation.) II | Lecture | Homework | Solution |"
   ]
  },
  {
   "cell_type": "markdown",
   "metadata": {},
   "source": [
    "\n",
    "\n",
    "## Final\n",
    "\n",
    "**Take home exam due:** *TBA*"
   ]
  }
 ],
 "metadata": {
  "kernelspec": {
   "display_name": "Python 2",
   "language": "python",
   "name": "python2"
  },
  "language_info": {
   "codemirror_mode": {
    "name": "ipython",
    "version": 2
   },
   "file_extension": ".py",
   "mimetype": "text/x-python",
   "name": "python",
   "nbconvert_exporter": "python",
   "pygments_lexer": "ipython2",
   "version": "2.7.11"
  }
 },
 "nbformat": 4,
 "nbformat_minor": 0
}
