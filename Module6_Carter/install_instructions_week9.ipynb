{
 "cells": [
  {
   "cell_type": "markdown",
   "metadata": {},
   "source": [
    "# Install instructions for week 9"
   ]
  },
  {
   "cell_type": "markdown",
   "metadata": {},
   "source": [
    "**1) Install igraph with conda**\n",
    "\n",
    "    conda install -c r r-igraph=1.0.1\n",
    "    \n",
    "**2) Install NetIndices from CRAN**\n",
    "\n",
    "    R\n",
    "    \n",
    "    install.packages(\"NetIndices\")\n",
    "    \n",
    "    18\n",
    "    \n",
    "    82\n",
    "    \n",
    "**3) Test them out:**\n",
    "\n",
    "    library(\"igraph\")\n",
    "    library(\"NetIndices\")\n",
    "    \n",
    "Did you get any errors? Let's hope not. \n",
    "Get out of the terminal with:\n",
    "\n",
    "    quit()"
   ]
  },
  {
   "cell_type": "code",
   "execution_count": null,
   "metadata": {
    "collapsed": true
   },
   "outputs": [],
   "source": []
  }
 ],
 "metadata": {
  "kernelspec": {
   "display_name": "Python 2",
   "language": "python",
   "name": "python2"
  },
  "language_info": {
   "codemirror_mode": {
    "name": "ipython",
    "version": 2
   },
   "file_extension": ".py",
   "mimetype": "text/x-python",
   "name": "python",
   "nbconvert_exporter": "python",
   "pygments_lexer": "ipython2",
   "version": "2.7.12"
  }
 },
 "nbformat": 4,
 "nbformat_minor": 0
}
