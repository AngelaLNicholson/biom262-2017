{
 "cells": [
  {
   "cell_type": "code",
   "execution_count": 1,
   "metadata": {
    "collapsed": true
   },
   "outputs": [],
   "source": [
    "import pandas as pd\n",
    "import numpy as np\n",
    "from matplotlib import pyplot as plt\n",
    "import seaborn as sns\n",
    "%matplotlib inline"
   ]
  },
  {
   "cell_type": "code",
   "execution_count": 2,
   "metadata": {
    "collapsed": false
   },
   "outputs": [
    {
     "name": "stdout",
     "output_type": "stream",
     "text": [
      "(57820, 4)\n",
      "(57820, 4)\n"
     ]
    },
    {
     "data": {
      "text/html": [
       "<div>\n",
       "<table border=\"1\" class=\"dataframe\">\n",
       "  <thead>\n",
       "    <tr style=\"text-align: right;\">\n",
       "      <th></th>\n",
       "      <th>u2af1_control_k562_rep1</th>\n",
       "      <th>u2af1_control_k562_rep2</th>\n",
       "      <th>u2af1_shrna_k562_rep1</th>\n",
       "      <th>u2af1_shrna_k562_rep2</th>\n",
       "    </tr>\n",
       "    <tr>\n",
       "      <th>Geneid</th>\n",
       "      <th></th>\n",
       "      <th></th>\n",
       "      <th></th>\n",
       "      <th></th>\n",
       "    </tr>\n",
       "  </thead>\n",
       "  <tbody>\n",
       "    <tr>\n",
       "      <th>ENSG00000223972.4</th>\n",
       "      <td>0.000000</td>\n",
       "      <td>0.094930</td>\n",
       "      <td>0.000000</td>\n",
       "      <td>0.000000</td>\n",
       "    </tr>\n",
       "    <tr>\n",
       "      <th>ENSG00000227232.4</th>\n",
       "      <td>8.556370</td>\n",
       "      <td>8.282616</td>\n",
       "      <td>7.148844</td>\n",
       "      <td>3.092353</td>\n",
       "    </tr>\n",
       "    <tr>\n",
       "      <th>ENSG00000243485.2</th>\n",
       "      <td>0.000000</td>\n",
       "      <td>0.163269</td>\n",
       "      <td>0.000000</td>\n",
       "      <td>0.174405</td>\n",
       "    </tr>\n",
       "    <tr>\n",
       "      <th>ENSG00000237613.2</th>\n",
       "      <td>0.773976</td>\n",
       "      <td>0.546998</td>\n",
       "      <td>0.750441</td>\n",
       "      <td>0.730385</td>\n",
       "    </tr>\n",
       "    <tr>\n",
       "      <th>ENSG00000268020.2</th>\n",
       "      <td>0.000000</td>\n",
       "      <td>0.000000</td>\n",
       "      <td>0.000000</td>\n",
       "      <td>0.000000</td>\n",
       "    </tr>\n",
       "  </tbody>\n",
       "</table>\n",
       "</div>"
      ],
      "text/plain": [
       "                   u2af1_control_k562_rep1  u2af1_control_k562_rep2  \\\n",
       "Geneid                                                                \n",
       "ENSG00000223972.4                 0.000000                 0.094930   \n",
       "ENSG00000227232.4                 8.556370                 8.282616   \n",
       "ENSG00000243485.2                 0.000000                 0.163269   \n",
       "ENSG00000237613.2                 0.773976                 0.546998   \n",
       "ENSG00000268020.2                 0.000000                 0.000000   \n",
       "\n",
       "                   u2af1_shrna_k562_rep1  u2af1_shrna_k562_rep2  \n",
       "Geneid                                                           \n",
       "ENSG00000223972.4               0.000000               0.000000  \n",
       "ENSG00000227232.4               7.148844               3.092353  \n",
       "ENSG00000243485.2               0.000000               0.174405  \n",
       "ENSG00000237613.2               0.750441               0.730385  \n",
       "ENSG00000268020.2               0.000000               0.000000  "
      ]
     },
     "execution_count": 2,
     "metadata": {},
     "output_type": "execute_result"
    }
   ],
   "source": [
    "directory = '/home/ecwheele/shared_for_class/'\n",
    "tpm = pd.read_csv(directory+\"u2af1_shrna_tpm.csv\", index_col=0)\n",
    "rpkm = pd.read_csv(directory+\"u2af1_shrna_rpkm.csv\", index_col=0)\n",
    "print tpm.shape\n",
    "print rpkm.shape\n",
    "tpm.head()"
   ]
  },
  {
   "cell_type": "code",
   "execution_count": 4,
   "metadata": {
    "collapsed": false
   },
   "outputs": [
    {
     "data": {
      "text/plain": [
       "(array([  5.76220000e+04,   1.02000000e+02,   3.30000000e+01,\n",
       "          1.90000000e+01,   1.70000000e+01,   1.00000000e+00,\n",
       "          3.00000000e+00,   1.00000000e+00,   2.00000000e+00,\n",
       "          4.00000000e+00,   0.00000000e+00,   0.00000000e+00,\n",
       "          1.00000000e+00,   2.00000000e+00,   0.00000000e+00,\n",
       "          2.00000000e+00,   1.00000000e+00,   1.00000000e+00,\n",
       "          0.00000000e+00,   0.00000000e+00,   0.00000000e+00,\n",
       "          0.00000000e+00,   0.00000000e+00,   0.00000000e+00,\n",
       "          0.00000000e+00,   0.00000000e+00,   0.00000000e+00,\n",
       "          0.00000000e+00,   0.00000000e+00,   0.00000000e+00,\n",
       "          0.00000000e+00,   0.00000000e+00,   0.00000000e+00,\n",
       "          0.00000000e+00,   0.00000000e+00,   1.00000000e+00,\n",
       "          0.00000000e+00,   0.00000000e+00,   0.00000000e+00,\n",
       "          0.00000000e+00,   1.00000000e+00,   0.00000000e+00,\n",
       "          0.00000000e+00,   0.00000000e+00,   0.00000000e+00,\n",
       "          0.00000000e+00,   0.00000000e+00,   0.00000000e+00,\n",
       "          0.00000000e+00,   0.00000000e+00,   0.00000000e+00,\n",
       "          0.00000000e+00,   0.00000000e+00,   0.00000000e+00,\n",
       "          0.00000000e+00,   0.00000000e+00,   0.00000000e+00,\n",
       "          1.00000000e+00,   0.00000000e+00,   0.00000000e+00,\n",
       "          1.00000000e+00,   0.00000000e+00,   0.00000000e+00,\n",
       "          1.00000000e+00,   1.00000000e+00,   0.00000000e+00,\n",
       "          0.00000000e+00,   0.00000000e+00,   1.00000000e+00,\n",
       "          0.00000000e+00,   0.00000000e+00,   0.00000000e+00,\n",
       "          0.00000000e+00,   0.00000000e+00,   0.00000000e+00,\n",
       "          0.00000000e+00,   0.00000000e+00,   0.00000000e+00,\n",
       "          0.00000000e+00,   0.00000000e+00,   0.00000000e+00,\n",
       "          0.00000000e+00,   0.00000000e+00,   0.00000000e+00,\n",
       "          0.00000000e+00,   0.00000000e+00,   0.00000000e+00,\n",
       "          0.00000000e+00,   0.00000000e+00,   0.00000000e+00,\n",
       "          0.00000000e+00,   0.00000000e+00,   1.00000000e+00,\n",
       "          0.00000000e+00,   0.00000000e+00,   0.00000000e+00,\n",
       "          0.00000000e+00,   0.00000000e+00,   0.00000000e+00,\n",
       "          1.00000000e+00]),\n",
       " array([     0.        ,    452.47965437,    904.95930874,   1357.43896311,\n",
       "          1809.91861748,   2262.39827185,   2714.87792621,   3167.35758058,\n",
       "          3619.83723495,   4072.31688932,   4524.79654369,   4977.27619806,\n",
       "          5429.75585243,   5882.2355068 ,   6334.71516117,   6787.19481554,\n",
       "          7239.6744699 ,   7692.15412427,   8144.63377864,   8597.11343301,\n",
       "          9049.59308738,   9502.07274175,   9954.55239612,  10407.03205049,\n",
       "         10859.51170486,  11311.99135922,  11764.47101359,  12216.95066796,\n",
       "         12669.43032233,  13121.9099767 ,  13574.38963107,  14026.86928544,\n",
       "         14479.34893981,  14931.82859418,  15384.30824855,  15836.78790292,\n",
       "         16289.26755728,  16741.74721165,  17194.22686602,  17646.70652039,\n",
       "         18099.18617476,  18551.66582913,  19004.1454835 ,  19456.62513787,\n",
       "         19909.10479224,  20361.58444661,  20814.06410097,  21266.54375534,\n",
       "         21719.02340971,  22171.50306408,  22623.98271845,  23076.46237282,\n",
       "         23528.94202719,  23981.42168156,  24433.90133593,  24886.3809903 ,\n",
       "         25338.86064466,  25791.34029903,  26243.8199534 ,  26696.29960777,\n",
       "         27148.77926214,  27601.25891651,  28053.73857088,  28506.21822525,\n",
       "         28958.69787962,  29411.17753398,  29863.65718835,  30316.13684272,\n",
       "         30768.61649709,  31221.09615146,  31673.57580583,  32126.0554602 ,\n",
       "         32578.53511457,  33031.01476894,  33483.49442331,  33935.97407767,\n",
       "         34388.45373204,  34840.93338641,  35293.41304078,  35745.89269515,\n",
       "         36198.37234952,  36650.85200389,  37103.33165826,  37555.81131263,\n",
       "         38008.290967  ,  38460.77062137,  38913.25027573,  39365.7299301 ,\n",
       "         39818.20958447,  40270.68923884,  40723.16889321,  41175.64854758,\n",
       "         41628.12820195,  42080.60785632,  42533.08751069,  42985.56716505,\n",
       "         43438.04681942,  43890.52647379,  44343.00612816,  44795.48578253,\n",
       "         45247.9654369 ]),\n",
       " <a list of 100 Patch objects>)"
      ]
     },
     "execution_count": 4,
     "metadata": {},
     "output_type": "execute_result"
    },
    {
     "data": {
      "image/png": "[encoded data removed]",
      "text/plain": [
       "<matplotlib.figure.Figure at 0x2b0a7b23fed0>"
      ]
     },
     "metadata": {},
     "output_type": "display_data"
    }
   ],
   "source": [
    "plt.hist(tpm['u2af1_control_k562_rep1'], bins=100)"
   ]
  },
  {
   "cell_type": "code",
   "execution_count": 7,
   "metadata": {
    "collapsed": false
   },
   "outputs": [
    {
     "data": {
      "text/plain": [
       "Geneid\n",
       "ENSG00000223972.4    0.023733\n",
       "ENSG00000227232.4    6.770046\n",
       "ENSG00000243485.2    0.084419\n",
       "ENSG00000237613.2    0.700450\n",
       "ENSG00000268020.2    0.000000\n",
       "dtype: float64"
      ]
     },
     "execution_count": 7,
     "metadata": {},
     "output_type": "execute_result"
    }
   ],
   "source": [
    "tpm.mean(axis=1).head()"
   ]
  },
  {
   "cell_type": "code",
   "execution_count": 8,
   "metadata": {
    "collapsed": false
   },
   "outputs": [
    {
     "name": "stdout",
     "output_type": "stream",
     "text": [
      "(57820, 4)\n",
      "(15004, 4)\n"
     ]
    },
    {
     "data": {
      "text/html": [
       "<div>\n",
       "<table border=\"1\" class=\"dataframe\">\n",
       "  <thead>\n",
       "    <tr style=\"text-align: right;\">\n",
       "      <th></th>\n",
       "      <th>u2af1_control_k562_rep1</th>\n",
       "      <th>u2af1_control_k562_rep2</th>\n",
       "      <th>u2af1_shrna_k562_rep1</th>\n",
       "      <th>u2af1_shrna_k562_rep2</th>\n",
       "    </tr>\n",
       "    <tr>\n",
       "      <th>Geneid</th>\n",
       "      <th></th>\n",
       "      <th></th>\n",
       "      <th></th>\n",
       "      <th></th>\n",
       "    </tr>\n",
       "  </thead>\n",
       "  <tbody>\n",
       "    <tr>\n",
       "      <th>ENSG00000227232.4</th>\n",
       "      <td>8.556370</td>\n",
       "      <td>8.282616</td>\n",
       "      <td>7.148844</td>\n",
       "      <td>3.092353</td>\n",
       "    </tr>\n",
       "    <tr>\n",
       "      <th>ENSG00000238009.2</th>\n",
       "      <td>7.401888</td>\n",
       "      <td>5.978511</td>\n",
       "      <td>6.561657</td>\n",
       "      <td>4.689938</td>\n",
       "    </tr>\n",
       "    <tr>\n",
       "      <th>ENSG00000237683.5</th>\n",
       "      <td>23.188031</td>\n",
       "      <td>27.939561</td>\n",
       "      <td>13.888541</td>\n",
       "      <td>9.167724</td>\n",
       "    </tr>\n",
       "    <tr>\n",
       "      <th>ENSG00000239906.1</th>\n",
       "      <td>7.010350</td>\n",
       "      <td>9.805747</td>\n",
       "      <td>8.496476</td>\n",
       "      <td>3.859058</td>\n",
       "    </tr>\n",
       "    <tr>\n",
       "      <th>ENSG00000241860.2</th>\n",
       "      <td>6.426909</td>\n",
       "      <td>6.888557</td>\n",
       "      <td>4.695760</td>\n",
       "      <td>5.231376</td>\n",
       "    </tr>\n",
       "  </tbody>\n",
       "</table>\n",
       "</div>"
      ],
      "text/plain": [
       "                   u2af1_control_k562_rep1  u2af1_control_k562_rep2  \\\n",
       "Geneid                                                                \n",
       "ENSG00000227232.4                 8.556370                 8.282616   \n",
       "ENSG00000238009.2                 7.401888                 5.978511   \n",
       "ENSG00000237683.5                23.188031                27.939561   \n",
       "ENSG00000239906.1                 7.010350                 9.805747   \n",
       "ENSG00000241860.2                 6.426909                 6.888557   \n",
       "\n",
       "                   u2af1_shrna_k562_rep1  u2af1_shrna_k562_rep2  \n",
       "Geneid                                                           \n",
       "ENSG00000227232.4               7.148844               3.092353  \n",
       "ENSG00000238009.2               6.561657               4.689938  \n",
       "ENSG00000237683.5              13.888541               9.167724  \n",
       "ENSG00000239906.1               8.496476               3.859058  \n",
       "ENSG00000241860.2               4.695760               5.231376  "
      ]
     },
     "execution_count": 8,
     "metadata": {},
     "output_type": "execute_result"
    }
   ],
   "source": [
    "tpm_filtered = tpm.loc[tpm.mean(axis=1) > 1]\n",
    "print tpm.shape\n",
    "print tpm_filtered.shape\n",
    "tpm_filtered.head()"
   ]
  },
  {
   "cell_type": "code",
   "execution_count": 9,
   "metadata": {
    "collapsed": false
   },
   "outputs": [
    {
     "data": {
      "text/plain": [
       "(array([  1.48060000e+04,   1.02000000e+02,   3.30000000e+01,\n",
       "          1.90000000e+01,   1.70000000e+01,   1.00000000e+00,\n",
       "          3.00000000e+00,   1.00000000e+00,   2.00000000e+00,\n",
       "          4.00000000e+00,   0.00000000e+00,   0.00000000e+00,\n",
       "          1.00000000e+00,   2.00000000e+00,   0.00000000e+00,\n",
       "          2.00000000e+00,   1.00000000e+00,   1.00000000e+00,\n",
       "          0.00000000e+00,   0.00000000e+00,   0.00000000e+00,\n",
       "          0.00000000e+00,   0.00000000e+00,   0.00000000e+00,\n",
       "          0.00000000e+00,   0.00000000e+00,   0.00000000e+00,\n",
       "          0.00000000e+00,   0.00000000e+00,   0.00000000e+00,\n",
       "          0.00000000e+00,   0.00000000e+00,   0.00000000e+00,\n",
       "          0.00000000e+00,   0.00000000e+00,   1.00000000e+00,\n",
       "          0.00000000e+00,   0.00000000e+00,   0.00000000e+00,\n",
       "          0.00000000e+00,   1.00000000e+00,   0.00000000e+00,\n",
       "          0.00000000e+00,   0.00000000e+00,   0.00000000e+00,\n",
       "          0.00000000e+00,   0.00000000e+00,   0.00000000e+00,\n",
       "          0.00000000e+00,   0.00000000e+00,   0.00000000e+00,\n",
       "          0.00000000e+00,   0.00000000e+00,   0.00000000e+00,\n",
       "          0.00000000e+00,   0.00000000e+00,   0.00000000e+00,\n",
       "          1.00000000e+00,   0.00000000e+00,   0.00000000e+00,\n",
       "          1.00000000e+00,   0.00000000e+00,   0.00000000e+00,\n",
       "          1.00000000e+00,   1.00000000e+00,   0.00000000e+00,\n",
       "          0.00000000e+00,   0.00000000e+00,   1.00000000e+00,\n",
       "          0.00000000e+00,   0.00000000e+00,   0.00000000e+00,\n",
       "          0.00000000e+00,   0.00000000e+00,   0.00000000e+00,\n",
       "          0.00000000e+00,   0.00000000e+00,   0.00000000e+00,\n",
       "          0.00000000e+00,   0.00000000e+00,   0.00000000e+00,\n",
       "          0.00000000e+00,   0.00000000e+00,   0.00000000e+00,\n",
       "          0.00000000e+00,   0.00000000e+00,   0.00000000e+00,\n",
       "          0.00000000e+00,   0.00000000e+00,   0.00000000e+00,\n",
       "          0.00000000e+00,   0.00000000e+00,   1.00000000e+00,\n",
       "          0.00000000e+00,   0.00000000e+00,   0.00000000e+00,\n",
       "          0.00000000e+00,   0.00000000e+00,   0.00000000e+00,\n",
       "          1.00000000e+00]),\n",
       " array([     0.        ,    452.47965437,    904.95930874,   1357.43896311,\n",
       "          1809.91861748,   2262.39827185,   2714.87792621,   3167.35758058,\n",
       "          3619.83723495,   4072.31688932,   4524.79654369,   4977.27619806,\n",
       "          5429.75585243,   5882.2355068 ,   6334.71516117,   6787.19481554,\n",
       "          7239.6744699 ,   7692.15412427,   8144.63377864,   8597.11343301,\n",
       "          9049.59308738,   9502.07274175,   9954.55239612,  10407.03205049,\n",
       "         10859.51170486,  11311.99135922,  11764.47101359,  12216.95066796,\n",
       "         12669.43032233,  13121.9099767 ,  13574.38963107,  14026.86928544,\n",
       "         14479.34893981,  14931.82859418,  15384.30824855,  15836.78790292,\n",
       "         16289.26755728,  16741.74721165,  17194.22686602,  17646.70652039,\n",
       "         18099.18617476,  18551.66582913,  19004.1454835 ,  19456.62513787,\n",
       "         19909.10479224,  20361.58444661,  20814.06410097,  21266.54375534,\n",
       "         21719.02340971,  22171.50306408,  22623.98271845,  23076.46237282,\n",
       "         23528.94202719,  23981.42168156,  24433.90133593,  24886.3809903 ,\n",
       "         25338.86064466,  25791.34029903,  26243.8199534 ,  26696.29960777,\n",
       "         27148.77926214,  27601.25891651,  28053.73857088,  28506.21822525,\n",
       "         28958.69787962,  29411.17753398,  29863.65718835,  30316.13684272,\n",
       "         30768.61649709,  31221.09615146,  31673.57580583,  32126.0554602 ,\n",
       "         32578.53511457,  33031.01476894,  33483.49442331,  33935.97407767,\n",
       "         34388.45373204,  34840.93338641,  35293.41304078,  35745.89269515,\n",
       "         36198.37234952,  36650.85200389,  37103.33165826,  37555.81131263,\n",
       "         38008.290967  ,  38460.77062137,  38913.25027573,  39365.7299301 ,\n",
       "         39818.20958447,  40270.68923884,  40723.16889321,  41175.64854758,\n",
       "         41628.12820195,  42080.60785632,  42533.08751069,  42985.56716505,\n",
       "         43438.04681942,  43890.52647379,  44343.00612816,  44795.48578253,\n",
       "         45247.9654369 ]),\n",
       " <a list of 100 Patch objects>)"
      ]
     },
     "execution_count": 9,
     "metadata": {},
     "output_type": "execute_result"
    },
    {
     "data": {
      "image/png": "[encoded data removed]",
      "text/plain": [
       "<matplotlib.figure.Figure at 0x2b0a7b23fa10>"
      ]
     },
     "metadata": {},
     "output_type": "display_data"
    }
   ],
   "source": [
    "plt.hist(tpm_filtered['u2af1_control_k562_rep1'], bins=100)"
   ]
  },
  {
   "cell_type": "code",
   "execution_count": 10,
   "metadata": {
    "collapsed": false
   },
   "outputs": [
    {
     "name": "stdout",
     "output_type": "stream",
     "text": [
      "(15004, 4)\n"
     ]
    },
    {
     "data": {
      "text/html": [
       "<div>\n",
       "<table border=\"1\" class=\"dataframe\">\n",
       "  <thead>\n",
       "    <tr style=\"text-align: right;\">\n",
       "      <th></th>\n",
       "      <th>u2af1_control_k562_rep1</th>\n",
       "      <th>u2af1_control_k562_rep2</th>\n",
       "      <th>u2af1_shrna_k562_rep1</th>\n",
       "      <th>u2af1_shrna_k562_rep2</th>\n",
       "    </tr>\n",
       "    <tr>\n",
       "      <th>Geneid</th>\n",
       "      <th></th>\n",
       "      <th></th>\n",
       "      <th></th>\n",
       "      <th></th>\n",
       "    </tr>\n",
       "  </thead>\n",
       "  <tbody>\n",
       "    <tr>\n",
       "      <th>ENSG00000227232.4</th>\n",
       "      <td>3.096999</td>\n",
       "      <td>3.050086</td>\n",
       "      <td>2.837710</td>\n",
       "      <td>1.628705</td>\n",
       "    </tr>\n",
       "    <tr>\n",
       "      <th>ENSG00000238009.2</th>\n",
       "      <td>2.887893</td>\n",
       "      <td>2.579786</td>\n",
       "      <td>2.714060</td>\n",
       "      <td>2.229569</td>\n",
       "    </tr>\n",
       "    <tr>\n",
       "      <th>ENSG00000237683.5</th>\n",
       "      <td>4.535308</td>\n",
       "      <td>4.804237</td>\n",
       "      <td>3.795823</td>\n",
       "      <td>3.196564</td>\n",
       "    </tr>\n",
       "    <tr>\n",
       "      <th>ENSG00000239906.1</th>\n",
       "      <td>2.809487</td>\n",
       "      <td>3.293627</td>\n",
       "      <td>3.086865</td>\n",
       "      <td>1.948249</td>\n",
       "    </tr>\n",
       "    <tr>\n",
       "      <th>ENSG00000241860.2</th>\n",
       "      <td>2.684125</td>\n",
       "      <td>2.784202</td>\n",
       "      <td>2.231359</td>\n",
       "      <td>2.387190</td>\n",
       "    </tr>\n",
       "  </tbody>\n",
       "</table>\n",
       "</div>"
      ],
      "text/plain": [
       "                   u2af1_control_k562_rep1  u2af1_control_k562_rep2  \\\n",
       "Geneid                                                                \n",
       "ENSG00000227232.4                 3.096999                 3.050086   \n",
       "ENSG00000238009.2                 2.887893                 2.579786   \n",
       "ENSG00000237683.5                 4.535308                 4.804237   \n",
       "ENSG00000239906.1                 2.809487                 3.293627   \n",
       "ENSG00000241860.2                 2.684125                 2.784202   \n",
       "\n",
       "                   u2af1_shrna_k562_rep1  u2af1_shrna_k562_rep2  \n",
       "Geneid                                                           \n",
       "ENSG00000227232.4               2.837710               1.628705  \n",
       "ENSG00000238009.2               2.714060               2.229569  \n",
       "ENSG00000237683.5               3.795823               3.196564  \n",
       "ENSG00000239906.1               3.086865               1.948249  \n",
       "ENSG00000241860.2               2.231359               2.387190  "
      ]
     },
     "execution_count": 10,
     "metadata": {},
     "output_type": "execute_result"
    }
   ],
   "source": [
    "tpm_filtered_log2 = np.log2(tpm_filtered)\n",
    "print tpm_filtered_log2.shape\n",
    "tpm_filtered_log2.head()"
   ]
  },
  {
   "cell_type": "code",
   "execution_count": 12,
   "metadata": {
    "collapsed": true
   },
   "outputs": [],
   "source": [
    "tpm_filtered_log2.replace(to_replace='-inf', value=0, inplace=True)"
   ]
  },
  {
   "cell_type": "code",
   "execution_count": 15,
   "metadata": {
    "collapsed": false
   },
   "outputs": [
    {
     "data": {
      "text/plain": [
       "<matplotlib.text.Text at 0x2b0a7d1c6310>"
      ]
     },
     "execution_count": 15,
     "metadata": {},
     "output_type": "execute_result"
    },
    {
     "data": {
      "image/png": "[encoded data removed]",
      "text/plain": [
       "<matplotlib.figure.Figure at 0x2b0a7cf56c10>"
      ]
     },
     "metadata": {},
     "output_type": "display_data"
    }
   ],
   "source": [
    "sns.set_style(\"white\")\n",
    "plt.hist(tpm_filtered_log2['u2af1_control_k562_rep1'],bins=100)\n",
    "plt.xlabel(\"log2 tpm\")\n",
    "plt.title(\"u2af1_control_k562_rep1\")\n",
    "plt.ylabel(\"count\")"
   ]
  },
  {
   "cell_type": "code",
   "execution_count": 16,
   "metadata": {
    "collapsed": false
   },
   "outputs": [
    {
     "data": {
      "text/html": [
       "<div>\n",
       "<table border=\"1\" class=\"dataframe\">\n",
       "  <thead>\n",
       "    <tr style=\"text-align: right;\">\n",
       "      <th></th>\n",
       "      <th>u2af1_control_k562_rep1</th>\n",
       "      <th>u2af1_control_k562_rep2</th>\n",
       "      <th>u2af1_shrna_k562_rep1</th>\n",
       "      <th>u2af1_shrna_k562_rep2</th>\n",
       "    </tr>\n",
       "    <tr>\n",
       "      <th>Geneid</th>\n",
       "      <th></th>\n",
       "      <th></th>\n",
       "      <th></th>\n",
       "      <th></th>\n",
       "    </tr>\n",
       "  </thead>\n",
       "  <tbody>\n",
       "    <tr>\n",
       "      <th>ENSG00000227232.4</th>\n",
       "      <td>3.096999</td>\n",
       "      <td>3.050086</td>\n",
       "      <td>2.837710</td>\n",
       "      <td>1.628705</td>\n",
       "    </tr>\n",
       "    <tr>\n",
       "      <th>ENSG00000238009.2</th>\n",
       "      <td>2.887893</td>\n",
       "      <td>2.579786</td>\n",
       "      <td>2.714060</td>\n",
       "      <td>2.229569</td>\n",
       "    </tr>\n",
       "    <tr>\n",
       "      <th>ENSG00000237683.5</th>\n",
       "      <td>4.535308</td>\n",
       "      <td>4.804237</td>\n",
       "      <td>3.795823</td>\n",
       "      <td>3.196564</td>\n",
       "    </tr>\n",
       "    <tr>\n",
       "      <th>ENSG00000239906.1</th>\n",
       "      <td>2.809487</td>\n",
       "      <td>3.293627</td>\n",
       "      <td>3.086865</td>\n",
       "      <td>1.948249</td>\n",
       "    </tr>\n",
       "    <tr>\n",
       "      <th>ENSG00000241860.2</th>\n",
       "      <td>2.684125</td>\n",
       "      <td>2.784202</td>\n",
       "      <td>2.231359</td>\n",
       "      <td>2.387190</td>\n",
       "    </tr>\n",
       "  </tbody>\n",
       "</table>\n",
       "</div>"
      ],
      "text/plain": [
       "                   u2af1_control_k562_rep1  u2af1_control_k562_rep2  \\\n",
       "Geneid                                                                \n",
       "ENSG00000227232.4                 3.096999                 3.050086   \n",
       "ENSG00000238009.2                 2.887893                 2.579786   \n",
       "ENSG00000237683.5                 4.535308                 4.804237   \n",
       "ENSG00000239906.1                 2.809487                 3.293627   \n",
       "ENSG00000241860.2                 2.684125                 2.784202   \n",
       "\n",
       "                   u2af1_shrna_k562_rep1  u2af1_shrna_k562_rep2  \n",
       "Geneid                                                           \n",
       "ENSG00000227232.4               2.837710               1.628705  \n",
       "ENSG00000238009.2               2.714060               2.229569  \n",
       "ENSG00000237683.5               3.795823               3.196564  \n",
       "ENSG00000239906.1               3.086865               1.948249  \n",
       "ENSG00000241860.2               2.231359               2.387190  "
      ]
     },
     "execution_count": 16,
     "metadata": {},
     "output_type": "execute_result"
    }
   ],
   "source": [
    "tpm_filtered_log2.head()"
   ]
  },
  {
   "cell_type": "code",
   "execution_count": 18,
   "metadata": {
    "collapsed": false
   },
   "outputs": [
    {
     "data": {
      "text/plain": [
       "Geneid\n",
       "ENSG00000227232.4    3.096999\n",
       "ENSG00000238009.2    2.887893\n",
       "ENSG00000237683.5    4.535308\n",
       "ENSG00000239906.1    2.809487\n",
       "ENSG00000241860.2    2.684125\n",
       "Name: u2af1_control_k562_rep1, dtype: float64"
      ]
     },
     "execution_count": 18,
     "metadata": {},
     "output_type": "execute_result"
    }
   ],
   "source": [
    "tpm_filtered_log2['u2af1_control_k562_rep1'].head()"
   ]
  },
  {
   "cell_type": "code",
   "execution_count": 23,
   "metadata": {
    "collapsed": false
   },
   "outputs": [
    {
     "data": {
      "image/png": "[encoded data removed]",
      "text/plain": [
       "<matplotlib.figure.Figure at 0x2b0a7d7c5910>"
      ]
     },
     "metadata": {},
     "output_type": "display_data"
    }
   ],
   "source": [
    "for i in tpm_filtered_log2.columns:\n",
    "    sns.kdeplot(tpm_filtered_log2[i], cumulative=True)"
   ]
  },
  {
   "cell_type": "code",
   "execution_count": null,
   "metadata": {
    "collapsed": true
   },
   "outputs": [],
   "source": []
  },
  {
   "cell_type": "code",
   "execution_count": null,
   "metadata": {
    "collapsed": true
   },
   "outputs": [],
   "source": []
  },
  {
   "cell_type": "code",
   "execution_count": 24,
   "metadata": {
    "collapsed": false
   },
   "outputs": [
    {
     "name": "stderr",
     "output_type": "stream",
     "text": [
      "/home/ecwheele/anaconda2/lib/python2.7/site-packages/matplotlib/collections.py:590: FutureWarning: elementwise comparison failed; returning scalar instead, but in the future will perform elementwise comparison\n",
      "  if self._edgecolors == str('face'):\n"
     ]
    },
    {
     "data": {
      "text/plain": [
       "<matplotlib.axes._subplots.AxesSubplot at 0x2b0a7d88b090>"
      ]
     },
     "execution_count": 24,
     "metadata": {},
     "output_type": "execute_result"
    },
    {
     "data": {
      "image/png": "[encoded data removed]",
      "text/plain": [
       "<matplotlib.figure.Figure at 0x2b0a7d88bb10>"
      ]
     },
     "metadata": {},
     "output_type": "display_data"
    }
   ],
   "source": [
    "sns.heatmap(tpm_filtered_log2.corr())"
   ]
  },
  {
   "cell_type": "code",
   "execution_count": 26,
   "metadata": {
    "collapsed": false
   },
   "outputs": [
    {
     "data": {
      "text/html": [
       "<div>\n",
       "<table border=\"1\" class=\"dataframe\">\n",
       "  <thead>\n",
       "    <tr style=\"text-align: right;\">\n",
       "      <th></th>\n",
       "      <th>baseMean</th>\n",
       "      <th>log2FoldChange</th>\n",
       "      <th>lfcSE</th>\n",
       "      <th>stat</th>\n",
       "      <th>pvalue</th>\n",
       "      <th>padj</th>\n",
       "    </tr>\n",
       "  </thead>\n",
       "  <tbody>\n",
       "    <tr>\n",
       "      <th>ENSG00000227232.4</th>\n",
       "      <td>76.103567</td>\n",
       "      <td>-0.271654</td>\n",
       "      <td>0.260239</td>\n",
       "      <td>-1.043861</td>\n",
       "      <td>0.296550</td>\n",
       "      <td>0.488727</td>\n",
       "    </tr>\n",
       "    <tr>\n",
       "      <th>ENSG00000243485.2</th>\n",
       "      <td>0.489094</td>\n",
       "      <td>0.006657</td>\n",
       "      <td>0.067318</td>\n",
       "      <td>0.098892</td>\n",
       "      <td>0.921224</td>\n",
       "      <td>NaN</td>\n",
       "    </tr>\n",
       "    <tr>\n",
       "      <th>ENSG00000237613.2</th>\n",
       "      <td>4.807826</td>\n",
       "      <td>0.069472</td>\n",
       "      <td>0.192485</td>\n",
       "      <td>0.360921</td>\n",
       "      <td>0.718159</td>\n",
       "      <td>NaN</td>\n",
       "    </tr>\n",
       "    <tr>\n",
       "      <th>ENSG00000238009.2</th>\n",
       "      <td>121.577867</td>\n",
       "      <td>0.045770</td>\n",
       "      <td>0.228508</td>\n",
       "      <td>0.200297</td>\n",
       "      <td>0.841248</td>\n",
       "      <td>0.912873</td>\n",
       "    </tr>\n",
       "    <tr>\n",
       "      <th>ENSG00000237683.5</th>\n",
       "      <td>264.095823</td>\n",
       "      <td>-0.719497</td>\n",
       "      <td>0.192332</td>\n",
       "      <td>-3.740919</td>\n",
       "      <td>0.000183</td>\n",
       "      <td>0.001822</td>\n",
       "    </tr>\n",
       "  </tbody>\n",
       "</table>\n",
       "</div>"
      ],
      "text/plain": [
       "                     baseMean  log2FoldChange     lfcSE      stat    pvalue  \\\n",
       "ENSG00000227232.4   76.103567       -0.271654  0.260239 -1.043861  0.296550   \n",
       "ENSG00000243485.2    0.489094        0.006657  0.067318  0.098892  0.921224   \n",
       "ENSG00000237613.2    4.807826        0.069472  0.192485  0.360921  0.718159   \n",
       "ENSG00000238009.2  121.577867        0.045770  0.228508  0.200297  0.841248   \n",
       "ENSG00000237683.5  264.095823       -0.719497  0.192332 -3.740919  0.000183   \n",
       "\n",
       "                       padj  \n",
       "ENSG00000227232.4  0.488727  \n",
       "ENSG00000243485.2       NaN  \n",
       "ENSG00000237613.2       NaN  \n",
       "ENSG00000238009.2  0.912873  \n",
       "ENSG00000237683.5  0.001822  "
      ]
     },
     "execution_count": 26,
     "metadata": {},
     "output_type": "execute_result"
    }
   ],
   "source": [
    "diff_expr_directory = '/home/ecwheele/shared_for_class/'\n",
    "diff_expr = pd.read_csv(diff_expr_directory+\"deseq2_results.csv\", index_col=0)\n",
    "diff_expr.head()"
   ]
  },
  {
   "cell_type": "code",
   "execution_count": 32,
   "metadata": {
    "collapsed": false
   },
   "outputs": [
    {
     "data": {
      "text/plain": [
       "ENSG00000227232.4    False\n",
       "ENSG00000243485.2    False\n",
       "ENSG00000237613.2    False\n",
       "ENSG00000238009.2    False\n",
       "ENSG00000237683.5    False\n",
       "ENSG00000268903.1    False\n",
       "ENSG00000239906.1    False\n",
       "ENSG00000241860.2    False\n",
       "ENSG00000222623.1    False\n",
       "ENSG00000228463.4    False\n",
       "ENSG00000237094.7    False\n",
       "ENSG00000250575.1    False\n",
       "ENSG00000231709.1    False\n",
       "ENSG00000239664.2    False\n",
       "ENSG00000230021.3    False\n",
       "ENSG00000225972.1    False\n",
       "ENSG00000225630.1    False\n",
       "ENSG00000237973.1    False\n",
       "ENSG00000229344.1    False\n",
       "ENSG00000240409.1    False\n",
       "ENSG00000248527.1    False\n",
       "ENSG00000198744.5    False\n",
       "ENSG00000224956.5    False\n",
       "ENSG00000235373.1    False\n",
       "ENSG00000223181.1    False\n",
       "ENSG00000240618.1    False\n",
       "ENSG00000228327.2    False\n",
       "ENSG00000237491.4    False\n",
       "ENSG00000230092.3    False\n",
       "ENSG00000269831.1    False\n",
       "                     ...  \n",
       "ENSG00000210100.1    False\n",
       "ENSG00000210107.1    False\n",
       "ENSG00000210112.1    False\n",
       "ENSG00000198763.3    False\n",
       "ENSG00000210117.1    False\n",
       "ENSG00000210127.1    False\n",
       "ENSG00000210135.1    False\n",
       "ENSG00000210140.1    False\n",
       "ENSG00000210144.1    False\n",
       "ENSG00000198804.2    False\n",
       "ENSG00000210151.2    False\n",
       "ENSG00000210154.1    False\n",
       "ENSG00000198712.1    False\n",
       "ENSG00000210156.1    False\n",
       "ENSG00000228253.1    False\n",
       "ENSG00000198899.2    False\n",
       "ENSG00000198938.2    False\n",
       "ENSG00000210164.1    False\n",
       "ENSG00000198840.2    False\n",
       "ENSG00000210174.1    False\n",
       "ENSG00000212907.2    False\n",
       "ENSG00000198886.2    False\n",
       "ENSG00000210176.1    False\n",
       "ENSG00000210191.1    False\n",
       "ENSG00000198786.2     True\n",
       "ENSG00000198695.2    False\n",
       "ENSG00000210194.1    False\n",
       "ENSG00000198727.2    False\n",
       "ENSG00000210195.2    False\n",
       "ENSG00000210196.2    False\n",
       "Name: log2FoldChange, dtype: bool"
      ]
     },
     "execution_count": 32,
     "metadata": {},
     "output_type": "execute_result"
    }
   ],
   "source": [
    "abs(diff_expr['log2FoldChange']) > 1"
   ]
  },
  {
   "cell_type": "code",
   "execution_count": 56,
   "metadata": {
    "collapsed": false
   },
   "outputs": [
    {
     "name": "stdout",
     "output_type": "stream",
     "text": [
      "(23299, 6)\n",
      "(66, 6)\n"
     ]
    },
    {
     "data": {
      "text/html": [
       "<div>\n",
       "<table border=\"1\" class=\"dataframe\">\n",
       "  <thead>\n",
       "    <tr style=\"text-align: right;\">\n",
       "      <th></th>\n",
       "      <th>baseMean</th>\n",
       "      <th>log2FoldChange</th>\n",
       "      <th>lfcSE</th>\n",
       "      <th>stat</th>\n",
       "      <th>pvalue</th>\n",
       "      <th>padj</th>\n",
       "    </tr>\n",
       "  </thead>\n",
       "  <tbody>\n",
       "    <tr>\n",
       "      <th>ENSG00000181773.6</th>\n",
       "      <td>193.153616</td>\n",
       "      <td>1.146644</td>\n",
       "      <td>0.195591</td>\n",
       "      <td>5.862471</td>\n",
       "      <td>4.560285e-09</td>\n",
       "      <td>2.207693e-07</td>\n",
       "    </tr>\n",
       "    <tr>\n",
       "      <th>ENSG00000117569.14</th>\n",
       "      <td>978.042857</td>\n",
       "      <td>1.115380</td>\n",
       "      <td>0.121322</td>\n",
       "      <td>9.193560</td>\n",
       "      <td>3.800499e-20</td>\n",
       "      <td>1.303680e-17</td>\n",
       "    </tr>\n",
       "    <tr>\n",
       "      <th>ENSG00000085465.11</th>\n",
       "      <td>108.439023</td>\n",
       "      <td>1.772500</td>\n",
       "      <td>0.234893</td>\n",
       "      <td>7.545996</td>\n",
       "      <td>4.488436e-14</td>\n",
       "      <td>6.339784e-12</td>\n",
       "    </tr>\n",
       "    <tr>\n",
       "      <th>ENSG00000260948.1</th>\n",
       "      <td>64.634373</td>\n",
       "      <td>1.076273</td>\n",
       "      <td>0.258168</td>\n",
       "      <td>4.168883</td>\n",
       "      <td>3.060956e-05</td>\n",
       "      <td>4.143162e-04</td>\n",
       "    </tr>\n",
       "    <tr>\n",
       "      <th>ENSG00000162733.12</th>\n",
       "      <td>131.914792</td>\n",
       "      <td>1.966151</td>\n",
       "      <td>0.226536</td>\n",
       "      <td>8.679180</td>\n",
       "      <td>3.986315e-18</td>\n",
       "      <td>9.970772e-16</td>\n",
       "    </tr>\n",
       "  </tbody>\n",
       "</table>\n",
       "</div>"
      ],
      "text/plain": [
       "                      baseMean  log2FoldChange     lfcSE      stat  \\\n",
       "ENSG00000181773.6   193.153616        1.146644  0.195591  5.862471   \n",
       "ENSG00000117569.14  978.042857        1.115380  0.121322  9.193560   \n",
       "ENSG00000085465.11  108.439023        1.772500  0.234893  7.545996   \n",
       "ENSG00000260948.1    64.634373        1.076273  0.258168  4.168883   \n",
       "ENSG00000162733.12  131.914792        1.966151  0.226536  8.679180   \n",
       "\n",
       "                          pvalue          padj  \n",
       "ENSG00000181773.6   4.560285e-09  2.207693e-07  \n",
       "ENSG00000117569.14  3.800499e-20  1.303680e-17  \n",
       "ENSG00000085465.11  4.488436e-14  6.339784e-12  \n",
       "ENSG00000260948.1   3.060956e-05  4.143162e-04  \n",
       "ENSG00000162733.12  3.986315e-18  9.970772e-16  "
      ]
     },
     "execution_count": 56,
     "metadata": {},
     "output_type": "execute_result"
    }
   ],
   "source": [
    "#when filtering link things together with & for true and true, | for or \n",
    "\n",
    "diff_expr_filt = diff_expr.loc[(diff_expr['padj'] < 0.05) & (diff_expr['log2FoldChange'] > 1)]\n",
    "print diff_expr.shape\n",
    "print diff_expr_filt.shape\n",
    "diff_expr_filt.head()"
   ]
  },
  {
   "cell_type": "code",
   "execution_count": 57,
   "metadata": {
    "collapsed": false
   },
   "outputs": [
    {
     "name": "stdout",
     "output_type": "stream",
     "text": [
      "66\n"
     ]
    }
   ],
   "source": [
    "diff_expressed_genes = diff_expr_filt.index\n",
    "print len(diff_expressed_genes)"
   ]
  },
  {
   "cell_type": "code",
   "execution_count": 62,
   "metadata": {
    "collapsed": false
   },
   "outputs": [
    {
     "name": "stdout",
     "output_type": "stream",
     "text": [
      "(66, 4)\n"
     ]
    },
    {
     "data": {
      "text/html": [
       "<div>\n",
       "<table border=\"1\" class=\"dataframe\">\n",
       "  <thead>\n",
       "    <tr style=\"text-align: right;\">\n",
       "      <th></th>\n",
       "      <th>u2af1_control_k562_rep1</th>\n",
       "      <th>u2af1_control_k562_rep2</th>\n",
       "      <th>u2af1_shrna_k562_rep1</th>\n",
       "      <th>u2af1_shrna_k562_rep2</th>\n",
       "    </tr>\n",
       "  </thead>\n",
       "  <tbody>\n",
       "    <tr>\n",
       "      <th>ENSG00000181773.6</th>\n",
       "      <td>3.408290</td>\n",
       "      <td>3.323333</td>\n",
       "      <td>4.411437</td>\n",
       "      <td>4.395627</td>\n",
       "    </tr>\n",
       "    <tr>\n",
       "      <th>ENSG00000117569.14</th>\n",
       "      <td>3.176005</td>\n",
       "      <td>3.205460</td>\n",
       "      <td>4.004884</td>\n",
       "      <td>4.098079</td>\n",
       "    </tr>\n",
       "    <tr>\n",
       "      <th>ENSG00000085465.11</th>\n",
       "      <td>1.102413</td>\n",
       "      <td>1.359688</td>\n",
       "      <td>3.327952</td>\n",
       "      <td>3.262237</td>\n",
       "    </tr>\n",
       "    <tr>\n",
       "      <th>ENSG00000260948.1</th>\n",
       "      <td>1.384989</td>\n",
       "      <td>1.858241</td>\n",
       "      <td>3.040878</td>\n",
       "      <td>2.886321</td>\n",
       "    </tr>\n",
       "    <tr>\n",
       "      <th>ENSG00000162733.12</th>\n",
       "      <td>-0.700165</td>\n",
       "      <td>-0.280352</td>\n",
       "      <td>1.812502</td>\n",
       "      <td>1.708974</td>\n",
       "    </tr>\n",
       "  </tbody>\n",
       "</table>\n",
       "</div>"
      ],
      "text/plain": [
       "                    u2af1_control_k562_rep1  u2af1_control_k562_rep2  \\\n",
       "ENSG00000181773.6                  3.408290                 3.323333   \n",
       "ENSG00000117569.14                 3.176005                 3.205460   \n",
       "ENSG00000085465.11                 1.102413                 1.359688   \n",
       "ENSG00000260948.1                  1.384989                 1.858241   \n",
       "ENSG00000162733.12                -0.700165                -0.280352   \n",
       "\n",
       "                    u2af1_shrna_k562_rep1  u2af1_shrna_k562_rep2  \n",
       "ENSG00000181773.6                4.411437               4.395627  \n",
       "ENSG00000117569.14               4.004884               4.098079  \n",
       "ENSG00000085465.11               3.327952               3.262237  \n",
       "ENSG00000260948.1                3.040878               2.886321  \n",
       "ENSG00000162733.12               1.812502               1.708974  "
      ]
     },
     "execution_count": 62,
     "metadata": {},
     "output_type": "execute_result"
    }
   ],
   "source": [
    "tpm_to_cluster = tpm_filtered_log2.loc[diff_expressed_genes]\n",
    "print tpm_to_cluster.shape\n",
    "tpm_to_cluster.head()"
   ]
  },
  {
   "cell_type": "code",
   "execution_count": 63,
   "metadata": {
    "collapsed": true
   },
   "outputs": [],
   "source": [
    "tpm_to_cluster.dropna(inplace=True)"
   ]
  },
  {
   "cell_type": "code",
   "execution_count": 59,
   "metadata": {
    "collapsed": true
   },
   "outputs": [],
   "source": [
    "#tpm_to_cluster.fillna(value = 0, inplace=True)"
   ]
  },
  {
   "cell_type": "code",
   "execution_count": 64,
   "metadata": {
    "collapsed": false
   },
   "outputs": [
    {
     "data": {
      "text/plain": [
       "<seaborn.matrix.ClusterGrid at 0x2b0a7e49dc90>"
      ]
     },
     "execution_count": 64,
     "metadata": {},
     "output_type": "execute_result"
    },
    {
     "data": {
      "image/png": "[encoded data removed]",
      "text/plain": [
       "<matplotlib.figure.Figure at 0x2b0a7e49de10>"
      ]
     },
     "metadata": {},
     "output_type": "display_data"
    }
   ],
   "source": [
    "sns.clustermap(tpm_to_cluster)"
   ]
  },
  {
   "cell_type": "code",
   "execution_count": null,
   "metadata": {
    "collapsed": true
   },
   "outputs": [],
   "source": []
  },
  {
   "cell_type": "code",
   "execution_count": null,
   "metadata": {
    "collapsed": true
   },
   "outputs": [],
   "source": []
  }
 ],
 "metadata": {
  "kernelspec": {
   "display_name": "Python 2",
   "language": "python",
   "name": "python2"
  },
  "language_info": {
   "codemirror_mode": {
    "name": "ipython",
    "version": 2
   },
   "file_extension": ".py",
   "mimetype": "text/x-python",
   "name": "python",
   "nbconvert_exporter": "python",
   "pygments_lexer": "ipython2",
   "version": "2.7.12"
  }
 },
 "nbformat": 4,
 "nbformat_minor": 0
}
