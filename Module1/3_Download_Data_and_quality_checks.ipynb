{
 "cells": [
  {
   "cell_type": "markdown",
   "metadata": {},
   "source": [
    "# Download fastq files from the web and run fastqc to look at the quality of the sequencing run"
   ]
  },
  {
   "cell_type": "markdown",
   "metadata": {},
   "source": [
    "**Step 1: Download dataset**\n",
    "\n",
    "\n",
    "First we will download the data from the [ENCODE](https://www.encodeproject.org/) website. There are many different experiments and datasets available here. You can download both raw and fully processed data. For our learning purposes, we will download the raw data (fastq). Let's take a look at knockdown of U2AF1 in K562 cells (data [here](https://www.encodeproject.org/experiments/ENCSR342EDG/)). When you have found the link to the fastq files, right click on it and select \"copy Link Address\". \n",
    "\n",
    "Then on TSCC, put your file in the proper directory by first moving into the directory where you would like your data to end up, and then pasting the link you have copied after the \"wget\" command. (Remember this is what we did when we downloaded Anaconda). Keep in mind that this data is paired-end, so there are two reads per dataset (R1 and R2). So you will need to download two files. \n",
    "\n",
    "    cd ~/raw_data/\n",
    "    \n",
    "Let's make a directory in raw_data specifically for the raw data for this project. \n",
    "\n",
    "    mkdir ~/raw_data/u2af1_shrna/\n",
    "    \n",
    "Then move into that directory before running wget. REMEMBER TO USE TABS TO EASILY MOVE BETWEEN DIRECTORIES. \n",
    "\n",
    "    cd ~/raw_data/u2af1_shrna/\n",
    "\n",
    "    wget https://www.encodeproject.org/files/ENCFF670ZRN/@@download/ENCFF670ZRN.fastq.gz\n",
    "    \n",
    "    wget https://www.encodeproject.org/files/ENCFF049UBT/@@download/ENCFF049UBT.fastq.gz    \n",
    "*NOTE* - to avoid a backlog on the head node with all of us downloading the same datasets, please make a softlink to a file that I have already downloaded and stored here:\n",
    "\n",
    "    /projects/ps-yeolab/biom262_2017/\n",
    "    \n",
    "The files are named:\n",
    "    \n",
    "    U2AF1_control_k562_rep1_R1.fastq.gz  \n",
    "    U2AF1_control_k562_rep1_R2.fastq.gz\n",
    "    U2AF1_control_k562_rep2_R1.fastq.gz\n",
    "    U2AF1_control_k562_rep2_R2.fastq.gz  \n",
    "    \n",
    "    U2AF1_shrna_k562_rep1_R1.fastq.gz    \n",
    "    U2AF1_shrna_k562_rep1_R2.fastq.gz\n",
    "    U2AF1_shrna_k562_rep2_R1.fastq.gz\n",
    "    U2AF1_shrna_k562_rep2_R2.fastq.gz\n",
    "      \n",
    "You can use the star character to softlink multiple files with the same prefix at once. Example:\n",
    "\n",
    "    ln -s /projects/ps-yeolab/biom262_2017/U2AF1* ~/raw_data/u2af1_shrna/"
   ]
  },
  {
   "cell_type": "markdown",
   "metadata": {},
   "source": [
    "**Step 2: Run fastqc to check the sequencing quality of the reads that you downloaded. Remember that we installed fastqc with:**\n",
    "\n",
    "    conda install -c bioconda fastqc\n",
    "    \n",
    "You can see that it has installed properly with:\n",
    "\n",
    "    which fastqc\n",
    "    \n",
    "The output should be something like:\n",
    "\n",
    "    ~/anaconda2/bin/fastqc\n",
    "    \n",
    "*Q. Why is it finding the program in this location?*\n",
    "\n",
    "Let's make a directory in projects for our new lin28b_shrna project, and make another directory within that folder for the restuls of our fastqc run.\n",
    "\n",
    "    mkdir ~/projects/u2af1_shrna/\n",
    "    mkdir ~/projects/u2af1_shrna/fastqc/\n",
    "\n",
    "Run fastqc to check the quality of your sequencing results. Remember to specify the full path of where your datasets are stored and where you want the processed data to end up. You will have to do this one one file at a time. REMEMBER TO USE TABS TO AVOID TYPOS! The -o argument is used to specify the location of the output files.\n",
    "\n",
    "    fastqc U2AF1_control_k562_rep1_R1.fastq.gz -o ~/projects/u2af1_shrna/fastqc/\n",
    "    \n"
   ]
  },
  {
   "cell_type": "markdown",
   "metadata": {},
   "source": [
    "**Step 3: View your output files in a web browser:**\n",
    "\n",
    "Using SSHFS, double click on the html files in the output folder and view the results in a web browser."
   ]
  }
 ],
 "metadata": {
  "kernelspec": {
   "display_name": "Python 2",
   "language": "python",
   "name": "python2"
  },
  "language_info": {
   "codemirror_mode": {
    "name": "ipython",
    "version": 2
   },
   "file_extension": ".py",
   "mimetype": "text/x-python",
   "name": "python",
   "nbconvert_exporter": "python",
   "pygments_lexer": "ipython2",
   "version": "2.7.12"
  }
 },
 "nbformat": 4,
 "nbformat_minor": 0
}
