{
 "cells": [
  {
   "cell_type": "code",
   "execution_count": 1,
   "metadata": {
    "collapsed": true
   },
   "outputs": [],
   "source": [
    "import pandas as pd"
   ]
  },
  {
   "cell_type": "code",
   "execution_count": 2,
   "metadata": {
    "collapsed": false
   },
   "outputs": [
    {
     "data": {
      "text/html": [
       "<div>\n",
       "<table border=\"1\" class=\"dataframe\">\n",
       "  <thead>\n",
       "    <tr style=\"text-align: right;\">\n",
       "      <th></th>\n",
       "      <th>Length</th>\n",
       "      <th>u2af1_control_k562_rep1</th>\n",
       "      <th>u2af1_control_k562_rep2</th>\n",
       "      <th>u2af1_shrna_k562_rep1</th>\n",
       "      <th>u2af1_shrna_k562_rep2</th>\n",
       "    </tr>\n",
       "    <tr>\n",
       "      <th>Geneid</th>\n",
       "      <th></th>\n",
       "      <th></th>\n",
       "      <th></th>\n",
       "      <th></th>\n",
       "      <th></th>\n",
       "    </tr>\n",
       "  </thead>\n",
       "  <tbody>\n",
       "    <tr>\n",
       "      <th>ENSG00000223972.4</th>\n",
       "      <td>1756</td>\n",
       "      <td>0</td>\n",
       "      <td>1</td>\n",
       "      <td>0</td>\n",
       "      <td>0</td>\n",
       "    </tr>\n",
       "    <tr>\n",
       "      <th>ENSG00000227232.4</th>\n",
       "      <td>2073</td>\n",
       "      <td>94</td>\n",
       "      <td>103</td>\n",
       "      <td>81</td>\n",
       "      <td>36</td>\n",
       "    </tr>\n",
       "    <tr>\n",
       "      <th>ENSG00000243485.2</th>\n",
       "      <td>1021</td>\n",
       "      <td>0</td>\n",
       "      <td>1</td>\n",
       "      <td>0</td>\n",
       "      <td>1</td>\n",
       "    </tr>\n",
       "    <tr>\n",
       "      <th>ENSG00000237613.2</th>\n",
       "      <td>1219</td>\n",
       "      <td>5</td>\n",
       "      <td>4</td>\n",
       "      <td>5</td>\n",
       "      <td>5</td>\n",
       "    </tr>\n",
       "    <tr>\n",
       "      <th>ENSG00000268020.2</th>\n",
       "      <td>947</td>\n",
       "      <td>0</td>\n",
       "      <td>0</td>\n",
       "      <td>0</td>\n",
       "      <td>0</td>\n",
       "    </tr>\n",
       "  </tbody>\n",
       "</table>\n",
       "</div>"
      ],
      "text/plain": [
       "                   Length  u2af1_control_k562_rep1  u2af1_control_k562_rep2  \\\n",
       "Geneid                                                                        \n",
       "ENSG00000223972.4    1756                        0                        1   \n",
       "ENSG00000227232.4    2073                       94                      103   \n",
       "ENSG00000243485.2    1021                        0                        1   \n",
       "ENSG00000237613.2    1219                        5                        4   \n",
       "ENSG00000268020.2     947                        0                        0   \n",
       "\n",
       "                   u2af1_shrna_k562_rep1  u2af1_shrna_k562_rep2  \n",
       "Geneid                                                           \n",
       "ENSG00000223972.4                      0                      0  \n",
       "ENSG00000227232.4                     81                     36  \n",
       "ENSG00000243485.2                      0                      1  \n",
       "ENSG00000237613.2                      5                      5  \n",
       "ENSG00000268020.2                      0                      0  "
      ]
     },
     "execution_count": 2,
     "metadata": {},
     "output_type": "execute_result"
    }
   ],
   "source": [
    "counts_dir = '/projects/ps-yeolab/biom262_2017/featurecounts/'\n",
    "counts = pd.read_table(counts_dir+\"all_counts.txt\", index_col=0,comment=\"#\")\n",
    "counts.drop(['Chr','Start','End','Strand'],axis=1, inplace=True)\n",
    "counts = counts.rename(columns = {\"u2af1_control_k562_rep1.sorted.bam\":\"u2af1_control_k562_rep1\",\n",
    "                  \"u2af1_control_k562_rep2.sorted.bam\":\"u2af1_control_k562_rep2\",\n",
    "                  \"u2af1_shrna_k562_rep1.sorted.bam\":\"u2af1_shrna_k562_rep1\",\n",
    "                  \"u2af1_shrna_k562_rep2.sorted.bam\":\"u2af1_shrna_k562_rep2\"})\n",
    "counts.head()"
   ]
  },
  {
   "cell_type": "code",
   "execution_count": 3,
   "metadata": {
    "collapsed": true
   },
   "outputs": [],
   "source": [
    "#input dataframe must have Length as first column\n",
    "\n",
    "def calculate_tpm(counts_table):\n",
    "    rpk = counts_table.ix[:,1:].divide((counts_table['Length']/1000),axis=0)\n",
    "    tpm = rpk.divide(rpk.sum(axis=0)/(10**6))\n",
    "    return tpm"
   ]
  },
  {
   "cell_type": "code",
   "execution_count": 4,
   "metadata": {
    "collapsed": true
   },
   "outputs": [],
   "source": [
    "#input dataframe must have length as first column\n",
    "\n",
    "def calculate_rpkm(counts_table):\n",
    "    rpm = counts_table.ix[:,1:].divide(counts_table.ix[:,1:].sum(axis=0)/(10**6))\n",
    "    rpm = rpm.join(counts_table['Length']/1000, how=\"left\")\n",
    "    rpkm = rpm.ix[:,:-1].divide(rpm['Length'], axis=0)\n",
    "    return rpkm"
   ]
  },
  {
   "cell_type": "code",
   "execution_count": 5,
   "metadata": {
    "collapsed": false
   },
   "outputs": [
    {
     "name": "stdout",
     "output_type": "stream",
     "text": [
      "(57820, 4)\n"
     ]
    },
    {
     "data": {
      "text/html": [
       "<div>\n",
       "<table border=\"1\" class=\"dataframe\">\n",
       "  <thead>\n",
       "    <tr style=\"text-align: right;\">\n",
       "      <th></th>\n",
       "      <th>u2af1_control_k562_rep1</th>\n",
       "      <th>u2af1_control_k562_rep2</th>\n",
       "      <th>u2af1_shrna_k562_rep1</th>\n",
       "      <th>u2af1_shrna_k562_rep2</th>\n",
       "    </tr>\n",
       "    <tr>\n",
       "      <th>Geneid</th>\n",
       "      <th></th>\n",
       "      <th></th>\n",
       "      <th></th>\n",
       "      <th></th>\n",
       "    </tr>\n",
       "  </thead>\n",
       "  <tbody>\n",
       "    <tr>\n",
       "      <th>ENSG00000223972.4</th>\n",
       "      <td>0.000000</td>\n",
       "      <td>0.094930</td>\n",
       "      <td>0.000000</td>\n",
       "      <td>0.000000</td>\n",
       "    </tr>\n",
       "    <tr>\n",
       "      <th>ENSG00000227232.4</th>\n",
       "      <td>8.556370</td>\n",
       "      <td>8.282616</td>\n",
       "      <td>7.148844</td>\n",
       "      <td>3.092353</td>\n",
       "    </tr>\n",
       "    <tr>\n",
       "      <th>ENSG00000243485.2</th>\n",
       "      <td>0.000000</td>\n",
       "      <td>0.163269</td>\n",
       "      <td>0.000000</td>\n",
       "      <td>0.174405</td>\n",
       "    </tr>\n",
       "    <tr>\n",
       "      <th>ENSG00000237613.2</th>\n",
       "      <td>0.773976</td>\n",
       "      <td>0.546998</td>\n",
       "      <td>0.750441</td>\n",
       "      <td>0.730385</td>\n",
       "    </tr>\n",
       "    <tr>\n",
       "      <th>ENSG00000268020.2</th>\n",
       "      <td>0.000000</td>\n",
       "      <td>0.000000</td>\n",
       "      <td>0.000000</td>\n",
       "      <td>0.000000</td>\n",
       "    </tr>\n",
       "  </tbody>\n",
       "</table>\n",
       "</div>"
      ],
      "text/plain": [
       "                   u2af1_control_k562_rep1  u2af1_control_k562_rep2  \\\n",
       "Geneid                                                                \n",
       "ENSG00000223972.4                 0.000000                 0.094930   \n",
       "ENSG00000227232.4                 8.556370                 8.282616   \n",
       "ENSG00000243485.2                 0.000000                 0.163269   \n",
       "ENSG00000237613.2                 0.773976                 0.546998   \n",
       "ENSG00000268020.2                 0.000000                 0.000000   \n",
       "\n",
       "                   u2af1_shrna_k562_rep1  u2af1_shrna_k562_rep2  \n",
       "Geneid                                                           \n",
       "ENSG00000223972.4               0.000000               0.000000  \n",
       "ENSG00000227232.4               7.148844               3.092353  \n",
       "ENSG00000243485.2               0.000000               0.174405  \n",
       "ENSG00000237613.2               0.750441               0.730385  \n",
       "ENSG00000268020.2               0.000000               0.000000  "
      ]
     },
     "execution_count": 5,
     "metadata": {},
     "output_type": "execute_result"
    }
   ],
   "source": [
    "tpm = calculate_tpm(counts)\n",
    "print tpm.shape\n",
    "tpm.head()"
   ]
  },
  {
   "cell_type": "code",
   "execution_count": 6,
   "metadata": {
    "collapsed": true
   },
   "outputs": [],
   "source": [
    "rpkm = calculate_rpkm(counts)"
   ]
  },
  {
   "cell_type": "code",
   "execution_count": null,
   "metadata": {
    "collapsed": true
   },
   "outputs": [],
   "source": [
    "save_dir = \"/dir/to/save/output\"\n",
    "rpkm.to_csv(save_dir+\"rpkm_u2af1_shrna.csv\")\n",
    "tpm.to_csv(save_dir+\"tpm_u2af1_shrna.csv\")"
   ]
  }
 ],
 "metadata": {
  "kernelspec": {
   "display_name": "Python 2",
   "language": "python",
   "name": "python2"
  },
  "language_info": {
   "codemirror_mode": {
    "name": "ipython",
    "version": 2
   },
   "file_extension": ".py",
   "mimetype": "text/x-python",
   "name": "python",
   "nbconvert_exporter": "python",
   "pygments_lexer": "ipython2",
   "version": "2.7.12"
  }
 },
 "nbformat": 4,
 "nbformat_minor": 0
}
