{
 "cells": [
  {
   "cell_type": "markdown",
   "metadata": {},
   "source": [
    "# Week 4 Homework -  rMATS"
   ]
  },
  {
   "cell_type": "markdown",
   "metadata": {},
   "source": [
    "**1) Run rMATS**\n",
    "\n",
    "Use the 4 u2af1 shrna (2 control, 2 knockdown) bam files that we have been working with to run rMATS. Give me the directory of your output with read and execute permissions. \n",
    "\n",
    "**2) Interpret your results**\n",
    "\n",
    "Summarize your results for your splicing output. Did you use reads on target exon plus junction reads or junction reads only? Feel free to use either, just explain which one you are using and what that means in terms of how the information is used. How many events pass your significance cutoffs for each of the splice types? What significance cutoffs did you choose and why? \n",
    "\n",
    "**3) Plot it**\n",
    "\n",
    "Make a histogram of your inclusion level differences for the events that you called significant. Make one for each type of splicing event (5 total). Make sure to label both of your axes and give your plot a useful title.\n",
    "\n",
    "**4) Submit**\n",
    "\n",
    "Put all of this information into a word file. You can copy and paste your figures directly from jupyter into word (there are better ways to do this for high quality publication figures, but we are not going to worry about that here). Submit your document to Emily and Jamison by 9AM on Tuesday morning (Feb 7). Save your file with the format lastname_firstname_week4_homework"
   ]
  },
  {
   "cell_type": "code",
   "execution_count": null,
   "metadata": {
    "collapsed": true
   },
   "outputs": [],
   "source": []
  }
 ],
 "metadata": {
  "kernelspec": {
   "display_name": "Python 2",
   "language": "python",
   "name": "python2"
  },
  "language_info": {
   "codemirror_mode": {
    "name": "ipython",
    "version": 2
   },
   "file_extension": ".py",
   "mimetype": "text/x-python",
   "name": "python",
   "nbconvert_exporter": "python",
   "pygments_lexer": "ipython2",
   "version": "2.7.12"
  }
 },
 "nbformat": 4,
 "nbformat_minor": 0
}
