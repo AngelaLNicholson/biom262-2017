{
 "cells": [
  {
   "cell_type": "markdown",
   "metadata": {},
   "source": [
    "**Week3 homework assignment**\n",
    "\n",
    "1) Give me permission to read your output files from featurecounts. I am not a member of your group, so make sure you adjust the file permissions on your output from featurecounts to be read by anyone in the whole world.\n",
    "\n",
    "2) Go through the code tutorial that is posted on the website and learn some useful python commands and how to calculate RPKM! Once you understand the code demo, recreate it on your own data. \n",
    "\n",
    "3) Calculate RPKM using the python commands you have learned in a jupyter notebook (yes, you can essentially copy and paste the commands from the code demo, but clean it up and get rid of all my silly comments. Save your output somewhere on TSCC.\n",
    "\n",
    "4) Use your new skills to calculate TPM from this counts matrix. For submission purposes, please put code for this in the same notebook that you made to calculate rpkm. Use headers to separate your analyses. Start each analysis (rpkm and tpm) from the very beginning so if I were to run your code (and I will) from start to bottom for each section, it will finish completely with no errors. You make a header by changing a block from \"code\" to \"heading\" using the drop down in the toolbar at the top.\n",
    "\n",
    "5) Download your file as .ipynb, use sshfs to transfer it off of TSCC and submit it in an email to both Emily and Jamison. Please use the name format: lastname_firstname_week3_homework.ipynb\n",
    "\n",
    "Reminder Emily will be holding office hours Monday from 9-10 AM in SCRM room 3318."
   ]
  },
  {
   "cell_type": "code",
   "execution_count": null,
   "metadata": {
    "collapsed": true
   },
   "outputs": [],
   "source": []
  }
 ],
 "metadata": {
  "kernelspec": {
   "display_name": "Python 2",
   "language": "python",
   "name": "python2"
  },
  "language_info": {
   "codemirror_mode": {
    "name": "ipython",
    "version": 2
   },
   "file_extension": ".py",
   "mimetype": "text/x-python",
   "name": "python",
   "nbconvert_exporter": "python",
   "pygments_lexer": "ipython2",
   "version": "2.7.12"
  }
 },
 "nbformat": 4,
 "nbformat_minor": 0
}
