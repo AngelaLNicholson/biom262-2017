{
 "cells": [
  {
   "cell_type": "code",
   "execution_count": 1,
   "metadata": {
    "collapsed": true
   },
   "outputs": [],
   "source": [
    "# Import the packages we will be using and give them a keyboard shortcut.\n",
    "# If you get an error that says package does not exist, go back to \n",
    "# your TSCC terminal and type conda install packagename Once it finishes, \n",
    "# restart your kernel with the arrow button above and try again. \n",
    "\n",
    "import pandas as pd"
   ]
  },
  {
   "cell_type": "code",
   "execution_count": 2,
   "metadata": {
    "collapsed": false
   },
   "outputs": [
    {
     "name": "stdout",
     "output_type": "stream",
     "text": [
      "(57820, 9)\n"
     ]
    },
    {
     "data": {
      "text/html": [
       "<div>\n",
       "<table border=\"1\" class=\"dataframe\">\n",
       "  <thead>\n",
       "    <tr style=\"text-align: right;\">\n",
       "      <th></th>\n",
       "      <th>Chr</th>\n",
       "      <th>Start</th>\n",
       "      <th>End</th>\n",
       "      <th>Strand</th>\n",
       "      <th>Length</th>\n",
       "      <th>u2af1_control_k562_rep1.sorted.bam</th>\n",
       "      <th>u2af1_control_k562_rep2.sorted.bam</th>\n",
       "      <th>u2af1_shrna_k562_rep1.sorted.bam</th>\n",
       "      <th>u2af1_shrna_k562_rep2.sorted.bam</th>\n",
       "    </tr>\n",
       "    <tr>\n",
       "      <th>Geneid</th>\n",
       "      <th></th>\n",
       "      <th></th>\n",
       "      <th></th>\n",
       "      <th></th>\n",
       "      <th></th>\n",
       "      <th></th>\n",
       "      <th></th>\n",
       "      <th></th>\n",
       "      <th></th>\n",
       "    </tr>\n",
       "  </thead>\n",
       "  <tbody>\n",
       "    <tr>\n",
       "      <th>ENSG00000223972.4</th>\n",
       "      <td>chr1;chr1;chr1;chr1</td>\n",
       "      <td>11869;12595;12975;13221</td>\n",
       "      <td>12227;12721;13052;14412</td>\n",
       "      <td>+;+;+;+</td>\n",
       "      <td>1756</td>\n",
       "      <td>0</td>\n",
       "      <td>1</td>\n",
       "      <td>0</td>\n",
       "      <td>0</td>\n",
       "    </tr>\n",
       "    <tr>\n",
       "      <th>ENSG00000227232.4</th>\n",
       "      <td>chr1;chr1;chr1;chr1;chr1;chr1;chr1;chr1;chr1;c...</td>\n",
       "      <td>14363;14970;15796;16607;16854;17233;17498;1760...</td>\n",
       "      <td>14829;15038;15947;16765;17055;17368;17504;1774...</td>\n",
       "      <td>-;-;-;-;-;-;-;-;-;-;-;-;-</td>\n",
       "      <td>2073</td>\n",
       "      <td>94</td>\n",
       "      <td>103</td>\n",
       "      <td>81</td>\n",
       "      <td>36</td>\n",
       "    </tr>\n",
       "    <tr>\n",
       "      <th>ENSG00000243485.2</th>\n",
       "      <td>chr1;chr1;chr1</td>\n",
       "      <td>29554;30267;30976</td>\n",
       "      <td>30039;30667;31109</td>\n",
       "      <td>+;+;+</td>\n",
       "      <td>1021</td>\n",
       "      <td>0</td>\n",
       "      <td>1</td>\n",
       "      <td>0</td>\n",
       "      <td>1</td>\n",
       "    </tr>\n",
       "    <tr>\n",
       "      <th>ENSG00000237613.2</th>\n",
       "      <td>chr1;chr1;chr1</td>\n",
       "      <td>34554;35245;35721</td>\n",
       "      <td>35174;35481;36081</td>\n",
       "      <td>-;-;-</td>\n",
       "      <td>1219</td>\n",
       "      <td>5</td>\n",
       "      <td>4</td>\n",
       "      <td>5</td>\n",
       "      <td>5</td>\n",
       "    </tr>\n",
       "    <tr>\n",
       "      <th>ENSG00000268020.2</th>\n",
       "      <td>chr1;chr1</td>\n",
       "      <td>52473;54830</td>\n",
       "      <td>53312;54936</td>\n",
       "      <td>+;+</td>\n",
       "      <td>947</td>\n",
       "      <td>0</td>\n",
       "      <td>0</td>\n",
       "      <td>0</td>\n",
       "      <td>0</td>\n",
       "    </tr>\n",
       "  </tbody>\n",
       "</table>\n",
       "</div>"
      ],
      "text/plain": [
       "                                                                 Chr  \\\n",
       "Geneid                                                                 \n",
       "ENSG00000223972.4                                chr1;chr1;chr1;chr1   \n",
       "ENSG00000227232.4  chr1;chr1;chr1;chr1;chr1;chr1;chr1;chr1;chr1;c...   \n",
       "ENSG00000243485.2                                     chr1;chr1;chr1   \n",
       "ENSG00000237613.2                                     chr1;chr1;chr1   \n",
       "ENSG00000268020.2                                          chr1;chr1   \n",
       "\n",
       "                                                               Start  \\\n",
       "Geneid                                                                 \n",
       "ENSG00000223972.4                            11869;12595;12975;13221   \n",
       "ENSG00000227232.4  14363;14970;15796;16607;16854;17233;17498;1760...   \n",
       "ENSG00000243485.2                                  29554;30267;30976   \n",
       "ENSG00000237613.2                                  34554;35245;35721   \n",
       "ENSG00000268020.2                                        52473;54830   \n",
       "\n",
       "                                                                 End  \\\n",
       "Geneid                                                                 \n",
       "ENSG00000223972.4                            12227;12721;13052;14412   \n",
       "ENSG00000227232.4  14829;15038;15947;16765;17055;17368;17504;1774...   \n",
       "ENSG00000243485.2                                  30039;30667;31109   \n",
       "ENSG00000237613.2                                  35174;35481;36081   \n",
       "ENSG00000268020.2                                        53312;54936   \n",
       "\n",
       "                                      Strand  Length  \\\n",
       "Geneid                                                 \n",
       "ENSG00000223972.4                    +;+;+;+    1756   \n",
       "ENSG00000227232.4  -;-;-;-;-;-;-;-;-;-;-;-;-    2073   \n",
       "ENSG00000243485.2                      +;+;+    1021   \n",
       "ENSG00000237613.2                      -;-;-    1219   \n",
       "ENSG00000268020.2                        +;+     947   \n",
       "\n",
       "                   u2af1_control_k562_rep1.sorted.bam  \\\n",
       "Geneid                                                  \n",
       "ENSG00000223972.4                                   0   \n",
       "ENSG00000227232.4                                  94   \n",
       "ENSG00000243485.2                                   0   \n",
       "ENSG00000237613.2                                   5   \n",
       "ENSG00000268020.2                                   0   \n",
       "\n",
       "                   u2af1_control_k562_rep2.sorted.bam  \\\n",
       "Geneid                                                  \n",
       "ENSG00000223972.4                                   1   \n",
       "ENSG00000227232.4                                 103   \n",
       "ENSG00000243485.2                                   1   \n",
       "ENSG00000237613.2                                   4   \n",
       "ENSG00000268020.2                                   0   \n",
       "\n",
       "                   u2af1_shrna_k562_rep1.sorted.bam  \\\n",
       "Geneid                                                \n",
       "ENSG00000223972.4                                 0   \n",
       "ENSG00000227232.4                                81   \n",
       "ENSG00000243485.2                                 0   \n",
       "ENSG00000237613.2                                 5   \n",
       "ENSG00000268020.2                                 0   \n",
       "\n",
       "                   u2af1_shrna_k562_rep2.sorted.bam  \n",
       "Geneid                                               \n",
       "ENSG00000223972.4                                 0  \n",
       "ENSG00000227232.4                                36  \n",
       "ENSG00000243485.2                                 1  \n",
       "ENSG00000237613.2                                 5  \n",
       "ENSG00000268020.2                                 0  "
      ]
     },
     "execution_count": 2,
     "metadata": {},
     "output_type": "execute_result"
    }
   ],
   "source": [
    "# Set the directory where we are accessing the data from as a variable\n",
    "# that can be easily called.\n",
    "\n",
    "data_dir = \"/projects/ps-yeolab/biom262_2017/featurecounts/\"\n",
    "\n",
    "# Use the pandas read_table function to read in your data. Make sure the\n",
    "# file name matches what your data is called on tscc and it is located in \n",
    "# the folder that you have defined as data_dir. \n",
    "\n",
    "# Use a commend to specify the character that comment lines start with... \n",
    "# we don't want to read those in. Set the gene_id as the index for this \n",
    "# dataframe with index_col=0\n",
    "\n",
    "counts = pd.read_table(data_dir+\"all_counts.txt\", comment=\"#\", index_col=0)\n",
    "\n",
    "# Use the print function to print out the number of rows and columns in \n",
    "# your dataframe. Use head to view your dataframe that you just loaded in.\n",
    "# Make sure that you include the () after head.\n",
    "\n",
    "print counts.shape\n",
    "counts.head()"
   ]
  },
  {
   "cell_type": "code",
   "execution_count": 3,
   "metadata": {
    "collapsed": false
   },
   "outputs": [
    {
     "name": "stdout",
     "output_type": "stream",
     "text": [
      "(57820, 5)\n"
     ]
    },
    {
     "data": {
      "text/html": [
       "<div>\n",
       "<table border=\"1\" class=\"dataframe\">\n",
       "  <thead>\n",
       "    <tr style=\"text-align: right;\">\n",
       "      <th></th>\n",
       "      <th>Length</th>\n",
       "      <th>u2af1_control_k562_rep1.sorted.bam</th>\n",
       "      <th>u2af1_control_k562_rep2.sorted.bam</th>\n",
       "      <th>u2af1_shrna_k562_rep1.sorted.bam</th>\n",
       "      <th>u2af1_shrna_k562_rep2.sorted.bam</th>\n",
       "    </tr>\n",
       "    <tr>\n",
       "      <th>Geneid</th>\n",
       "      <th></th>\n",
       "      <th></th>\n",
       "      <th></th>\n",
       "      <th></th>\n",
       "      <th></th>\n",
       "    </tr>\n",
       "  </thead>\n",
       "  <tbody>\n",
       "    <tr>\n",
       "      <th>ENSG00000223972.4</th>\n",
       "      <td>1756</td>\n",
       "      <td>0</td>\n",
       "      <td>1</td>\n",
       "      <td>0</td>\n",
       "      <td>0</td>\n",
       "    </tr>\n",
       "    <tr>\n",
       "      <th>ENSG00000227232.4</th>\n",
       "      <td>2073</td>\n",
       "      <td>94</td>\n",
       "      <td>103</td>\n",
       "      <td>81</td>\n",
       "      <td>36</td>\n",
       "    </tr>\n",
       "    <tr>\n",
       "      <th>ENSG00000243485.2</th>\n",
       "      <td>1021</td>\n",
       "      <td>0</td>\n",
       "      <td>1</td>\n",
       "      <td>0</td>\n",
       "      <td>1</td>\n",
       "    </tr>\n",
       "    <tr>\n",
       "      <th>ENSG00000237613.2</th>\n",
       "      <td>1219</td>\n",
       "      <td>5</td>\n",
       "      <td>4</td>\n",
       "      <td>5</td>\n",
       "      <td>5</td>\n",
       "    </tr>\n",
       "    <tr>\n",
       "      <th>ENSG00000268020.2</th>\n",
       "      <td>947</td>\n",
       "      <td>0</td>\n",
       "      <td>0</td>\n",
       "      <td>0</td>\n",
       "      <td>0</td>\n",
       "    </tr>\n",
       "  </tbody>\n",
       "</table>\n",
       "</div>"
      ],
      "text/plain": [
       "                   Length  u2af1_control_k562_rep1.sorted.bam  \\\n",
       "Geneid                                                          \n",
       "ENSG00000223972.4    1756                                   0   \n",
       "ENSG00000227232.4    2073                                  94   \n",
       "ENSG00000243485.2    1021                                   0   \n",
       "ENSG00000237613.2    1219                                   5   \n",
       "ENSG00000268020.2     947                                   0   \n",
       "\n",
       "                   u2af1_control_k562_rep2.sorted.bam  \\\n",
       "Geneid                                                  \n",
       "ENSG00000223972.4                                   1   \n",
       "ENSG00000227232.4                                 103   \n",
       "ENSG00000243485.2                                   1   \n",
       "ENSG00000237613.2                                   4   \n",
       "ENSG00000268020.2                                   0   \n",
       "\n",
       "                   u2af1_shrna_k562_rep1.sorted.bam  \\\n",
       "Geneid                                                \n",
       "ENSG00000223972.4                                 0   \n",
       "ENSG00000227232.4                                81   \n",
       "ENSG00000243485.2                                 0   \n",
       "ENSG00000237613.2                                 5   \n",
       "ENSG00000268020.2                                 0   \n",
       "\n",
       "                   u2af1_shrna_k562_rep2.sorted.bam  \n",
       "Geneid                                               \n",
       "ENSG00000223972.4                                 0  \n",
       "ENSG00000227232.4                                36  \n",
       "ENSG00000243485.2                                 1  \n",
       "ENSG00000237613.2                                 5  \n",
       "ENSG00000268020.2                                 0  "
      ]
     },
     "execution_count": 3,
     "metadata": {},
     "output_type": "execute_result"
    }
   ],
   "source": [
    "# We are going to get rid of the Chr, Start, End, Strand columns by feeding\n",
    "# the drop command a LIST of column names to drop. Notice the syntax for writing \n",
    "# a list is ['item1','item2'] Use axis=1 to specify that we are dropping these \n",
    "# COLUMNS. Axis=0 would search to drop those values from the ROWS. Again, look \n",
    "# at how this manipulation changed the shape and content of your dataframe.\n",
    "\n",
    "counts = counts.drop(['Chr','Start','End','Strand'], axis=1)\n",
    "print counts.shape\n",
    "counts.head()"
   ]
  },
  {
   "cell_type": "code",
   "execution_count": 4,
   "metadata": {
    "collapsed": false
   },
   "outputs": [
    {
     "name": "stdout",
     "output_type": "stream",
     "text": [
      "(57820, 5)\n"
     ]
    },
    {
     "data": {
      "text/html": [
       "<div>\n",
       "<table border=\"1\" class=\"dataframe\">\n",
       "  <thead>\n",
       "    <tr style=\"text-align: right;\">\n",
       "      <th></th>\n",
       "      <th>Length</th>\n",
       "      <th>u2af1_control_k562_rep1</th>\n",
       "      <th>u2af1_control_k562_rep2</th>\n",
       "      <th>u2af1_shrna_k562_rep1</th>\n",
       "      <th>u2af1_shrna_k562_rep2</th>\n",
       "    </tr>\n",
       "    <tr>\n",
       "      <th>Geneid</th>\n",
       "      <th></th>\n",
       "      <th></th>\n",
       "      <th></th>\n",
       "      <th></th>\n",
       "      <th></th>\n",
       "    </tr>\n",
       "  </thead>\n",
       "  <tbody>\n",
       "    <tr>\n",
       "      <th>ENSG00000223972.4</th>\n",
       "      <td>1756</td>\n",
       "      <td>0</td>\n",
       "      <td>1</td>\n",
       "      <td>0</td>\n",
       "      <td>0</td>\n",
       "    </tr>\n",
       "    <tr>\n",
       "      <th>ENSG00000227232.4</th>\n",
       "      <td>2073</td>\n",
       "      <td>94</td>\n",
       "      <td>103</td>\n",
       "      <td>81</td>\n",
       "      <td>36</td>\n",
       "    </tr>\n",
       "    <tr>\n",
       "      <th>ENSG00000243485.2</th>\n",
       "      <td>1021</td>\n",
       "      <td>0</td>\n",
       "      <td>1</td>\n",
       "      <td>0</td>\n",
       "      <td>1</td>\n",
       "    </tr>\n",
       "    <tr>\n",
       "      <th>ENSG00000237613.2</th>\n",
       "      <td>1219</td>\n",
       "      <td>5</td>\n",
       "      <td>4</td>\n",
       "      <td>5</td>\n",
       "      <td>5</td>\n",
       "    </tr>\n",
       "    <tr>\n",
       "      <th>ENSG00000268020.2</th>\n",
       "      <td>947</td>\n",
       "      <td>0</td>\n",
       "      <td>0</td>\n",
       "      <td>0</td>\n",
       "      <td>0</td>\n",
       "    </tr>\n",
       "  </tbody>\n",
       "</table>\n",
       "</div>"
      ],
      "text/plain": [
       "                   Length  u2af1_control_k562_rep1  u2af1_control_k562_rep2  \\\n",
       "Geneid                                                                        \n",
       "ENSG00000223972.4    1756                        0                        1   \n",
       "ENSG00000227232.4    2073                       94                      103   \n",
       "ENSG00000243485.2    1021                        0                        1   \n",
       "ENSG00000237613.2    1219                        5                        4   \n",
       "ENSG00000268020.2     947                        0                        0   \n",
       "\n",
       "                   u2af1_shrna_k562_rep1  u2af1_shrna_k562_rep2  \n",
       "Geneid                                                           \n",
       "ENSG00000223972.4                      0                      0  \n",
       "ENSG00000227232.4                     81                     36  \n",
       "ENSG00000243485.2                      0                      1  \n",
       "ENSG00000237613.2                      5                      5  \n",
       "ENSG00000268020.2                      0                      0  "
      ]
     },
     "execution_count": 4,
     "metadata": {},
     "output_type": "execute_result"
    }
   ],
   "source": [
    "# We are going to rename the columns to something more meaningful using the function\n",
    "# rename. inside of rename, we will call columns={\"oldname\":\"newname\",\"oldname\":\"newname\"}\n",
    "# Keep in mind that you can enter to a new line whenever you are inside of a parenthesis\n",
    "# or bracket without breaking your command. This makes your code easier to read. Rename\n",
    "# all the columns that you want to, and assign that output to a variable called counts.\n",
    "\n",
    "counts = counts.rename(columns={\"u2af1_control_k562_rep1.sorted.bam\":\"u2af1_control_k562_rep1\",\n",
    "                               \"u2af1_control_k562_rep2.sorted.bam\":\"u2af1_control_k562_rep2\",\n",
    "                               \"u2af1_shrna_k562_rep1.sorted.bam\":\"u2af1_shrna_k562_rep1\",\n",
    "                               \"u2af1_shrna_k562_rep2.sorted.bam\":\"u2af1_shrna_k562_rep2\"})\n",
    "print counts.shape\n",
    "counts.head()\n"
   ]
  },
  {
   "cell_type": "code",
   "execution_count": 5,
   "metadata": {
    "collapsed": false
   },
   "outputs": [
    {
     "data": {
      "text/plain": [
       "Index([u'Length', u'u2af1_control_k562_rep1', u'u2af1_control_k562_rep2',\n",
       "       u'u2af1_shrna_k562_rep1', u'u2af1_shrna_k562_rep2'],\n",
       "      dtype='object')"
      ]
     },
     "execution_count": 5,
     "metadata": {},
     "output_type": "execute_result"
    }
   ],
   "source": [
    "#You can see the names of all the columns in your dataframe. This will\n",
    "#output a list of column names. You can save this list to a new variable\n",
    "\n",
    "counts.columns"
   ]
  },
  {
   "cell_type": "code",
   "execution_count": 60,
   "metadata": {
    "collapsed": false
   },
   "outputs": [
    {
     "name": "stdout",
     "output_type": "stream",
     "text": [
      "(5,)\n"
     ]
    },
    {
     "data": {
      "text/plain": [
       "Index([u'Length', u'u2af1_control_k562_rep1', u'u2af1_control_k562_rep2',\n",
       "       u'u2af1_shrna_k562_rep1', u'u2af1_shrna_k562_rep2'],\n",
       "      dtype='object')"
      ]
     },
     "execution_count": 60,
     "metadata": {},
     "output_type": "execute_result"
    }
   ],
   "source": [
    "col_names = counts.columns\n",
    "print col_names.shape\n",
    "col_names"
   ]
  },
  {
   "cell_type": "code",
   "execution_count": 7,
   "metadata": {
    "collapsed": false
   },
   "outputs": [
    {
     "name": "stdout",
     "output_type": "stream",
     "text": [
      "Length\n",
      "Index([u'u2af1_control_k562_rep1', u'u2af1_control_k562_rep2',\n",
      "       u'u2af1_shrna_k562_rep1'],\n",
      "      dtype='object')\n",
      "u2af1_shrna_k562_rep2\n"
     ]
    }
   ],
   "source": [
    "# Access values in a list by slicing, this is similar to what we did in R, \n",
    "# except this time remember that the first value is in the 0 position. You \n",
    "# can use the - to move in backwards order in the list.\n",
    "\n",
    "\n",
    "print col_names[0]\n",
    "print col_names[1:4]\n",
    "print col_names[-1]"
   ]
  },
  {
   "cell_type": "code",
   "execution_count": 8,
   "metadata": {
    "collapsed": false
   },
   "outputs": [
    {
     "data": {
      "text/plain": [
       "Geneid\n",
       "ENSG00000223972.4    1756\n",
       "ENSG00000227232.4    2073\n",
       "ENSG00000243485.2    1021\n",
       "ENSG00000237613.2    1219\n",
       "ENSG00000268020.2     947\n",
       "ENSG00000240361.1     940\n",
       "ENSG00000186092.4     918\n",
       "ENSG00000238009.2    3569\n",
       "ENSG00000239945.1    1319\n",
       "ENSG00000233750.3    3812\n",
       "ENSG00000237683.5    2661\n",
       "ENSG00000268903.1     755\n",
       "ENSG00000269981.1     284\n",
       "ENSG00000239906.1     323\n",
       "ENSG00000241860.2    6195\n",
       "ENSG00000222623.1     104\n",
       "ENSG00000241599.1     457\n",
       "ENSG00000228463.4    3954\n",
       "ENSG00000241670.2     484\n",
       "ENSG00000237094.7    6869\n",
       "ENSG00000250575.1    1239\n",
       "ENSG00000233653.3    2477\n",
       "ENSG00000224813.2     180\n",
       "ENSG00000235249.1     995\n",
       "ENSG00000269732.1     363\n",
       "ENSG00000256186.1      90\n",
       "ENSG00000236601.1     635\n",
       "ENSG00000236743.1     676\n",
       "ENSG00000236679.2     385\n",
       "ENSG00000231709.1     842\n",
       "                     ... \n",
       "ENSG00000210107.1      72\n",
       "ENSG00000210112.1      68\n",
       "ENSG00000198763.3    1042\n",
       "ENSG00000210117.1      68\n",
       "ENSG00000210127.1      69\n",
       "ENSG00000210135.1      73\n",
       "ENSG00000210140.1      66\n",
       "ENSG00000210144.1      66\n",
       "ENSG00000198804.2    1542\n",
       "ENSG00000210151.2      69\n",
       "ENSG00000210154.1      68\n",
       "ENSG00000198712.1     684\n",
       "ENSG00000210156.1      70\n",
       "ENSG00000228253.1     207\n",
       "ENSG00000198899.2     681\n",
       "ENSG00000198938.2     784\n",
       "ENSG00000210164.1      68\n",
       "ENSG00000198840.2     346\n",
       "ENSG00000210174.1      65\n",
       "ENSG00000212907.2     297\n",
       "ENSG00000198886.2    1378\n",
       "ENSG00000210176.1      69\n",
       "ENSG00000210184.1      59\n",
       "ENSG00000210191.1      71\n",
       "ENSG00000198786.2    1812\n",
       "ENSG00000198695.2     525\n",
       "ENSG00000210194.1      69\n",
       "ENSG00000198727.2    1141\n",
       "ENSG00000210195.2      66\n",
       "ENSG00000210196.2      68\n",
       "Name: Length, dtype: int64"
      ]
     },
     "execution_count": 8,
     "metadata": {},
     "output_type": "execute_result"
    }
   ],
   "source": [
    "# You can access a specific row in the dataframe with dataframe[rowname]\n",
    "\n",
    "counts['Length']"
   ]
  },
  {
   "cell_type": "code",
   "execution_count": 9,
   "metadata": {
    "collapsed": false
   },
   "outputs": [
    {
     "data": {
      "text/plain": [
       "Geneid\n",
       "ENSG00000223972.4    1756\n",
       "ENSG00000227232.4    2073\n",
       "ENSG00000243485.2    1021\n",
       "ENSG00000237613.2    1219\n",
       "ENSG00000268020.2     947\n",
       "Name: Length, dtype: int64"
      ]
     },
     "execution_count": 9,
     "metadata": {},
     "output_type": "execute_result"
    }
   ],
   "source": [
    "# Wow, that printed a lot of rows and was really annoying to look at. \n",
    "# Let's shorten it with head\n",
    "\n",
    "counts['Length'].head()"
   ]
  },
  {
   "cell_type": "code",
   "execution_count": 10,
   "metadata": {
    "collapsed": false
   },
   "outputs": [
    {
     "data": {
      "text/plain": [
       "Index([u'ENSG00000223972.4', u'ENSG00000227232.4', u'ENSG00000243485.2',\n",
       "       u'ENSG00000237613.2', u'ENSG00000268020.2', u'ENSG00000240361.1',\n",
       "       u'ENSG00000186092.4', u'ENSG00000238009.2', u'ENSG00000239945.1',\n",
       "       u'ENSG00000233750.3',\n",
       "       ...\n",
       "       u'ENSG00000198886.2', u'ENSG00000210176.1', u'ENSG00000210184.1',\n",
       "       u'ENSG00000210191.1', u'ENSG00000198786.2', u'ENSG00000198695.2',\n",
       "       u'ENSG00000210194.1', u'ENSG00000198727.2', u'ENSG00000210195.2',\n",
       "       u'ENSG00000210196.2'],\n",
       "      dtype='object', name=u'Geneid', length=57820)"
      ]
     },
     "execution_count": 10,
     "metadata": {},
     "output_type": "execute_result"
    }
   ],
   "source": [
    "# You can access the row names with index since we set the \n",
    "# row names as the index of our dataframe.\n",
    "\n",
    "counts.index"
   ]
  },
  {
   "cell_type": "code",
   "execution_count": 11,
   "metadata": {
    "collapsed": false
   },
   "outputs": [
    {
     "data": {
      "text/plain": [
       "Length                       1378\n",
       "u2af1_control_k562_rep1    189614\n",
       "u2af1_control_k562_rep2    203959\n",
       "u2af1_shrna_k562_rep1      261300\n",
       "u2af1_shrna_k562_rep2      294420\n",
       "Name: ENSG00000198886.2, dtype: int64"
      ]
     },
     "execution_count": 11,
     "metadata": {},
     "output_type": "execute_result"
    }
   ],
   "source": [
    "# If you have a specific gene that you would like to look at, you can jump \n",
    "# straight to that row with .loc and it will return the value in each column\n",
    "# of the dataframe for that row\n",
    "\n",
    "counts.loc['ENSG00000198886.2']"
   ]
  },
  {
   "cell_type": "code",
   "execution_count": 12,
   "metadata": {
    "collapsed": false
   },
   "outputs": [
    {
     "data": {
      "text/plain": [
       "4"
      ]
     },
     "execution_count": 12,
     "metadata": {},
     "output_type": "execute_result"
    }
   ],
   "source": [
    "# Math in python is pretty simple\n",
    "\n",
    "2 + 2"
   ]
  },
  {
   "cell_type": "code",
   "execution_count": 13,
   "metadata": {
    "collapsed": false
   },
   "outputs": [
    {
     "data": {
      "text/plain": [
       "2"
      ]
     },
     "execution_count": 13,
     "metadata": {},
     "output_type": "execute_result"
    }
   ],
   "source": [
    "10 / 5"
   ]
  },
  {
   "cell_type": "code",
   "execution_count": 14,
   "metadata": {
    "collapsed": false
   },
   "outputs": [
    {
     "name": "stdout",
     "output_type": "stream",
     "text": [
      "4\n"
     ]
    }
   ],
   "source": [
    "# You can also store the output of some math to a variable. But if you want\n",
    "# to see your result, you have to print it\n",
    "\n",
    "x = 2 + 2\n",
    "print x"
   ]
  },
  {
   "cell_type": "code",
   "execution_count": 15,
   "metadata": {
    "collapsed": false
   },
   "outputs": [
    {
     "data": {
      "text/plain": [
       "4"
      ]
     },
     "execution_count": 15,
     "metadata": {},
     "output_type": "execute_result"
    }
   ],
   "source": [
    "2*2"
   ]
  },
  {
   "cell_type": "code",
   "execution_count": 16,
   "metadata": {
    "collapsed": false
   },
   "outputs": [
    {
     "data": {
      "text/plain": [
       "1000000"
      ]
     },
     "execution_count": 16,
     "metadata": {},
     "output_type": "execute_result"
    }
   ],
   "source": [
    "# To use exponents, 10 ^ 6, use two star characters:\n",
    "\n",
    "10**6"
   ]
  },
  {
   "cell_type": "code",
   "execution_count": 17,
   "metadata": {
    "collapsed": false
   },
   "outputs": [
    {
     "data": {
      "text/plain": [
       "Geneid\n",
       "ENSG00000223972.4       1757\n",
       "ENSG00000227232.4       2387\n",
       "ENSG00000243485.2       1023\n",
       "ENSG00000237613.2       1238\n",
       "ENSG00000268020.2        947\n",
       "ENSG00000240361.1        940\n",
       "ENSG00000186092.4        918\n",
       "ENSG00000238009.2       4059\n",
       "ENSG00000239945.1       1319\n",
       "ENSG00000233750.3       3812\n",
       "ENSG00000237683.5       3773\n",
       "ENSG00000268903.1        760\n",
       "ENSG00000269981.1        284\n",
       "ENSG00000239906.1        376\n",
       "ENSG00000241860.2       7003\n",
       "ENSG00000222623.1        123\n",
       "ENSG00000241599.1        457\n",
       "ENSG00000228463.4       5152\n",
       "ENSG00000241670.2        484\n",
       "ENSG00000237094.7       6998\n",
       "ENSG00000250575.1       1247\n",
       "ENSG00000233653.3       2477\n",
       "ENSG00000224813.2        180\n",
       "ENSG00000235249.1        995\n",
       "ENSG00000269732.1        363\n",
       "ENSG00000256186.1         90\n",
       "ENSG00000236601.1        635\n",
       "ENSG00000236743.1        677\n",
       "ENSG00000236679.2        385\n",
       "ENSG00000231709.1        868\n",
       "                      ...   \n",
       "ENSG00000210107.1        942\n",
       "ENSG00000210112.1        489\n",
       "ENSG00000198763.3     221395\n",
       "ENSG00000210117.1        333\n",
       "ENSG00000210127.1        363\n",
       "ENSG00000210135.1         79\n",
       "ENSG00000210140.1        269\n",
       "ENSG00000210144.1        105\n",
       "ENSG00000198804.2    1147856\n",
       "ENSG00000210151.2        326\n",
       "ENSG00000210154.1        111\n",
       "ENSG00000198712.1     811650\n",
       "ENSG00000210156.1         77\n",
       "ENSG00000228253.1     143718\n",
       "ENSG00000198899.2     321710\n",
       "ENSG00000198938.2     552939\n",
       "ENSG00000210164.1         74\n",
       "ENSG00000198840.2      56276\n",
       "ENSG00000210174.1         67\n",
       "ENSG00000212907.2     225429\n",
       "ENSG00000198886.2     950671\n",
       "ENSG00000210176.1         80\n",
       "ENSG00000210184.1         60\n",
       "ENSG00000210191.1         73\n",
       "ENSG00000198786.2     195525\n",
       "ENSG00000198695.2     125519\n",
       "ENSG00000210194.1        264\n",
       "ENSG00000198727.2     124849\n",
       "ENSG00000210195.2        318\n",
       "ENSG00000210196.2       1583\n",
       "dtype: int64"
      ]
     },
     "execution_count": 17,
     "metadata": {},
     "output_type": "execute_result"
    }
   ],
   "source": [
    "# You can do things like, sum, average, median, etc on dataframes too. Use axis\n",
    "# to specify which direction you are summing.\n",
    "\n",
    "#This will give you the sum of across each row\n",
    "counts.sum(axis=1)"
   ]
  },
  {
   "cell_type": "code",
   "execution_count": 18,
   "metadata": {
    "collapsed": false
   },
   "outputs": [
    {
     "data": {
      "text/plain": [
       "Geneid\n",
       "ENSG00000223972.4    1757\n",
       "ENSG00000227232.4    2387\n",
       "ENSG00000243485.2    1023\n",
       "ENSG00000237613.2    1238\n",
       "ENSG00000268020.2     947\n",
       "dtype: int64"
      ]
     },
     "execution_count": 18,
     "metadata": {},
     "output_type": "execute_result"
    }
   ],
   "source": [
    "# Clean up that output again with head\n",
    "\n",
    "counts.sum(axis=1).head()"
   ]
  },
  {
   "cell_type": "code",
   "execution_count": 19,
   "metadata": {
    "collapsed": false
   },
   "outputs": [
    {
     "data": {
      "text/plain": [
       "Length                     126319986\n",
       "u2af1_control_k562_rep1     16457293\n",
       "u2af1_control_k562_rep2     19150366\n",
       "u2af1_shrna_k562_rep1       15402305\n",
       "u2af1_shrna_k562_rep2       15730271\n",
       "dtype: int64"
      ]
     },
     "execution_count": 19,
     "metadata": {},
     "output_type": "execute_result"
    }
   ],
   "source": [
    "# Let's sum on the other axis. This will give you the sum down\n",
    "# each column \n",
    "\n",
    "counts.sum(axis=0)"
   ]
  },
  {
   "cell_type": "code",
   "execution_count": 20,
   "metadata": {
    "collapsed": false
   },
   "outputs": [
    {
     "data": {
      "text/plain": [
       "126319986"
      ]
     },
     "execution_count": 20,
     "metadata": {},
     "output_type": "execute_result"
    }
   ],
   "source": [
    "# So let's say I want to take the sum of the Length column. First \n",
    "# access the column, then sum it\n",
    "\n",
    "counts['Length'].sum()"
   ]
  },
  {
   "cell_type": "code",
   "execution_count": 61,
   "metadata": {
    "collapsed": false
   },
   "outputs": [
    {
     "name": "stdout",
     "output_type": "stream",
     "text": [
      "(4,)\n"
     ]
    },
    {
     "data": {
      "text/plain": [
       "Index([u'u2af1_control_k562_rep1', u'u2af1_control_k562_rep2',\n",
       "       u'u2af1_shrna_k562_rep1', u'u2af1_shrna_k562_rep2'],\n",
       "      dtype='object')"
      ]
     },
     "execution_count": 61,
     "metadata": {},
     "output_type": "execute_result"
    }
   ],
   "source": [
    "# Time to calculate RPKM. First we need to divide by the total mapped reads \n",
    "# that have been scaled by a million.\n",
    "\n",
    "# First, let's only access the columns with our counts dataframe and save the\n",
    "# names of those columns to a list. Use slicing again.\n",
    "\n",
    "data_cols = counts.columns[1:5]\n",
    "print data_cols.shape\n",
    "data_cols"
   ]
  },
  {
   "cell_type": "code",
   "execution_count": 66,
   "metadata": {
    "collapsed": false
   },
   "outputs": [
    {
     "name": "stdout",
     "output_type": "stream",
     "text": [
      "(57820, 4)\n"
     ]
    },
    {
     "data": {
      "text/html": [
       "<div>\n",
       "<table border=\"1\" class=\"dataframe\">\n",
       "  <thead>\n",
       "    <tr style=\"text-align: right;\">\n",
       "      <th></th>\n",
       "      <th>u2af1_control_k562_rep1</th>\n",
       "      <th>u2af1_control_k562_rep2</th>\n",
       "      <th>u2af1_shrna_k562_rep1</th>\n",
       "      <th>u2af1_shrna_k562_rep2</th>\n",
       "    </tr>\n",
       "    <tr>\n",
       "      <th>Geneid</th>\n",
       "      <th></th>\n",
       "      <th></th>\n",
       "      <th></th>\n",
       "      <th></th>\n",
       "    </tr>\n",
       "  </thead>\n",
       "  <tbody>\n",
       "    <tr>\n",
       "      <th>ENSG00000223972.4</th>\n",
       "      <td>0</td>\n",
       "      <td>1</td>\n",
       "      <td>0</td>\n",
       "      <td>0</td>\n",
       "    </tr>\n",
       "    <tr>\n",
       "      <th>ENSG00000227232.4</th>\n",
       "      <td>94</td>\n",
       "      <td>103</td>\n",
       "      <td>81</td>\n",
       "      <td>36</td>\n",
       "    </tr>\n",
       "    <tr>\n",
       "      <th>ENSG00000243485.2</th>\n",
       "      <td>0</td>\n",
       "      <td>1</td>\n",
       "      <td>0</td>\n",
       "      <td>1</td>\n",
       "    </tr>\n",
       "    <tr>\n",
       "      <th>ENSG00000237613.2</th>\n",
       "      <td>5</td>\n",
       "      <td>4</td>\n",
       "      <td>5</td>\n",
       "      <td>5</td>\n",
       "    </tr>\n",
       "    <tr>\n",
       "      <th>ENSG00000268020.2</th>\n",
       "      <td>0</td>\n",
       "      <td>0</td>\n",
       "      <td>0</td>\n",
       "      <td>0</td>\n",
       "    </tr>\n",
       "  </tbody>\n",
       "</table>\n",
       "</div>"
      ],
      "text/plain": [
       "                   u2af1_control_k562_rep1  u2af1_control_k562_rep2  \\\n",
       "Geneid                                                                \n",
       "ENSG00000223972.4                        0                        1   \n",
       "ENSG00000227232.4                       94                      103   \n",
       "ENSG00000243485.2                        0                        1   \n",
       "ENSG00000237613.2                        5                        4   \n",
       "ENSG00000268020.2                        0                        0   \n",
       "\n",
       "                   u2af1_shrna_k562_rep1  u2af1_shrna_k562_rep2  \n",
       "Geneid                                                           \n",
       "ENSG00000223972.4                      0                      0  \n",
       "ENSG00000227232.4                     81                     36  \n",
       "ENSG00000243485.2                      0                      1  \n",
       "ENSG00000237613.2                      5                      5  \n",
       "ENSG00000268020.2                      0                      0  "
      ]
     },
     "execution_count": 66,
     "metadata": {},
     "output_type": "execute_result"
    }
   ],
   "source": [
    "# Now access just the columns in the dataframe with the list of columns that we \n",
    "# are interested in.\n",
    "\n",
    "print counts[data_cols].shape\n",
    "counts[data_cols].head()"
   ]
  },
  {
   "cell_type": "code",
   "execution_count": 67,
   "metadata": {
    "collapsed": false
   },
   "outputs": [
    {
     "data": {
      "text/plain": [
       "Geneid\n",
       "ENSG00000223972.4      1\n",
       "ENSG00000227232.4    314\n",
       "ENSG00000243485.2      2\n",
       "ENSG00000237613.2     19\n",
       "ENSG00000268020.2      0\n",
       "dtype: int64"
      ]
     },
     "execution_count": 67,
     "metadata": {},
     "output_type": "execute_result"
    }
   ],
   "source": [
    "# The output of featurecounts gives you all genes. this is really big. You will \n",
    "# notice your dataframe shape is > 50,000 genes. A lot of these have zero\n",
    "# counts. Let's filter those out so that our processing will go faster.\n",
    "\n",
    "# We can calculate the sum of reads that mapped in all of our samples\n",
    "# with :\n",
    "\n",
    "counts[data_cols].sum(axis=1).head()"
   ]
  },
  {
   "cell_type": "code",
   "execution_count": 70,
   "metadata": {
    "collapsed": false
   },
   "outputs": [
    {
     "data": {
      "text/plain": [
       "31350"
      ]
     },
     "execution_count": 70,
     "metadata": {},
     "output_type": "execute_result"
    }
   ],
   "source": [
    "# We can use logicals in python in the same way that we did in R. If I want to \n",
    "# know how many of these sums are 0, we can use the following command:\n",
    "    \n",
    "len(counts.loc[counts[data_cols].sum(axis=1) == 0])"
   ]
  },
  {
   "cell_type": "code",
   "execution_count": 71,
   "metadata": {
    "collapsed": false
   },
   "outputs": [
    {
     "name": "stdout",
     "output_type": "stream",
     "text": [
      "(57820, 5)\n",
      "(26470, 5)\n"
     ]
    },
    {
     "data": {
      "text/html": [
       "<div>\n",
       "<table border=\"1\" class=\"dataframe\">\n",
       "  <thead>\n",
       "    <tr style=\"text-align: right;\">\n",
       "      <th></th>\n",
       "      <th>Length</th>\n",
       "      <th>u2af1_control_k562_rep1</th>\n",
       "      <th>u2af1_control_k562_rep2</th>\n",
       "      <th>u2af1_shrna_k562_rep1</th>\n",
       "      <th>u2af1_shrna_k562_rep2</th>\n",
       "    </tr>\n",
       "    <tr>\n",
       "      <th>Geneid</th>\n",
       "      <th></th>\n",
       "      <th></th>\n",
       "      <th></th>\n",
       "      <th></th>\n",
       "      <th></th>\n",
       "    </tr>\n",
       "  </thead>\n",
       "  <tbody>\n",
       "    <tr>\n",
       "      <th>ENSG00000223972.4</th>\n",
       "      <td>1756</td>\n",
       "      <td>0</td>\n",
       "      <td>1</td>\n",
       "      <td>0</td>\n",
       "      <td>0</td>\n",
       "    </tr>\n",
       "    <tr>\n",
       "      <th>ENSG00000227232.4</th>\n",
       "      <td>2073</td>\n",
       "      <td>94</td>\n",
       "      <td>103</td>\n",
       "      <td>81</td>\n",
       "      <td>36</td>\n",
       "    </tr>\n",
       "    <tr>\n",
       "      <th>ENSG00000243485.2</th>\n",
       "      <td>1021</td>\n",
       "      <td>0</td>\n",
       "      <td>1</td>\n",
       "      <td>0</td>\n",
       "      <td>1</td>\n",
       "    </tr>\n",
       "    <tr>\n",
       "      <th>ENSG00000237613.2</th>\n",
       "      <td>1219</td>\n",
       "      <td>5</td>\n",
       "      <td>4</td>\n",
       "      <td>5</td>\n",
       "      <td>5</td>\n",
       "    </tr>\n",
       "    <tr>\n",
       "      <th>ENSG00000238009.2</th>\n",
       "      <td>3569</td>\n",
       "      <td>140</td>\n",
       "      <td>128</td>\n",
       "      <td>128</td>\n",
       "      <td>94</td>\n",
       "    </tr>\n",
       "  </tbody>\n",
       "</table>\n",
       "</div>"
      ],
      "text/plain": [
       "                   Length  u2af1_control_k562_rep1  u2af1_control_k562_rep2  \\\n",
       "Geneid                                                                        \n",
       "ENSG00000223972.4    1756                        0                        1   \n",
       "ENSG00000227232.4    2073                       94                      103   \n",
       "ENSG00000243485.2    1021                        0                        1   \n",
       "ENSG00000237613.2    1219                        5                        4   \n",
       "ENSG00000238009.2    3569                      140                      128   \n",
       "\n",
       "                   u2af1_shrna_k562_rep1  u2af1_shrna_k562_rep2  \n",
       "Geneid                                                           \n",
       "ENSG00000223972.4                      0                      0  \n",
       "ENSG00000227232.4                     81                     36  \n",
       "ENSG00000243485.2                      0                      1  \n",
       "ENSG00000237613.2                      5                      5  \n",
       "ENSG00000238009.2                    128                     94  "
      ]
     },
     "execution_count": 71,
     "metadata": {},
     "output_type": "execute_result"
    }
   ],
   "source": [
    "# We are going to use .loc to filter out the 31350 genes that recieved no counts \n",
    "# counts across all of our datasets. Assign that output to counts_filtered.\n",
    "# Use shape to show how many rows in the dataframe were filtered out. The .loc will\n",
    "# keep all rows that have a value of TRUE in the logical we are feeding in.\n",
    "\n",
    "counts_filtered = counts.loc[counts[data_cols].sum(axis=1) > 0]\n",
    "print counts.shape\n",
    "print counts_filtered.shape\n",
    "counts_filtered.head()"
   ]
  },
  {
   "cell_type": "code",
   "execution_count": 72,
   "metadata": {
    "collapsed": false
   },
   "outputs": [
    {
     "data": {
      "text/plain": [
       "u2af1_control_k562_rep1    16.457293\n",
       "u2af1_control_k562_rep2    19.150366\n",
       "u2af1_shrna_k562_rep1      15.402305\n",
       "u2af1_shrna_k562_rep2      15.730271\n",
       "dtype: float64"
      ]
     },
     "execution_count": 72,
     "metadata": {},
     "output_type": "execute_result"
    }
   ],
   "source": [
    "# The sum of each row is first scaled by 10 ^ 6 with:\n",
    "\n",
    "counts_filtered[data_cols].sum(axis=0)/(10**6)"
   ]
  },
  {
   "cell_type": "code",
   "execution_count": 78,
   "metadata": {
    "collapsed": false
   },
   "outputs": [
    {
     "name": "stdout",
     "output_type": "stream",
     "text": [
      "(26470, 4)\n"
     ]
    },
    {
     "data": {
      "text/html": [
       "<div>\n",
       "<table border=\"1\" class=\"dataframe\">\n",
       "  <thead>\n",
       "    <tr style=\"text-align: right;\">\n",
       "      <th></th>\n",
       "      <th>u2af1_control_k562_rep1</th>\n",
       "      <th>u2af1_control_k562_rep2</th>\n",
       "      <th>u2af1_shrna_k562_rep1</th>\n",
       "      <th>u2af1_shrna_k562_rep2</th>\n",
       "    </tr>\n",
       "    <tr>\n",
       "      <th>Geneid</th>\n",
       "      <th></th>\n",
       "      <th></th>\n",
       "      <th></th>\n",
       "      <th></th>\n",
       "    </tr>\n",
       "  </thead>\n",
       "  <tbody>\n",
       "    <tr>\n",
       "      <th>ENSG00000223972.4</th>\n",
       "      <td>0.000000</td>\n",
       "      <td>0.052218</td>\n",
       "      <td>0.000000</td>\n",
       "      <td>0.000000</td>\n",
       "    </tr>\n",
       "    <tr>\n",
       "      <th>ENSG00000227232.4</th>\n",
       "      <td>5.711753</td>\n",
       "      <td>5.378487</td>\n",
       "      <td>5.258953</td>\n",
       "      <td>2.288581</td>\n",
       "    </tr>\n",
       "    <tr>\n",
       "      <th>ENSG00000243485.2</th>\n",
       "      <td>0.000000</td>\n",
       "      <td>0.052218</td>\n",
       "      <td>0.000000</td>\n",
       "      <td>0.063572</td>\n",
       "    </tr>\n",
       "    <tr>\n",
       "      <th>ENSG00000237613.2</th>\n",
       "      <td>0.303817</td>\n",
       "      <td>0.208873</td>\n",
       "      <td>0.324627</td>\n",
       "      <td>0.317858</td>\n",
       "    </tr>\n",
       "    <tr>\n",
       "      <th>ENSG00000238009.2</th>\n",
       "      <td>8.506867</td>\n",
       "      <td>6.683945</td>\n",
       "      <td>8.310444</td>\n",
       "      <td>5.975739</td>\n",
       "    </tr>\n",
       "  </tbody>\n",
       "</table>\n",
       "</div>"
      ],
      "text/plain": [
       "                   u2af1_control_k562_rep1  u2af1_control_k562_rep2  \\\n",
       "Geneid                                                                \n",
       "ENSG00000223972.4                 0.000000                 0.052218   \n",
       "ENSG00000227232.4                 5.711753                 5.378487   \n",
       "ENSG00000243485.2                 0.000000                 0.052218   \n",
       "ENSG00000237613.2                 0.303817                 0.208873   \n",
       "ENSG00000238009.2                 8.506867                 6.683945   \n",
       "\n",
       "                   u2af1_shrna_k562_rep1  u2af1_shrna_k562_rep2  \n",
       "Geneid                                                           \n",
       "ENSG00000223972.4               0.000000               0.000000  \n",
       "ENSG00000227232.4               5.258953               2.288581  \n",
       "ENSG00000243485.2               0.000000               0.063572  \n",
       "ENSG00000237613.2               0.324627               0.317858  \n",
       "ENSG00000238009.2               8.310444               5.975739  "
      ]
     },
     "execution_count": 78,
     "metadata": {},
     "output_type": "execute_result"
    }
   ],
   "source": [
    "rpm_counts = counts_filtered[data_cols].divide(counts_filtered[data_cols].sum(axis=0)/(10**6))\n",
    "print rpm_counts.shape\n",
    "rpm_counts.head()"
   ]
  },
  {
   "cell_type": "code",
   "execution_count": 79,
   "metadata": {
    "collapsed": false
   },
   "outputs": [
    {
     "name": "stdout",
     "output_type": "stream",
     "text": [
      "(26470, 5)\n"
     ]
    },
    {
     "data": {
      "text/html": [
       "<div>\n",
       "<table border=\"1\" class=\"dataframe\">\n",
       "  <thead>\n",
       "    <tr style=\"text-align: right;\">\n",
       "      <th></th>\n",
       "      <th>u2af1_control_k562_rep1</th>\n",
       "      <th>u2af1_control_k562_rep2</th>\n",
       "      <th>u2af1_shrna_k562_rep1</th>\n",
       "      <th>u2af1_shrna_k562_rep2</th>\n",
       "      <th>Length</th>\n",
       "    </tr>\n",
       "    <tr>\n",
       "      <th>Geneid</th>\n",
       "      <th></th>\n",
       "      <th></th>\n",
       "      <th></th>\n",
       "      <th></th>\n",
       "      <th></th>\n",
       "    </tr>\n",
       "  </thead>\n",
       "  <tbody>\n",
       "    <tr>\n",
       "      <th>ENSG00000223972.4</th>\n",
       "      <td>0.000000</td>\n",
       "      <td>0.052218</td>\n",
       "      <td>0.000000</td>\n",
       "      <td>0.000000</td>\n",
       "      <td>1756</td>\n",
       "    </tr>\n",
       "    <tr>\n",
       "      <th>ENSG00000227232.4</th>\n",
       "      <td>5.711753</td>\n",
       "      <td>5.378487</td>\n",
       "      <td>5.258953</td>\n",
       "      <td>2.288581</td>\n",
       "      <td>2073</td>\n",
       "    </tr>\n",
       "    <tr>\n",
       "      <th>ENSG00000243485.2</th>\n",
       "      <td>0.000000</td>\n",
       "      <td>0.052218</td>\n",
       "      <td>0.000000</td>\n",
       "      <td>0.063572</td>\n",
       "      <td>1021</td>\n",
       "    </tr>\n",
       "    <tr>\n",
       "      <th>ENSG00000237613.2</th>\n",
       "      <td>0.303817</td>\n",
       "      <td>0.208873</td>\n",
       "      <td>0.324627</td>\n",
       "      <td>0.317858</td>\n",
       "      <td>1219</td>\n",
       "    </tr>\n",
       "    <tr>\n",
       "      <th>ENSG00000238009.2</th>\n",
       "      <td>8.506867</td>\n",
       "      <td>6.683945</td>\n",
       "      <td>8.310444</td>\n",
       "      <td>5.975739</td>\n",
       "      <td>3569</td>\n",
       "    </tr>\n",
       "  </tbody>\n",
       "</table>\n",
       "</div>"
      ],
      "text/plain": [
       "                   u2af1_control_k562_rep1  u2af1_control_k562_rep2  \\\n",
       "Geneid                                                                \n",
       "ENSG00000223972.4                 0.000000                 0.052218   \n",
       "ENSG00000227232.4                 5.711753                 5.378487   \n",
       "ENSG00000243485.2                 0.000000                 0.052218   \n",
       "ENSG00000237613.2                 0.303817                 0.208873   \n",
       "ENSG00000238009.2                 8.506867                 6.683945   \n",
       "\n",
       "                   u2af1_shrna_k562_rep1  u2af1_shrna_k562_rep2  Length  \n",
       "Geneid                                                                   \n",
       "ENSG00000223972.4               0.000000               0.000000    1756  \n",
       "ENSG00000227232.4               5.258953               2.288581    2073  \n",
       "ENSG00000243485.2               0.000000               0.063572    1021  \n",
       "ENSG00000237613.2               0.324627               0.317858    1219  \n",
       "ENSG00000238009.2               8.310444               5.975739    3569  "
      ]
     },
     "execution_count": 79,
     "metadata": {},
     "output_type": "execute_result"
    }
   ],
   "source": [
    "# Now we need to get our length information back so we can normalize \n",
    "# for gene length. Length is still still stored in our counts dataframe.\n",
    "# Let's join that column into our new dataframe. Since the geneID is common,\n",
    "# we will use that column to join on. This is similar to what we did in R\n",
    "# Join will automatically joing two dataframes on the index. Since the index\n",
    "# is the common column, the default will work here. \n",
    "\n",
    "rpm_counts = rpm_counts.join(counts['Length'], how=\"left\")\n",
    "print rpm_counts.shape\n",
    "rpm_counts.head()"
   ]
  },
  {
   "cell_type": "code",
   "execution_count": 80,
   "metadata": {
    "collapsed": false
   },
   "outputs": [
    {
     "data": {
      "text/plain": [
       "Geneid\n",
       "ENSG00000223972.4    1.756\n",
       "ENSG00000227232.4    2.073\n",
       "ENSG00000243485.2    1.021\n",
       "ENSG00000237613.2    1.219\n",
       "ENSG00000238009.2    3.569\n",
       "Name: Length, dtype: float64"
      ]
     },
     "execution_count": 80,
     "metadata": {},
     "output_type": "execute_result"
    }
   ],
   "source": [
    "# Next we need to take the length and divide \n",
    "# it by 1000 since it is reads per Kilobase, but we currently\n",
    "# have the lengths reported in base pairs.\n",
    "\n",
    "kb_lengths = rpm_counts['Length']/1000\n",
    "kb_lengths.head()"
   ]
  },
  {
   "cell_type": "code",
   "execution_count": 81,
   "metadata": {
    "collapsed": false
   },
   "outputs": [
    {
     "name": "stdout",
     "output_type": "stream",
     "text": [
      "(26470, 6)\n"
     ]
    },
    {
     "data": {
      "text/html": [
       "<div>\n",
       "<table border=\"1\" class=\"dataframe\">\n",
       "  <thead>\n",
       "    <tr style=\"text-align: right;\">\n",
       "      <th></th>\n",
       "      <th>u2af1_control_k562_rep1</th>\n",
       "      <th>u2af1_control_k562_rep2</th>\n",
       "      <th>u2af1_shrna_k562_rep1</th>\n",
       "      <th>u2af1_shrna_k562_rep2</th>\n",
       "      <th>Length</th>\n",
       "      <th>Length_kb</th>\n",
       "    </tr>\n",
       "    <tr>\n",
       "      <th>Geneid</th>\n",
       "      <th></th>\n",
       "      <th></th>\n",
       "      <th></th>\n",
       "      <th></th>\n",
       "      <th></th>\n",
       "      <th></th>\n",
       "    </tr>\n",
       "  </thead>\n",
       "  <tbody>\n",
       "    <tr>\n",
       "      <th>ENSG00000223972.4</th>\n",
       "      <td>0.000000</td>\n",
       "      <td>0.052218</td>\n",
       "      <td>0.000000</td>\n",
       "      <td>0.000000</td>\n",
       "      <td>1756</td>\n",
       "      <td>1.756</td>\n",
       "    </tr>\n",
       "    <tr>\n",
       "      <th>ENSG00000227232.4</th>\n",
       "      <td>5.711753</td>\n",
       "      <td>5.378487</td>\n",
       "      <td>5.258953</td>\n",
       "      <td>2.288581</td>\n",
       "      <td>2073</td>\n",
       "      <td>2.073</td>\n",
       "    </tr>\n",
       "    <tr>\n",
       "      <th>ENSG00000243485.2</th>\n",
       "      <td>0.000000</td>\n",
       "      <td>0.052218</td>\n",
       "      <td>0.000000</td>\n",
       "      <td>0.063572</td>\n",
       "      <td>1021</td>\n",
       "      <td>1.021</td>\n",
       "    </tr>\n",
       "    <tr>\n",
       "      <th>ENSG00000237613.2</th>\n",
       "      <td>0.303817</td>\n",
       "      <td>0.208873</td>\n",
       "      <td>0.324627</td>\n",
       "      <td>0.317858</td>\n",
       "      <td>1219</td>\n",
       "      <td>1.219</td>\n",
       "    </tr>\n",
       "    <tr>\n",
       "      <th>ENSG00000238009.2</th>\n",
       "      <td>8.506867</td>\n",
       "      <td>6.683945</td>\n",
       "      <td>8.310444</td>\n",
       "      <td>5.975739</td>\n",
       "      <td>3569</td>\n",
       "      <td>3.569</td>\n",
       "    </tr>\n",
       "  </tbody>\n",
       "</table>\n",
       "</div>"
      ],
      "text/plain": [
       "                   u2af1_control_k562_rep1  u2af1_control_k562_rep2  \\\n",
       "Geneid                                                                \n",
       "ENSG00000223972.4                 0.000000                 0.052218   \n",
       "ENSG00000227232.4                 5.711753                 5.378487   \n",
       "ENSG00000243485.2                 0.000000                 0.052218   \n",
       "ENSG00000237613.2                 0.303817                 0.208873   \n",
       "ENSG00000238009.2                 8.506867                 6.683945   \n",
       "\n",
       "                   u2af1_shrna_k562_rep1  u2af1_shrna_k562_rep2  Length  \\\n",
       "Geneid                                                                    \n",
       "ENSG00000223972.4               0.000000               0.000000    1756   \n",
       "ENSG00000227232.4               5.258953               2.288581    2073   \n",
       "ENSG00000243485.2               0.000000               0.063572    1021   \n",
       "ENSG00000237613.2               0.324627               0.317858    1219   \n",
       "ENSG00000238009.2               8.310444               5.975739    3569   \n",
       "\n",
       "                   Length_kb  \n",
       "Geneid                        \n",
       "ENSG00000223972.4      1.756  \n",
       "ENSG00000227232.4      2.073  \n",
       "ENSG00000243485.2      1.021  \n",
       "ENSG00000237613.2      1.219  \n",
       "ENSG00000238009.2      3.569  "
      ]
     },
     "execution_count": 81,
     "metadata": {},
     "output_type": "execute_result"
    }
   ],
   "source": [
    "# Let's save this as a new column in our dataframe\n",
    "\n",
    "rpm_counts['Length_kb'] = kb_lengths\n",
    "print rpm_counts.shape\n",
    "rpm_counts.head()"
   ]
  },
  {
   "cell_type": "code",
   "execution_count": 82,
   "metadata": {
    "collapsed": false
   },
   "outputs": [
    {
     "name": "stdout",
     "output_type": "stream",
     "text": [
      "(26470, 4)\n"
     ]
    },
    {
     "data": {
      "text/html": [
       "<div>\n",
       "<table border=\"1\" class=\"dataframe\">\n",
       "  <thead>\n",
       "    <tr style=\"text-align: right;\">\n",
       "      <th></th>\n",
       "      <th>u2af1_control_k562_rep1</th>\n",
       "      <th>u2af1_control_k562_rep2</th>\n",
       "      <th>u2af1_shrna_k562_rep1</th>\n",
       "      <th>u2af1_shrna_k562_rep2</th>\n",
       "    </tr>\n",
       "    <tr>\n",
       "      <th>Geneid</th>\n",
       "      <th></th>\n",
       "      <th></th>\n",
       "      <th></th>\n",
       "      <th></th>\n",
       "    </tr>\n",
       "  </thead>\n",
       "  <tbody>\n",
       "    <tr>\n",
       "      <th>ENSG00000223972.4</th>\n",
       "      <td>0.000000</td>\n",
       "      <td>0.029737</td>\n",
       "      <td>0.000000</td>\n",
       "      <td>0.000000</td>\n",
       "    </tr>\n",
       "    <tr>\n",
       "      <th>ENSG00000227232.4</th>\n",
       "      <td>2.755308</td>\n",
       "      <td>2.594543</td>\n",
       "      <td>2.536880</td>\n",
       "      <td>1.103995</td>\n",
       "    </tr>\n",
       "    <tr>\n",
       "      <th>ENSG00000243485.2</th>\n",
       "      <td>0.000000</td>\n",
       "      <td>0.051144</td>\n",
       "      <td>0.000000</td>\n",
       "      <td>0.062264</td>\n",
       "    </tr>\n",
       "    <tr>\n",
       "      <th>ENSG00000237613.2</th>\n",
       "      <td>0.249234</td>\n",
       "      <td>0.171348</td>\n",
       "      <td>0.266306</td>\n",
       "      <td>0.260753</td>\n",
       "    </tr>\n",
       "    <tr>\n",
       "      <th>ENSG00000238009.2</th>\n",
       "      <td>2.383544</td>\n",
       "      <td>1.872778</td>\n",
       "      <td>2.328508</td>\n",
       "      <td>1.674346</td>\n",
       "    </tr>\n",
       "  </tbody>\n",
       "</table>\n",
       "</div>"
      ],
      "text/plain": [
       "                   u2af1_control_k562_rep1  u2af1_control_k562_rep2  \\\n",
       "Geneid                                                                \n",
       "ENSG00000223972.4                 0.000000                 0.029737   \n",
       "ENSG00000227232.4                 2.755308                 2.594543   \n",
       "ENSG00000243485.2                 0.000000                 0.051144   \n",
       "ENSG00000237613.2                 0.249234                 0.171348   \n",
       "ENSG00000238009.2                 2.383544                 1.872778   \n",
       "\n",
       "                   u2af1_shrna_k562_rep1  u2af1_shrna_k562_rep2  \n",
       "Geneid                                                           \n",
       "ENSG00000223972.4               0.000000               0.000000  \n",
       "ENSG00000227232.4               2.536880               1.103995  \n",
       "ENSG00000243485.2               0.000000               0.062264  \n",
       "ENSG00000237613.2               0.266306               0.260753  \n",
       "ENSG00000238009.2               2.328508               1.674346  "
      ]
     },
     "execution_count": 82,
     "metadata": {},
     "output_type": "execute_result"
    }
   ],
   "source": [
    "# And finally, we need to divide the data columns by the length in kb. \n",
    "# Do this the same way we did it before.\n",
    "\n",
    "rpkm = rpm_counts[data_cols].divide(rpm_counts['Length_kb'], axis=0)\n",
    "print rpkm.shape\n",
    "rpkm.head()"
   ]
  },
  {
   "cell_type": "code",
   "execution_count": 84,
   "metadata": {
    "collapsed": false
   },
   "outputs": [],
   "source": [
    "# Now we are going to save this table define your save directory and save\n",
    "# your file\n",
    "\n",
    "save_dir = \"/home/ucsd-train39/projects/u2af1_shrna/featurecounts/\"\n",
    "\n",
    "rpkm.to_csv(save_dir+\"rpkm_u2af1_shrna.csv\")"
   ]
  },
  {
   "cell_type": "code",
   "execution_count": null,
   "metadata": {
    "collapsed": true
   },
   "outputs": [],
   "source": []
  }
 ],
 "metadata": {
  "kernelspec": {
   "display_name": "Python 2",
   "language": "python",
   "name": "python2"
  },
  "language_info": {
   "codemirror_mode": {
    "name": "ipython",
    "version": 2
   },
   "file_extension": ".py",
   "mimetype": "text/x-python",
   "name": "python",
   "nbconvert_exporter": "python",
   "pygments_lexer": "ipython2",
   "version": "2.7.12"
  }
 },
 "nbformat": 4,
 "nbformat_minor": 0
}
