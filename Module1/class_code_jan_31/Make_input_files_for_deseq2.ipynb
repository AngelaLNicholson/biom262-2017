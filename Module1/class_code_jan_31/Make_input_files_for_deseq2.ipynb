{
 "cells": [
  {
   "cell_type": "markdown",
   "metadata": {},
   "source": [
    "Here I will load my featureCounts output and use that to make input files for deseq2. "
   ]
  },
  {
   "cell_type": "code",
   "execution_count": 1,
   "metadata": {
    "collapsed": true
   },
   "outputs": [],
   "source": [
    "import pandas as pd"
   ]
  },
  {
   "cell_type": "code",
   "execution_count": 3,
   "metadata": {
    "collapsed": false
   },
   "outputs": [
    {
     "name": "stdout",
     "output_type": "stream",
     "text": [
      "(57820, 9)\n"
     ]
    },
    {
     "data": {
      "text/html": [
       "<div>\n",
       "<table border=\"1\" class=\"dataframe\">\n",
       "  <thead>\n",
       "    <tr style=\"text-align: right;\">\n",
       "      <th></th>\n",
       "      <th>Chr</th>\n",
       "      <th>Start</th>\n",
       "      <th>End</th>\n",
       "      <th>Strand</th>\n",
       "      <th>Length</th>\n",
       "      <th>u2af1_control_k562_rep1.sorted.bam</th>\n",
       "      <th>u2af1_control_k562_rep2.sorted.bam</th>\n",
       "      <th>u2af1_shrna_k562_rep1.sorted.bam</th>\n",
       "      <th>u2af1_shrna_k562_rep2.sorted.bam</th>\n",
       "    </tr>\n",
       "    <tr>\n",
       "      <th>Geneid</th>\n",
       "      <th></th>\n",
       "      <th></th>\n",
       "      <th></th>\n",
       "      <th></th>\n",
       "      <th></th>\n",
       "      <th></th>\n",
       "      <th></th>\n",
       "      <th></th>\n",
       "      <th></th>\n",
       "    </tr>\n",
       "  </thead>\n",
       "  <tbody>\n",
       "    <tr>\n",
       "      <th>ENSG00000223972.4</th>\n",
       "      <td>chr1;chr1;chr1;chr1</td>\n",
       "      <td>11869;12595;12975;13221</td>\n",
       "      <td>12227;12721;13052;14412</td>\n",
       "      <td>+;+;+;+</td>\n",
       "      <td>1756</td>\n",
       "      <td>0</td>\n",
       "      <td>1</td>\n",
       "      <td>0</td>\n",
       "      <td>0</td>\n",
       "    </tr>\n",
       "    <tr>\n",
       "      <th>ENSG00000227232.4</th>\n",
       "      <td>chr1;chr1;chr1;chr1;chr1;chr1;chr1;chr1;chr1;c...</td>\n",
       "      <td>14363;14970;15796;16607;16854;17233;17498;1760...</td>\n",
       "      <td>14829;15038;15947;16765;17055;17368;17504;1774...</td>\n",
       "      <td>-;-;-;-;-;-;-;-;-;-;-;-;-</td>\n",
       "      <td>2073</td>\n",
       "      <td>94</td>\n",
       "      <td>103</td>\n",
       "      <td>81</td>\n",
       "      <td>36</td>\n",
       "    </tr>\n",
       "    <tr>\n",
       "      <th>ENSG00000243485.2</th>\n",
       "      <td>chr1;chr1;chr1</td>\n",
       "      <td>29554;30267;30976</td>\n",
       "      <td>30039;30667;31109</td>\n",
       "      <td>+;+;+</td>\n",
       "      <td>1021</td>\n",
       "      <td>0</td>\n",
       "      <td>1</td>\n",
       "      <td>0</td>\n",
       "      <td>1</td>\n",
       "    </tr>\n",
       "    <tr>\n",
       "      <th>ENSG00000237613.2</th>\n",
       "      <td>chr1;chr1;chr1</td>\n",
       "      <td>34554;35245;35721</td>\n",
       "      <td>35174;35481;36081</td>\n",
       "      <td>-;-;-</td>\n",
       "      <td>1219</td>\n",
       "      <td>5</td>\n",
       "      <td>4</td>\n",
       "      <td>5</td>\n",
       "      <td>5</td>\n",
       "    </tr>\n",
       "    <tr>\n",
       "      <th>ENSG00000268020.2</th>\n",
       "      <td>chr1;chr1</td>\n",
       "      <td>52473;54830</td>\n",
       "      <td>53312;54936</td>\n",
       "      <td>+;+</td>\n",
       "      <td>947</td>\n",
       "      <td>0</td>\n",
       "      <td>0</td>\n",
       "      <td>0</td>\n",
       "      <td>0</td>\n",
       "    </tr>\n",
       "  </tbody>\n",
       "</table>\n",
       "</div>"
      ],
      "text/plain": [
       "                                                                 Chr  \\\n",
       "Geneid                                                                 \n",
       "ENSG00000223972.4                                chr1;chr1;chr1;chr1   \n",
       "ENSG00000227232.4  chr1;chr1;chr1;chr1;chr1;chr1;chr1;chr1;chr1;c...   \n",
       "ENSG00000243485.2                                     chr1;chr1;chr1   \n",
       "ENSG00000237613.2                                     chr1;chr1;chr1   \n",
       "ENSG00000268020.2                                          chr1;chr1   \n",
       "\n",
       "                                                               Start  \\\n",
       "Geneid                                                                 \n",
       "ENSG00000223972.4                            11869;12595;12975;13221   \n",
       "ENSG00000227232.4  14363;14970;15796;16607;16854;17233;17498;1760...   \n",
       "ENSG00000243485.2                                  29554;30267;30976   \n",
       "ENSG00000237613.2                                  34554;35245;35721   \n",
       "ENSG00000268020.2                                        52473;54830   \n",
       "\n",
       "                                                                 End  \\\n",
       "Geneid                                                                 \n",
       "ENSG00000223972.4                            12227;12721;13052;14412   \n",
       "ENSG00000227232.4  14829;15038;15947;16765;17055;17368;17504;1774...   \n",
       "ENSG00000243485.2                                  30039;30667;31109   \n",
       "ENSG00000237613.2                                  35174;35481;36081   \n",
       "ENSG00000268020.2                                        53312;54936   \n",
       "\n",
       "                                      Strand  Length  \\\n",
       "Geneid                                                 \n",
       "ENSG00000223972.4                    +;+;+;+    1756   \n",
       "ENSG00000227232.4  -;-;-;-;-;-;-;-;-;-;-;-;-    2073   \n",
       "ENSG00000243485.2                      +;+;+    1021   \n",
       "ENSG00000237613.2                      -;-;-    1219   \n",
       "ENSG00000268020.2                        +;+     947   \n",
       "\n",
       "                   u2af1_control_k562_rep1.sorted.bam  \\\n",
       "Geneid                                                  \n",
       "ENSG00000223972.4                                   0   \n",
       "ENSG00000227232.4                                  94   \n",
       "ENSG00000243485.2                                   0   \n",
       "ENSG00000237613.2                                   5   \n",
       "ENSG00000268020.2                                   0   \n",
       "\n",
       "                   u2af1_control_k562_rep2.sorted.bam  \\\n",
       "Geneid                                                  \n",
       "ENSG00000223972.4                                   1   \n",
       "ENSG00000227232.4                                 103   \n",
       "ENSG00000243485.2                                   1   \n",
       "ENSG00000237613.2                                   4   \n",
       "ENSG00000268020.2                                   0   \n",
       "\n",
       "                   u2af1_shrna_k562_rep1.sorted.bam  \\\n",
       "Geneid                                                \n",
       "ENSG00000223972.4                                 0   \n",
       "ENSG00000227232.4                                81   \n",
       "ENSG00000243485.2                                 0   \n",
       "ENSG00000237613.2                                 5   \n",
       "ENSG00000268020.2                                 0   \n",
       "\n",
       "                   u2af1_shrna_k562_rep2.sorted.bam  \n",
       "Geneid                                               \n",
       "ENSG00000223972.4                                 0  \n",
       "ENSG00000227232.4                                36  \n",
       "ENSG00000243485.2                                 1  \n",
       "ENSG00000237613.2                                 5  \n",
       "ENSG00000268020.2                                 0  "
      ]
     },
     "execution_count": 3,
     "metadata": {},
     "output_type": "execute_result"
    }
   ],
   "source": [
    "data_directory = '/projects/ps-yeolab/biom262_2017/featurecounts/'\n",
    "\n",
    "counts = pd.read_table(data_directory+\"all_counts.txt\",index_col=0,\n",
    "                    comment=\"#\")\n",
    "print counts.shape\n",
    "counts.head()"
   ]
  },
  {
   "cell_type": "code",
   "execution_count": 4,
   "metadata": {
    "collapsed": false
   },
   "outputs": [
    {
     "name": "stdout",
     "output_type": "stream",
     "text": [
      "(57820, 4)\n"
     ]
    },
    {
     "data": {
      "text/html": [
       "<div>\n",
       "<table border=\"1\" class=\"dataframe\">\n",
       "  <thead>\n",
       "    <tr style=\"text-align: right;\">\n",
       "      <th></th>\n",
       "      <th>u2af1_control_k562_rep1.sorted.bam</th>\n",
       "      <th>u2af1_control_k562_rep2.sorted.bam</th>\n",
       "      <th>u2af1_shrna_k562_rep1.sorted.bam</th>\n",
       "      <th>u2af1_shrna_k562_rep2.sorted.bam</th>\n",
       "    </tr>\n",
       "    <tr>\n",
       "      <th>Geneid</th>\n",
       "      <th></th>\n",
       "      <th></th>\n",
       "      <th></th>\n",
       "      <th></th>\n",
       "    </tr>\n",
       "  </thead>\n",
       "  <tbody>\n",
       "    <tr>\n",
       "      <th>ENSG00000223972.4</th>\n",
       "      <td>0</td>\n",
       "      <td>1</td>\n",
       "      <td>0</td>\n",
       "      <td>0</td>\n",
       "    </tr>\n",
       "    <tr>\n",
       "      <th>ENSG00000227232.4</th>\n",
       "      <td>94</td>\n",
       "      <td>103</td>\n",
       "      <td>81</td>\n",
       "      <td>36</td>\n",
       "    </tr>\n",
       "    <tr>\n",
       "      <th>ENSG00000243485.2</th>\n",
       "      <td>0</td>\n",
       "      <td>1</td>\n",
       "      <td>0</td>\n",
       "      <td>1</td>\n",
       "    </tr>\n",
       "    <tr>\n",
       "      <th>ENSG00000237613.2</th>\n",
       "      <td>5</td>\n",
       "      <td>4</td>\n",
       "      <td>5</td>\n",
       "      <td>5</td>\n",
       "    </tr>\n",
       "    <tr>\n",
       "      <th>ENSG00000268020.2</th>\n",
       "      <td>0</td>\n",
       "      <td>0</td>\n",
       "      <td>0</td>\n",
       "      <td>0</td>\n",
       "    </tr>\n",
       "  </tbody>\n",
       "</table>\n",
       "</div>"
      ],
      "text/plain": [
       "                   u2af1_control_k562_rep1.sorted.bam  \\\n",
       "Geneid                                                  \n",
       "ENSG00000223972.4                                   0   \n",
       "ENSG00000227232.4                                  94   \n",
       "ENSG00000243485.2                                   0   \n",
       "ENSG00000237613.2                                   5   \n",
       "ENSG00000268020.2                                   0   \n",
       "\n",
       "                   u2af1_control_k562_rep2.sorted.bam  \\\n",
       "Geneid                                                  \n",
       "ENSG00000223972.4                                   1   \n",
       "ENSG00000227232.4                                 103   \n",
       "ENSG00000243485.2                                   1   \n",
       "ENSG00000237613.2                                   4   \n",
       "ENSG00000268020.2                                   0   \n",
       "\n",
       "                   u2af1_shrna_k562_rep1.sorted.bam  \\\n",
       "Geneid                                                \n",
       "ENSG00000223972.4                                 0   \n",
       "ENSG00000227232.4                                81   \n",
       "ENSG00000243485.2                                 0   \n",
       "ENSG00000237613.2                                 5   \n",
       "ENSG00000268020.2                                 0   \n",
       "\n",
       "                   u2af1_shrna_k562_rep2.sorted.bam  \n",
       "Geneid                                               \n",
       "ENSG00000223972.4                                 0  \n",
       "ENSG00000227232.4                                36  \n",
       "ENSG00000243485.2                                 1  \n",
       "ENSG00000237613.2                                 5  \n",
       "ENSG00000268020.2                                 0  "
      ]
     },
     "execution_count": 4,
     "metadata": {},
     "output_type": "execute_result"
    }
   ],
   "source": [
    "counts.drop(['Chr','Start','End','Strand','Length'], axis=1, inplace=True)\n",
    "print counts.shape\n",
    "counts.head()"
   ]
  },
  {
   "cell_type": "code",
   "execution_count": 5,
   "metadata": {
    "collapsed": false
   },
   "outputs": [
    {
     "name": "stdout",
     "output_type": "stream",
     "text": [
      "(57820, 4)\n"
     ]
    },
    {
     "data": {
      "text/html": [
       "<div>\n",
       "<table border=\"1\" class=\"dataframe\">\n",
       "  <thead>\n",
       "    <tr style=\"text-align: right;\">\n",
       "      <th></th>\n",
       "      <th>u2af1_control_k562_rep1</th>\n",
       "      <th>u2af1_control_k562_rep2</th>\n",
       "      <th>u2af1_shrna_k562_rep1</th>\n",
       "      <th>u2af1_shrna_k562_rep2</th>\n",
       "    </tr>\n",
       "    <tr>\n",
       "      <th>Geneid</th>\n",
       "      <th></th>\n",
       "      <th></th>\n",
       "      <th></th>\n",
       "      <th></th>\n",
       "    </tr>\n",
       "  </thead>\n",
       "  <tbody>\n",
       "    <tr>\n",
       "      <th>ENSG00000223972.4</th>\n",
       "      <td>0</td>\n",
       "      <td>1</td>\n",
       "      <td>0</td>\n",
       "      <td>0</td>\n",
       "    </tr>\n",
       "    <tr>\n",
       "      <th>ENSG00000227232.4</th>\n",
       "      <td>94</td>\n",
       "      <td>103</td>\n",
       "      <td>81</td>\n",
       "      <td>36</td>\n",
       "    </tr>\n",
       "    <tr>\n",
       "      <th>ENSG00000243485.2</th>\n",
       "      <td>0</td>\n",
       "      <td>1</td>\n",
       "      <td>0</td>\n",
       "      <td>1</td>\n",
       "    </tr>\n",
       "    <tr>\n",
       "      <th>ENSG00000237613.2</th>\n",
       "      <td>5</td>\n",
       "      <td>4</td>\n",
       "      <td>5</td>\n",
       "      <td>5</td>\n",
       "    </tr>\n",
       "    <tr>\n",
       "      <th>ENSG00000268020.2</th>\n",
       "      <td>0</td>\n",
       "      <td>0</td>\n",
       "      <td>0</td>\n",
       "      <td>0</td>\n",
       "    </tr>\n",
       "  </tbody>\n",
       "</table>\n",
       "</div>"
      ],
      "text/plain": [
       "                   u2af1_control_k562_rep1  u2af1_control_k562_rep2  \\\n",
       "Geneid                                                                \n",
       "ENSG00000223972.4                        0                        1   \n",
       "ENSG00000227232.4                       94                      103   \n",
       "ENSG00000243485.2                        0                        1   \n",
       "ENSG00000237613.2                        5                        4   \n",
       "ENSG00000268020.2                        0                        0   \n",
       "\n",
       "                   u2af1_shrna_k562_rep1  u2af1_shrna_k562_rep2  \n",
       "Geneid                                                           \n",
       "ENSG00000223972.4                      0                      0  \n",
       "ENSG00000227232.4                     81                     36  \n",
       "ENSG00000243485.2                      0                      1  \n",
       "ENSG00000237613.2                      5                      5  \n",
       "ENSG00000268020.2                      0                      0  "
      ]
     },
     "execution_count": 5,
     "metadata": {},
     "output_type": "execute_result"
    }
   ],
   "source": [
    "counts = counts.rename(columns = {\"u2af1_control_k562_rep1.sorted.bam\":\"u2af1_control_k562_rep1\",\n",
    "                  \"u2af1_control_k562_rep2.sorted.bam\":\"u2af1_control_k562_rep2\",\n",
    "                  \"u2af1_shrna_k562_rep1.sorted.bam\":\"u2af1_shrna_k562_rep1\",\n",
    "                  \"u2af1_shrna_k562_rep2.sorted.bam\":\"u2af1_shrna_k562_rep2\"})\n",
    "print counts.shape\n",
    "counts.head()"
   ]
  },
  {
   "cell_type": "code",
   "execution_count": 19,
   "metadata": {
    "collapsed": false
   },
   "outputs": [
    {
     "data": {
      "text/plain": [
       "94"
      ]
     },
     "execution_count": 19,
     "metadata": {},
     "output_type": "execute_result"
    }
   ],
   "source": [
    "counts.ix['ENSG00000227232.4','u2af1_control_k562_rep1']"
   ]
  },
  {
   "cell_type": "code",
   "execution_count": 6,
   "metadata": {
    "collapsed": true
   },
   "outputs": [],
   "source": [
    "directory = '/home/ecwheele/shared_for_class/'\n",
    "counts.to_csv(directory+\"counts_for_deseq2.csv\")"
   ]
  },
  {
   "cell_type": "code",
   "execution_count": 8,
   "metadata": {
    "collapsed": true
   },
   "outputs": [],
   "source": [
    "test = ['Length','u2af1_control_k562_rep1','u2af1_control_k562_rep2',\n",
    "       'u2af1_shrna_k562_rep1', 'u2af1_shrna_k562_rep2']"
   ]
  },
  {
   "cell_type": "code",
   "execution_count": 11,
   "metadata": {
    "collapsed": false
   },
   "outputs": [
    {
     "data": {
      "text/plain": [
       "['u2af1_control_k562_rep1',\n",
       " 'u2af1_control_k562_rep2',\n",
       " 'u2af1_shrna_k562_rep1',\n",
       " 'u2af1_shrna_k562_rep2']"
      ]
     },
     "execution_count": 11,
     "metadata": {},
     "output_type": "execute_result"
    }
   ],
   "source": [
    "test[1:5]"
   ]
  },
  {
   "cell_type": "code",
   "execution_count": 7,
   "metadata": {
    "collapsed": false
   },
   "outputs": [
    {
     "data": {
      "text/plain": [
       "Index([u'u2af1_control_k562_rep1', u'u2af1_control_k562_rep2',\n",
       "       u'u2af1_shrna_k562_rep1', u'u2af1_shrna_k562_rep2'],\n",
       "      dtype='object')"
      ]
     },
     "execution_count": 7,
     "metadata": {},
     "output_type": "execute_result"
    }
   ],
   "source": [
    "counts.columns"
   ]
  },
  {
   "cell_type": "code",
   "execution_count": 12,
   "metadata": {
    "collapsed": false
   },
   "outputs": [
    {
     "data": {
      "text/html": [
       "<div>\n",
       "<table border=\"1\" class=\"dataframe\">\n",
       "  <thead>\n",
       "    <tr style=\"text-align: right;\">\n",
       "      <th></th>\n",
       "    </tr>\n",
       "  </thead>\n",
       "  <tbody>\n",
       "    <tr>\n",
       "      <th>u2af1_control_k562_rep1</th>\n",
       "    </tr>\n",
       "    <tr>\n",
       "      <th>u2af1_control_k562_rep2</th>\n",
       "    </tr>\n",
       "    <tr>\n",
       "      <th>u2af1_shrna_k562_rep1</th>\n",
       "    </tr>\n",
       "    <tr>\n",
       "      <th>u2af1_shrna_k562_rep2</th>\n",
       "    </tr>\n",
       "  </tbody>\n",
       "</table>\n",
       "</div>"
      ],
      "text/plain": [
       "Empty DataFrame\n",
       "Columns: []\n",
       "Index: [u2af1_control_k562_rep1, u2af1_control_k562_rep2, u2af1_shrna_k562_rep1, u2af1_shrna_k562_rep2]"
      ]
     },
     "execution_count": 12,
     "metadata": {},
     "output_type": "execute_result"
    }
   ],
   "source": [
    "conditions = pd.DataFrame(index=counts.columns)\n",
    "conditions.head()"
   ]
  },
  {
   "cell_type": "code",
   "execution_count": 13,
   "metadata": {
    "collapsed": true
   },
   "outputs": [],
   "source": [
    "sample_type = ['control','control','shrna','shrna']"
   ]
  },
  {
   "cell_type": "code",
   "execution_count": 14,
   "metadata": {
    "collapsed": false
   },
   "outputs": [
    {
     "data": {
      "text/html": [
       "<div>\n",
       "<table border=\"1\" class=\"dataframe\">\n",
       "  <thead>\n",
       "    <tr style=\"text-align: right;\">\n",
       "      <th></th>\n",
       "      <th>condition</th>\n",
       "    </tr>\n",
       "  </thead>\n",
       "  <tbody>\n",
       "    <tr>\n",
       "      <th>u2af1_control_k562_rep1</th>\n",
       "      <td>control</td>\n",
       "    </tr>\n",
       "    <tr>\n",
       "      <th>u2af1_control_k562_rep2</th>\n",
       "      <td>control</td>\n",
       "    </tr>\n",
       "    <tr>\n",
       "      <th>u2af1_shrna_k562_rep1</th>\n",
       "      <td>shrna</td>\n",
       "    </tr>\n",
       "    <tr>\n",
       "      <th>u2af1_shrna_k562_rep2</th>\n",
       "      <td>shrna</td>\n",
       "    </tr>\n",
       "  </tbody>\n",
       "</table>\n",
       "</div>"
      ],
      "text/plain": [
       "                        condition\n",
       "u2af1_control_k562_rep1   control\n",
       "u2af1_control_k562_rep2   control\n",
       "u2af1_shrna_k562_rep1       shrna\n",
       "u2af1_shrna_k562_rep2       shrna"
      ]
     },
     "execution_count": 14,
     "metadata": {},
     "output_type": "execute_result"
    }
   ],
   "source": [
    "conditions['condition'] = sample_type\n",
    "conditions.head()"
   ]
  },
  {
   "cell_type": "code",
   "execution_count": 18,
   "metadata": {
    "collapsed": true
   },
   "outputs": [],
   "source": [
    "conditions.to_csv(directory+\"conditions_for_deseq2.csv\")"
   ]
  },
  {
   "cell_type": "code",
   "execution_count": 15,
   "metadata": {
    "collapsed": false
   },
   "outputs": [
    {
     "data": {
      "text/html": [
       "<div>\n",
       "<table border=\"1\" class=\"dataframe\">\n",
       "  <thead>\n",
       "    <tr style=\"text-align: right;\">\n",
       "      <th></th>\n",
       "      <th>u2af1_control_k562_rep1</th>\n",
       "      <th>u2af1_control_k562_rep2</th>\n",
       "      <th>u2af1_shrna_k562_rep1</th>\n",
       "      <th>u2af1_shrna_k562_rep2</th>\n",
       "    </tr>\n",
       "    <tr>\n",
       "      <th>Geneid</th>\n",
       "      <th></th>\n",
       "      <th></th>\n",
       "      <th></th>\n",
       "      <th></th>\n",
       "    </tr>\n",
       "  </thead>\n",
       "  <tbody>\n",
       "    <tr>\n",
       "      <th>ENSG00000223972.4</th>\n",
       "      <td>0</td>\n",
       "      <td>1</td>\n",
       "      <td>0</td>\n",
       "      <td>0</td>\n",
       "    </tr>\n",
       "    <tr>\n",
       "      <th>ENSG00000227232.4</th>\n",
       "      <td>94</td>\n",
       "      <td>103</td>\n",
       "      <td>81</td>\n",
       "      <td>36</td>\n",
       "    </tr>\n",
       "    <tr>\n",
       "      <th>ENSG00000243485.2</th>\n",
       "      <td>0</td>\n",
       "      <td>1</td>\n",
       "      <td>0</td>\n",
       "      <td>1</td>\n",
       "    </tr>\n",
       "    <tr>\n",
       "      <th>ENSG00000237613.2</th>\n",
       "      <td>5</td>\n",
       "      <td>4</td>\n",
       "      <td>5</td>\n",
       "      <td>5</td>\n",
       "    </tr>\n",
       "    <tr>\n",
       "      <th>ENSG00000268020.2</th>\n",
       "      <td>0</td>\n",
       "      <td>0</td>\n",
       "      <td>0</td>\n",
       "      <td>0</td>\n",
       "    </tr>\n",
       "  </tbody>\n",
       "</table>\n",
       "</div>"
      ],
      "text/plain": [
       "                   u2af1_control_k562_rep1  u2af1_control_k562_rep2  \\\n",
       "Geneid                                                                \n",
       "ENSG00000223972.4                        0                        1   \n",
       "ENSG00000227232.4                       94                      103   \n",
       "ENSG00000243485.2                        0                        1   \n",
       "ENSG00000237613.2                        5                        4   \n",
       "ENSG00000268020.2                        0                        0   \n",
       "\n",
       "                   u2af1_shrna_k562_rep1  u2af1_shrna_k562_rep2  \n",
       "Geneid                                                           \n",
       "ENSG00000223972.4                      0                      0  \n",
       "ENSG00000227232.4                     81                     36  \n",
       "ENSG00000243485.2                      0                      1  \n",
       "ENSG00000237613.2                      5                      5  \n",
       "ENSG00000268020.2                      0                      0  "
      ]
     },
     "execution_count": 15,
     "metadata": {},
     "output_type": "execute_result"
    }
   ],
   "source": [
    "counts.head()"
   ]
  },
  {
   "cell_type": "code",
   "execution_count": 17,
   "metadata": {
    "collapsed": false
   },
   "outputs": [
    {
     "data": {
      "text/plain": [
       "u2af1_control_k562_rep1     94\n",
       "u2af1_control_k562_rep2    103\n",
       "u2af1_shrna_k562_rep1       81\n",
       "u2af1_shrna_k562_rep2       36\n",
       "Name: ENSG00000227232.4, dtype: int64"
      ]
     },
     "execution_count": 17,
     "metadata": {},
     "output_type": "execute_result"
    }
   ],
   "source": [
    "counts.loc['ENSG00000227232.4']"
   ]
  },
  {
   "cell_type": "code",
   "execution_count": null,
   "metadata": {
    "collapsed": true
   },
   "outputs": [],
   "source": []
  }
 ],
 "metadata": {
  "kernelspec": {
   "display_name": "Python 2",
   "language": "python",
   "name": "python2"
  },
  "language_info": {
   "codemirror_mode": {
    "name": "ipython",
    "version": 2
   },
   "file_extension": ".py",
   "mimetype": "text/x-python",
   "name": "python",
   "nbconvert_exporter": "python",
   "pygments_lexer": "ipython2",
   "version": "2.7.12"
  }
 },
 "nbformat": 4,
 "nbformat_minor": 0
}
