{
 "cells": [
  {
   "cell_type": "code",
   "execution_count": 9,
   "metadata": {
    "collapsed": true
   },
   "outputs": [],
   "source": [
    "import pandas as pd\n",
    "import seaborn as sns\n",
    "from matplotlib import pyplot as plt"
   ]
  },
  {
   "cell_type": "code",
   "execution_count": 3,
   "metadata": {
    "collapsed": false
   },
   "outputs": [
    {
     "name": "stdout",
     "output_type": "stream",
     "text": [
      "(27964, 4)\n"
     ]
    },
    {
     "data": {
      "text/html": [
       "<div>\n",
       "<table border=\"1\" class=\"dataframe\">\n",
       "  <thead>\n",
       "    <tr style=\"text-align: right;\">\n",
       "      <th></th>\n",
       "      <th>control_rep1</th>\n",
       "      <th>control_rep2</th>\n",
       "      <th>shrna_rep1</th>\n",
       "      <th>shrna_rep2</th>\n",
       "    </tr>\n",
       "    <tr>\n",
       "      <th>Geneid</th>\n",
       "      <th></th>\n",
       "      <th></th>\n",
       "      <th></th>\n",
       "      <th></th>\n",
       "    </tr>\n",
       "  </thead>\n",
       "  <tbody>\n",
       "    <tr>\n",
       "      <th>ENSG00000223972.4</th>\n",
       "      <td>0.000000</td>\n",
       "      <td>0.081578</td>\n",
       "      <td>0.000000</td>\n",
       "      <td>0.000000</td>\n",
       "    </tr>\n",
       "    <tr>\n",
       "      <th>ENSG00000227232.4</th>\n",
       "      <td>7.946642</td>\n",
       "      <td>7.463146</td>\n",
       "      <td>6.027703</td>\n",
       "      <td>2.722207</td>\n",
       "    </tr>\n",
       "    <tr>\n",
       "      <th>ENSG00000243485.2</th>\n",
       "      <td>0.000000</td>\n",
       "      <td>0.140305</td>\n",
       "      <td>0.000000</td>\n",
       "      <td>0.153530</td>\n",
       "    </tr>\n",
       "    <tr>\n",
       "      <th>ENSG00000237613.2</th>\n",
       "      <td>0.669003</td>\n",
       "      <td>0.470061</td>\n",
       "      <td>0.657087</td>\n",
       "      <td>0.642960</td>\n",
       "    </tr>\n",
       "    <tr>\n",
       "      <th>ENSG00000238009.2</th>\n",
       "      <td>6.032384</td>\n",
       "      <td>5.017195</td>\n",
       "      <td>5.700510</td>\n",
       "      <td>3.908961</td>\n",
       "    </tr>\n",
       "  </tbody>\n",
       "</table>\n",
       "</div>"
      ],
      "text/plain": [
       "                   control_rep1  control_rep2  shrna_rep1  shrna_rep2\n",
       "Geneid                                                               \n",
       "ENSG00000223972.4      0.000000      0.081578    0.000000    0.000000\n",
       "ENSG00000227232.4      7.946642      7.463146    6.027703    2.722207\n",
       "ENSG00000243485.2      0.000000      0.140305    0.000000    0.153530\n",
       "ENSG00000237613.2      0.669003      0.470061    0.657087    0.642960\n",
       "ENSG00000238009.2      6.032384      5.017195    5.700510    3.908961"
      ]
     },
     "execution_count": 3,
     "metadata": {},
     "output_type": "execute_result"
    }
   ],
   "source": [
    "directory = '/home/ucsd-train32/projects/u2af1_shrna/featurecounts/'\n",
    "tpm = pd.read_csv(directory+\"Generate_TPM_u2af1_shrna.csv\", index_col=0)\n",
    "print tpm.shape\n",
    "tpm.head()"
   ]
  },
  {
   "cell_type": "code",
   "execution_count": 5,
   "metadata": {
    "collapsed": false
   },
   "outputs": [
    {
     "data": {
      "text/html": [
       "<div>\n",
       "<table border=\"1\" class=\"dataframe\">\n",
       "  <thead>\n",
       "    <tr style=\"text-align: right;\">\n",
       "      <th></th>\n",
       "      <th>control_rep1</th>\n",
       "      <th>control_rep2</th>\n",
       "      <th>shrna_rep1</th>\n",
       "      <th>shrna_rep2</th>\n",
       "    </tr>\n",
       "  </thead>\n",
       "  <tbody>\n",
       "    <tr>\n",
       "      <th>control_rep1</th>\n",
       "      <td>1.000000</td>\n",
       "      <td>0.993875</td>\n",
       "      <td>0.987667</td>\n",
       "      <td>0.982043</td>\n",
       "    </tr>\n",
       "    <tr>\n",
       "      <th>control_rep2</th>\n",
       "      <td>0.993875</td>\n",
       "      <td>1.000000</td>\n",
       "      <td>0.983905</td>\n",
       "      <td>0.978910</td>\n",
       "    </tr>\n",
       "    <tr>\n",
       "      <th>shrna_rep1</th>\n",
       "      <td>0.987667</td>\n",
       "      <td>0.983905</td>\n",
       "      <td>1.000000</td>\n",
       "      <td>0.998458</td>\n",
       "    </tr>\n",
       "    <tr>\n",
       "      <th>shrna_rep2</th>\n",
       "      <td>0.982043</td>\n",
       "      <td>0.978910</td>\n",
       "      <td>0.998458</td>\n",
       "      <td>1.000000</td>\n",
       "    </tr>\n",
       "  </tbody>\n",
       "</table>\n",
       "</div>"
      ],
      "text/plain": [
       "              control_rep1  control_rep2  shrna_rep1  shrna_rep2\n",
       "control_rep1      1.000000      0.993875    0.987667    0.982043\n",
       "control_rep2      0.993875      1.000000    0.983905    0.978910\n",
       "shrna_rep1        0.987667      0.983905    1.000000    0.998458\n",
       "shrna_rep2        0.982043      0.978910    0.998458    1.000000"
      ]
     },
     "execution_count": 5,
     "metadata": {},
     "output_type": "execute_result"
    }
   ],
   "source": [
    "tpm.corr()"
   ]
  },
  {
   "cell_type": "code",
   "execution_count": 11,
   "metadata": {
    "collapsed": false
   },
   "outputs": [
    {
     "data": {
      "text/plain": [
       "(27964, 4)"
      ]
     },
     "execution_count": 11,
     "metadata": {},
     "output_type": "execute_result"
    }
   ],
   "source": [
    "tpm.shape"
   ]
  },
  {
   "cell_type": "markdown",
   "metadata": {},
   "source": [
    "I want an average tpm greater than 1 across all samples"
   ]
  },
  {
   "cell_type": "code",
   "execution_count": 18,
   "metadata": {
    "collapsed": false
   },
   "outputs": [
    {
     "data": {
      "text/plain": [
       "Geneid\n",
       "ENSG00000223972.4    0.020394\n",
       "ENSG00000227232.4    6.039924\n",
       "ENSG00000243485.2    0.073459\n",
       "ENSG00000237613.2    0.609778\n",
       "ENSG00000238009.2    5.164762\n",
       "dtype: float64"
      ]
     },
     "execution_count": 18,
     "metadata": {},
     "output_type": "execute_result"
    }
   ],
   "source": [
    "tpm.mean(axis=1).head()"
   ]
  },
  {
   "cell_type": "code",
   "execution_count": 19,
   "metadata": {
    "collapsed": false
   },
   "outputs": [
    {
     "data": {
      "text/plain": [
       "Geneid\n",
       "ENSG00000223972.4    False\n",
       "ENSG00000227232.4     True\n",
       "ENSG00000243485.2    False\n",
       "ENSG00000237613.2    False\n",
       "ENSG00000238009.2     True\n",
       "ENSG00000237683.5     True\n",
       "ENSG00000268903.1    False\n",
       "ENSG00000239906.1     True\n",
       "ENSG00000241860.2     True\n",
       "ENSG00000222623.1     True\n",
       "ENSG00000228463.4     True\n",
       "ENSG00000237094.7    False\n",
       "ENSG00000250575.1    False\n",
       "ENSG00000236743.1    False\n",
       "ENSG00000231709.1    False\n",
       "ENSG00000230021.3    False\n",
       "ENSG00000223659.1    False\n",
       "ENSG00000225972.1     True\n",
       "ENSG00000225630.1     True\n",
       "ENSG00000237973.1     True\n",
       "ENSG00000229344.1     True\n",
       "ENSG00000240409.1     True\n",
       "ENSG00000248527.1     True\n",
       "ENSG00000198744.5     True\n",
       "ENSG00000224956.5    False\n",
       "ENSG00000235373.1     True\n",
       "ENSG00000223181.1    False\n",
       "ENSG00000240618.1    False\n",
       "ENSG00000228327.2     True\n",
       "ENSG00000237491.4     True\n",
       "                     ...  \n",
       "ENSG00000210107.1     True\n",
       "ENSG00000210112.1     True\n",
       "ENSG00000198763.3     True\n",
       "ENSG00000210117.1     True\n",
       "ENSG00000210127.1     True\n",
       "ENSG00000210135.1     True\n",
       "ENSG00000210140.1     True\n",
       "ENSG00000210144.1     True\n",
       "ENSG00000198804.2     True\n",
       "ENSG00000210151.2     True\n",
       "ENSG00000210154.1     True\n",
       "ENSG00000198712.1     True\n",
       "ENSG00000210156.1     True\n",
       "ENSG00000228253.1     True\n",
       "ENSG00000198899.2     True\n",
       "ENSG00000198938.2     True\n",
       "ENSG00000210164.1     True\n",
       "ENSG00000198840.2     True\n",
       "ENSG00000210174.1     True\n",
       "ENSG00000212907.2     True\n",
       "ENSG00000198886.2     True\n",
       "ENSG00000210176.1     True\n",
       "ENSG00000210184.1    False\n",
       "ENSG00000210191.1     True\n",
       "ENSG00000198786.2     True\n",
       "ENSG00000198695.2     True\n",
       "ENSG00000210194.1     True\n",
       "ENSG00000198727.2     True\n",
       "ENSG00000210195.2     True\n",
       "ENSG00000210196.2     True\n",
       "dtype: bool"
      ]
     },
     "execution_count": 19,
     "metadata": {},
     "output_type": "execute_result"
    }
   ],
   "source": [
    "tpm.mean(axis=1) > 1"
   ]
  },
  {
   "cell_type": "code",
   "execution_count": 20,
   "metadata": {
    "collapsed": false
   },
   "outputs": [
    {
     "data": {
      "text/html": [
       "<div>\n",
       "<table border=\"1\" class=\"dataframe\">\n",
       "  <thead>\n",
       "    <tr style=\"text-align: right;\">\n",
       "      <th></th>\n",
       "      <th>control_rep1</th>\n",
       "      <th>control_rep2</th>\n",
       "      <th>shrna_rep1</th>\n",
       "      <th>shrna_rep2</th>\n",
       "    </tr>\n",
       "    <tr>\n",
       "      <th>Geneid</th>\n",
       "      <th></th>\n",
       "      <th></th>\n",
       "      <th></th>\n",
       "      <th></th>\n",
       "    </tr>\n",
       "  </thead>\n",
       "  <tbody>\n",
       "    <tr>\n",
       "      <th>ENSG00000227232.4</th>\n",
       "      <td>7.946642</td>\n",
       "      <td>7.463146</td>\n",
       "      <td>6.027703</td>\n",
       "      <td>2.722207</td>\n",
       "    </tr>\n",
       "    <tr>\n",
       "      <th>ENSG00000238009.2</th>\n",
       "      <td>6.032384</td>\n",
       "      <td>5.017195</td>\n",
       "      <td>5.700510</td>\n",
       "      <td>3.908961</td>\n",
       "    </tr>\n",
       "    <tr>\n",
       "      <th>ENSG00000237683.5</th>\n",
       "      <td>20.043080</td>\n",
       "      <td>24.225074</td>\n",
       "      <td>12.221027</td>\n",
       "      <td>8.129281</td>\n",
       "    </tr>\n",
       "    <tr>\n",
       "      <th>ENSG00000239906.1</th>\n",
       "      <td>18.178647</td>\n",
       "      <td>19.514060</td>\n",
       "      <td>16.366957</td>\n",
       "      <td>7.764892</td>\n",
       "    </tr>\n",
       "    <tr>\n",
       "      <th>ENSG00000241860.2</th>\n",
       "      <td>1.184767</td>\n",
       "      <td>1.318047</td>\n",
       "      <td>1.111946</td>\n",
       "      <td>1.416983</td>\n",
       "    </tr>\n",
       "  </tbody>\n",
       "</table>\n",
       "</div>"
      ],
      "text/plain": [
       "                   control_rep1  control_rep2  shrna_rep1  shrna_rep2\n",
       "Geneid                                                               \n",
       "ENSG00000227232.4      7.946642      7.463146    6.027703    2.722207\n",
       "ENSG00000238009.2      6.032384      5.017195    5.700510    3.908961\n",
       "ENSG00000237683.5     20.043080     24.225074   12.221027    8.129281\n",
       "ENSG00000239906.1     18.178647     19.514060   16.366957    7.764892\n",
       "ENSG00000241860.2      1.184767      1.318047    1.111946    1.416983"
      ]
     },
     "execution_count": 20,
     "metadata": {},
     "output_type": "execute_result"
    }
   ],
   "source": [
    "tpm.loc[tpm.mean(axis=1) > 1].head()"
   ]
  },
  {
   "cell_type": "code",
   "execution_count": 16,
   "metadata": {
    "collapsed": false
   },
   "outputs": [
    {
     "name": "stdout",
     "output_type": "stream",
     "text": [
      "(27964, 4)\n",
      "(15686, 4)\n"
     ]
    }
   ],
   "source": [
    "tpm_filtered = tpm.loc[tpm.mean(axis=1) > 1]\n",
    "print tpm.shape\n",
    "print tpm_filtered.shape"
   ]
  },
  {
   "cell_type": "code",
   "execution_count": null,
   "metadata": {
    "collapsed": true
   },
   "outputs": [],
   "source": []
  }
 ],
 "metadata": {
  "kernelspec": {
   "display_name": "Python 2",
   "language": "python",
   "name": "python2"
  },
  "language_info": {
   "codemirror_mode": {
    "name": "ipython",
    "version": 2
   },
   "file_extension": ".py",
   "mimetype": "text/x-python",
   "name": "python",
   "nbconvert_exporter": "python",
   "pygments_lexer": "ipython2",
   "version": "2.7.12"
  }
 },
 "nbformat": 4,
 "nbformat_minor": 0
}
