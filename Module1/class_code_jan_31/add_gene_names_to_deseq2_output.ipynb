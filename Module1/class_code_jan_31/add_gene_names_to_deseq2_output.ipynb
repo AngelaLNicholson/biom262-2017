{
 "cells": [
  {
   "cell_type": "code",
   "execution_count": 1,
   "metadata": {
    "collapsed": true
   },
   "outputs": [],
   "source": [
    "import pandas as pd"
   ]
  },
  {
   "cell_type": "code",
   "execution_count": 2,
   "metadata": {
    "collapsed": false
   },
   "outputs": [
    {
     "data": {
      "text/html": [
       "<div>\n",
       "<table border=\"1\" class=\"dataframe\">\n",
       "  <thead>\n",
       "    <tr style=\"text-align: right;\">\n",
       "      <th></th>\n",
       "      <th>baseMean</th>\n",
       "      <th>log2FoldChange</th>\n",
       "      <th>lfcSE</th>\n",
       "      <th>stat</th>\n",
       "      <th>pvalue</th>\n",
       "      <th>padj</th>\n",
       "    </tr>\n",
       "  </thead>\n",
       "  <tbody>\n",
       "    <tr>\n",
       "      <th>ENSG00000227232.4</th>\n",
       "      <td>76.103567</td>\n",
       "      <td>-0.271654</td>\n",
       "      <td>0.260239</td>\n",
       "      <td>-1.043861</td>\n",
       "      <td>0.296550</td>\n",
       "      <td>0.488727</td>\n",
       "    </tr>\n",
       "    <tr>\n",
       "      <th>ENSG00000243485.2</th>\n",
       "      <td>0.489094</td>\n",
       "      <td>0.006657</td>\n",
       "      <td>0.067318</td>\n",
       "      <td>0.098892</td>\n",
       "      <td>0.921224</td>\n",
       "      <td>NaN</td>\n",
       "    </tr>\n",
       "    <tr>\n",
       "      <th>ENSG00000237613.2</th>\n",
       "      <td>4.807826</td>\n",
       "      <td>0.069472</td>\n",
       "      <td>0.192485</td>\n",
       "      <td>0.360921</td>\n",
       "      <td>0.718159</td>\n",
       "      <td>NaN</td>\n",
       "    </tr>\n",
       "    <tr>\n",
       "      <th>ENSG00000238009.2</th>\n",
       "      <td>121.577867</td>\n",
       "      <td>0.045770</td>\n",
       "      <td>0.228508</td>\n",
       "      <td>0.200297</td>\n",
       "      <td>0.841248</td>\n",
       "      <td>0.912873</td>\n",
       "    </tr>\n",
       "    <tr>\n",
       "      <th>ENSG00000237683.5</th>\n",
       "      <td>264.095823</td>\n",
       "      <td>-0.719497</td>\n",
       "      <td>0.192332</td>\n",
       "      <td>-3.740919</td>\n",
       "      <td>0.000183</td>\n",
       "      <td>0.001822</td>\n",
       "    </tr>\n",
       "  </tbody>\n",
       "</table>\n",
       "</div>"
      ],
      "text/plain": [
       "                     baseMean  log2FoldChange     lfcSE      stat    pvalue  \\\n",
       "ENSG00000227232.4   76.103567       -0.271654  0.260239 -1.043861  0.296550   \n",
       "ENSG00000243485.2    0.489094        0.006657  0.067318  0.098892  0.921224   \n",
       "ENSG00000237613.2    4.807826        0.069472  0.192485  0.360921  0.718159   \n",
       "ENSG00000238009.2  121.577867        0.045770  0.228508  0.200297  0.841248   \n",
       "ENSG00000237683.5  264.095823       -0.719497  0.192332 -3.740919  0.000183   \n",
       "\n",
       "                       padj  \n",
       "ENSG00000227232.4  0.488727  \n",
       "ENSG00000243485.2       NaN  \n",
       "ENSG00000237613.2       NaN  \n",
       "ENSG00000238009.2  0.912873  \n",
       "ENSG00000237683.5  0.001822  "
      ]
     },
     "execution_count": 2,
     "metadata": {},
     "output_type": "execute_result"
    }
   ],
   "source": [
    "directory = \"/home/ecwheele/shared_for_class/\"\n",
    "deseq = pd.read_csv(directory+\"deseq2_results.csv\",index_col=0)\n",
    "deseq.head()"
   ]
  },
  {
   "cell_type": "code",
   "execution_count": 6,
   "metadata": {
    "collapsed": false
   },
   "outputs": [
    {
     "data": {
      "text/html": [
       "<div>\n",
       "<table border=\"1\" class=\"dataframe\">\n",
       "  <thead>\n",
       "    <tr style=\"text-align: right;\">\n",
       "      <th></th>\n",
       "      <th>gene_name</th>\n",
       "    </tr>\n",
       "  </thead>\n",
       "  <tbody>\n",
       "    <tr>\n",
       "      <th>ENSG00000242268.2</th>\n",
       "      <td>RP11-368I23.2</td>\n",
       "    </tr>\n",
       "    <tr>\n",
       "      <th>ENSG00000167578.12</th>\n",
       "      <td>RAB4B</td>\n",
       "    </tr>\n",
       "    <tr>\n",
       "      <th>ENSG00000270112.2</th>\n",
       "      <td>RP11-742D12.2</td>\n",
       "    </tr>\n",
       "    <tr>\n",
       "      <th>ENSG00000078237.4</th>\n",
       "      <td>C12orf5</td>\n",
       "    </tr>\n",
       "    <tr>\n",
       "      <th>ENSG00000263642.1</th>\n",
       "      <td>MIR4802</td>\n",
       "    </tr>\n",
       "  </tbody>\n",
       "</table>\n",
       "</div>"
      ],
      "text/plain": [
       "                        gene_name\n",
       "ENSG00000242268.2   RP11-368I23.2\n",
       "ENSG00000167578.12          RAB4B\n",
       "ENSG00000270112.2   RP11-742D12.2\n",
       "ENSG00000078237.4         C12orf5\n",
       "ENSG00000263642.1         MIR4802"
      ]
     },
     "execution_count": 6,
     "metadata": {},
     "output_type": "execute_result"
    }
   ],
   "source": [
    "gene_names = pd.read_table(\"/projects/ps-yeolab/biom200_module1_2016/gencode.v19.annotation.genenames.txt\",\n",
    "                          index_col=0, names=['gene_name'])\n",
    "gene_names.head()"
   ]
  },
  {
   "cell_type": "code",
   "execution_count": 7,
   "metadata": {
    "collapsed": false
   },
   "outputs": [
    {
     "name": "stdout",
     "output_type": "stream",
     "text": [
      "(23299, 7)\n"
     ]
    },
    {
     "data": {
      "text/html": [
       "<div>\n",
       "<table border=\"1\" class=\"dataframe\">\n",
       "  <thead>\n",
       "    <tr style=\"text-align: right;\">\n",
       "      <th></th>\n",
       "      <th>baseMean</th>\n",
       "      <th>log2FoldChange</th>\n",
       "      <th>lfcSE</th>\n",
       "      <th>stat</th>\n",
       "      <th>pvalue</th>\n",
       "      <th>padj</th>\n",
       "      <th>gene_name</th>\n",
       "    </tr>\n",
       "  </thead>\n",
       "  <tbody>\n",
       "    <tr>\n",
       "      <th>ENSG00000227232.4</th>\n",
       "      <td>76.103567</td>\n",
       "      <td>-0.271654</td>\n",
       "      <td>0.260239</td>\n",
       "      <td>-1.043861</td>\n",
       "      <td>0.296550</td>\n",
       "      <td>0.488727</td>\n",
       "      <td>WASH7P</td>\n",
       "    </tr>\n",
       "    <tr>\n",
       "      <th>ENSG00000243485.2</th>\n",
       "      <td>0.489094</td>\n",
       "      <td>0.006657</td>\n",
       "      <td>0.067318</td>\n",
       "      <td>0.098892</td>\n",
       "      <td>0.921224</td>\n",
       "      <td>NaN</td>\n",
       "      <td>MIR1302-11</td>\n",
       "    </tr>\n",
       "    <tr>\n",
       "      <th>ENSG00000237613.2</th>\n",
       "      <td>4.807826</td>\n",
       "      <td>0.069472</td>\n",
       "      <td>0.192485</td>\n",
       "      <td>0.360921</td>\n",
       "      <td>0.718159</td>\n",
       "      <td>NaN</td>\n",
       "      <td>FAM138A</td>\n",
       "    </tr>\n",
       "    <tr>\n",
       "      <th>ENSG00000238009.2</th>\n",
       "      <td>121.577867</td>\n",
       "      <td>0.045770</td>\n",
       "      <td>0.228508</td>\n",
       "      <td>0.200297</td>\n",
       "      <td>0.841248</td>\n",
       "      <td>0.912873</td>\n",
       "      <td>RP11-34P13.7</td>\n",
       "    </tr>\n",
       "    <tr>\n",
       "      <th>ENSG00000237683.5</th>\n",
       "      <td>264.095823</td>\n",
       "      <td>-0.719497</td>\n",
       "      <td>0.192332</td>\n",
       "      <td>-3.740919</td>\n",
       "      <td>0.000183</td>\n",
       "      <td>0.001822</td>\n",
       "      <td>AL627309.1</td>\n",
       "    </tr>\n",
       "  </tbody>\n",
       "</table>\n",
       "</div>"
      ],
      "text/plain": [
       "                     baseMean  log2FoldChange     lfcSE      stat    pvalue  \\\n",
       "ENSG00000227232.4   76.103567       -0.271654  0.260239 -1.043861  0.296550   \n",
       "ENSG00000243485.2    0.489094        0.006657  0.067318  0.098892  0.921224   \n",
       "ENSG00000237613.2    4.807826        0.069472  0.192485  0.360921  0.718159   \n",
       "ENSG00000238009.2  121.577867        0.045770  0.228508  0.200297  0.841248   \n",
       "ENSG00000237683.5  264.095823       -0.719497  0.192332 -3.740919  0.000183   \n",
       "\n",
       "                       padj     gene_name  \n",
       "ENSG00000227232.4  0.488727        WASH7P  \n",
       "ENSG00000243485.2       NaN    MIR1302-11  \n",
       "ENSG00000237613.2       NaN       FAM138A  \n",
       "ENSG00000238009.2  0.912873  RP11-34P13.7  \n",
       "ENSG00000237683.5  0.001822    AL627309.1  "
      ]
     },
     "execution_count": 7,
     "metadata": {},
     "output_type": "execute_result"
    }
   ],
   "source": [
    "deseq_names = deseq.join(gene_names,how=\"left\")\n",
    "print deseq_names.shape\n",
    "deseq_names.head()"
   ]
  },
  {
   "cell_type": "code",
   "execution_count": 9,
   "metadata": {
    "collapsed": false
   },
   "outputs": [
    {
     "data": {
      "text/html": [
       "<div>\n",
       "<table border=\"1\" class=\"dataframe\">\n",
       "  <thead>\n",
       "    <tr style=\"text-align: right;\">\n",
       "      <th></th>\n",
       "      <th>baseMean</th>\n",
       "      <th>log2FoldChange</th>\n",
       "      <th>lfcSE</th>\n",
       "      <th>stat</th>\n",
       "      <th>pvalue</th>\n",
       "      <th>padj</th>\n",
       "      <th>gene_name</th>\n",
       "    </tr>\n",
       "  </thead>\n",
       "  <tbody>\n",
       "    <tr>\n",
       "      <th>ENSG00000063244.8</th>\n",
       "      <td>2143.82289</td>\n",
       "      <td>0.229946</td>\n",
       "      <td>0.213998</td>\n",
       "      <td>1.074524</td>\n",
       "      <td>0.282588</td>\n",
       "      <td>0.473583</td>\n",
       "      <td>U2AF2</td>\n",
       "    </tr>\n",
       "  </tbody>\n",
       "</table>\n",
       "</div>"
      ],
      "text/plain": [
       "                     baseMean  log2FoldChange     lfcSE      stat    pvalue  \\\n",
       "ENSG00000063244.8  2143.82289        0.229946  0.213998  1.074524  0.282588   \n",
       "\n",
       "                       padj gene_name  \n",
       "ENSG00000063244.8  0.473583     U2AF2  "
      ]
     },
     "execution_count": 9,
     "metadata": {},
     "output_type": "execute_result"
    }
   ],
   "source": [
    "deseq_names.loc[deseq_names['gene_name'] == \"U2AF2\"]"
   ]
  },
  {
   "cell_type": "code",
   "execution_count": null,
   "metadata": {
    "collapsed": true
   },
   "outputs": [],
   "source": []
  }
 ],
 "metadata": {
  "kernelspec": {
   "display_name": "Python 2",
   "language": "python",
   "name": "python2"
  },
  "language_info": {
   "codemirror_mode": {
    "name": "ipython",
    "version": 2
   },
   "file_extension": ".py",
   "mimetype": "text/x-python",
   "name": "python",
   "nbconvert_exporter": "python",
   "pygments_lexer": "ipython2",
   "version": "2.7.12"
  }
 },
 "nbformat": 4,
 "nbformat_minor": 0
}
