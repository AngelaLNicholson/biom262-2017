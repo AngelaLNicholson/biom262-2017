{
 "cells": [
  {
   "cell_type": "markdown",
   "metadata": {},
   "source": [
    "### PLINK: https://www.cog-genomics.org/plink2/\n",
    "\n",
    "#extract random SNPs  \n",
    "  \n",
    "`plink --noweb --bfile /projects/ps-yeolab/biom262_2017/ondrej/hapmap3 --thin 0.00001 --recode --out hapmap3_thin`\n",
    "\n",
    "#inspect files\n",
    "\n",
    "#extract SNPs on chr 21 and recode  \n",
    "\n",
    "`plink --noweb --bfile /projects/ps-yeolab/biom262_2017/ondrej/hapmap3 --chr 21 --make-bed --out hapmap3_chr21`\n",
    "\n",
    "\n",
    "#prune for LD  \n",
    "  \n",
    "`plink --noweb --file hapmap3_thin --indep-pairwise 50 5 0.1`  \n",
    "`plink --noweb --file hapmap3_thin --extract plink.prune.in --make-bed --out hapmap3_thin_pruned`  \n",
    "`plink --noweb --bfile hapmap3_chr21 --indep-pairwise 50 5 0.1 \n",
    "`plink --noweb --bfile hapmap3_chr21 --extract plink.prune.in --make-bed --out hapmap3_chr21_pruned`  \n",
    "`plink --noweb --bfile /projects/ps-yeolab/biom262_2017/ondrej/hapmap3 --indep-pairwise 50 5 0.1`  \n",
    "`plink --noweb --bfile /projects/ps-yeolab/biom262_2017/ondrej/hapmap3 --extract plink.prune.in --make-bed --out hapmap3_pruned`  \n",
    "\n",
    "#why prune? (ask while running...)\n",
    "\n",
    "#create IBS matrix\n",
    "\n",
    "`plink --noweb --bfile hapmap3_thin_pruned --cluster --distance-matrix --out hapmap3_thin_pruned`  \n",
    "`plink --noweb --bfile hapmap3_chr21_pruned --cluster --distance-matrix --out hapmap3_chr21_pruned`  \n",
    "`plink --noweb --bfile hapmap3_pruned --cluster --distance-matrix --out hapmap3_pruned`  \n"
   ]
  },
  {
   "cell_type": "code",
   "execution_count": 8,
   "metadata": {
    "collapsed": false
   },
   "outputs": [
    {
     "name": "stderr",
     "output_type": "stream",
     "text": [
      "Warning message:\n",
      "In file(file, \"rt\"): cannot open file 'hapmap3_thin_pruned.mdist': No such file or directory"
     ]
    },
    {
     "ename": "ERROR",
     "evalue": "Error in file(file, \"rt\"): cannot open the connection\n",
     "output_type": "error",
     "traceback": [
      "Error in file(file, \"rt\"): cannot open the connection\n"
     ]
    },
    {
     "name": "stderr",
     "output_type": "stream",
     "text": [
      "Warning message:\n",
      "In file(file, \"rt\"): cannot open file 'hapmap3_chr21_pruned.mdist': No such file or directory"
     ]
    },
    {
     "ename": "ERROR",
     "evalue": "Error in file(file, \"rt\"): cannot open the connection\n",
     "output_type": "error",
     "traceback": [
      "Error in file(file, \"rt\"): cannot open the connection\n"
     ]
    },
    {
     "name": "stderr",
     "output_type": "stream",
     "text": [
      "Warning message:\n",
      "In file(file, \"rt\"): cannot open file 'hapmap3_pruned.mdist': No such file or directory"
     ]
    },
    {
     "ename": "ERROR",
     "evalue": "Error in file(file, \"rt\"): cannot open the connection\n",
     "output_type": "error",
     "traceback": [
      "Error in file(file, \"rt\"): cannot open the connection\n"
     ]
    }
   ],
   "source": [
    "#start R\n",
    "thin=read.table(\"hapmap3_thin_pruned.mdist\",F)\n",
    "chr21=read.table(\"hapmap3_chr21_pruned.mdist\",F)\n",
    "all=read.table(\"hapmap3_pruned.mdist\",F)\n"
   ]
  },
  {
   "cell_type": "code",
   "execution_count": 9,
   "metadata": {
    "collapsed": false
   },
   "outputs": [
    {
     "ename": "ERROR",
     "evalue": "Error in cmdscale(thin, 2): object 'thin' not found\n",
     "output_type": "error",
     "traceback": [
      "Error in cmdscale(thin, 2): object 'thin' not found\n"
     ]
    },
    {
     "ename": "ERROR",
     "evalue": "Error in cmdscale(chr21, 2): object 'chr21' not found\n",
     "output_type": "error",
     "traceback": [
      "Error in cmdscale(chr21, 2): object 'chr21' not found\n"
     ]
    },
    {
     "ename": "ERROR",
     "evalue": "Error in cmdscale(all, 2): anyNA() applied to non-(list or vector) of type 'builtin'\n",
     "output_type": "error",
     "traceback": [
      "Error in cmdscale(all, 2): anyNA() applied to non-(list or vector) of type 'builtin'\n"
     ]
    }
   ],
   "source": [
    "\n",
    "#multidimensional scaling\n",
    "thin_coord=cmdscale(thin,2)\n",
    "chr21_coord=cmdscale(chr21,2)\n",
    "all_coord=cmdscale(all,2)\n"
   ]
  },
  {
   "cell_type": "code",
   "execution_count": 10,
   "metadata": {
    "collapsed": false
   },
   "outputs": [
    {
     "ename": "ERROR",
     "evalue": "Error in plot(thin_coord[1:165, ], xlim = c(-0.2, 0.2), ylim = c(-0.2, : object 'thin_coord' not found\n",
     "output_type": "error",
     "traceback": [
      "Error in plot(thin_coord[1:165, ], xlim = c(-0.2, 0.2), ylim = c(-0.2, : object 'thin_coord' not found\n"
     ]
    },
    {
     "ename": "ERROR",
     "evalue": "Error in points(thin_coord[166:250, ], xlim = c(-0.2, 0.2), ylim = c(-0.2, : object 'thin_coord' not found\n",
     "output_type": "error",
     "traceback": [
      "Error in points(thin_coord[166:250, ], xlim = c(-0.2, 0.2), ylim = c(-0.2, : object 'thin_coord' not found\n"
     ]
    },
    {
     "ename": "ERROR",
     "evalue": "Error in points(thin_coord[251:317, ], xlim = c(-0.2, 0.2), ylim = c(-0.2, : object 'thin_coord' not found\n",
     "output_type": "error",
     "traceback": [
      "Error in points(thin_coord[251:317, ], xlim = c(-0.2, 0.2), ylim = c(-0.2, : object 'thin_coord' not found\n"
     ]
    }
   ],
   "source": [
    "\n",
    "#plot\n",
    "plot(thin_coord[1:165,],xlim=c(-0.2,0.2),ylim=c(-0.2,0.2),col=\"red\")\n",
    "points(thin_coord[166:250,],xlim=c(-0.2,0.2),ylim=c(-0.2,0.2),col=\"blue\",type=\"p\")\n",
    "points(thin_coord[251:317,],xlim=c(-0.2,0.2),ylim=c(-0.2,0.2),type=\"p\")\n"
   ]
  },
  {
   "cell_type": "code",
   "execution_count": 11,
   "metadata": {
    "collapsed": false
   },
   "outputs": [
    {
     "ename": "ERROR",
     "evalue": "Error in plot(chr21_coord[1:165, ], xlim = c(-0.2, 0.2), ylim = c(-0.2, : object 'chr21_coord' not found\n",
     "output_type": "error",
     "traceback": [
      "Error in plot(chr21_coord[1:165, ], xlim = c(-0.2, 0.2), ylim = c(-0.2, : object 'chr21_coord' not found\n"
     ]
    },
    {
     "ename": "ERROR",
     "evalue": "Error in points(chr21_coord[166:250, ], xlim = c(-0.2, 0.2), ylim = c(-0.2, : object 'chr21_coord' not found\n",
     "output_type": "error",
     "traceback": [
      "Error in points(chr21_coord[166:250, ], xlim = c(-0.2, 0.2), ylim = c(-0.2, : object 'chr21_coord' not found\n"
     ]
    },
    {
     "ename": "ERROR",
     "evalue": "Error in points(chr21_coord[251:317, ], xlim = c(-0.2, 0.2), ylim = c(-0.2, : object 'chr21_coord' not found\n",
     "output_type": "error",
     "traceback": [
      "Error in points(chr21_coord[251:317, ], xlim = c(-0.2, 0.2), ylim = c(-0.2, : object 'chr21_coord' not found\n"
     ]
    }
   ],
   "source": [
    "\n",
    "plot(chr21_coord[1:165,],xlim=c(-0.2,0.2),ylim=c(-0.2,0.2),col=\"red\")\n",
    "points(chr21_coord[166:250,],xlim=c(-0.2,0.2),ylim=c(-0.2,0.2),col=\"blue\",type=\"p\")\n",
    "points(chr21_coord[251:317,],xlim=c(-0.2,0.2),ylim=c(-0.2,0.2),type=\"p\")\n"
   ]
  },
  {
   "cell_type": "code",
   "execution_count": 12,
   "metadata": {
    "collapsed": false
   },
   "outputs": [
    {
     "ename": "ERROR",
     "evalue": "Error in plot(all_coord[1:165, ], xlim = c(-0.2, 0.2), ylim = c(-0.2, : object 'all_coord' not found\n",
     "output_type": "error",
     "traceback": [
      "Error in plot(all_coord[1:165, ], xlim = c(-0.2, 0.2), ylim = c(-0.2, : object 'all_coord' not found\n"
     ]
    },
    {
     "ename": "ERROR",
     "evalue": "Error in points(all_coord[166:250, ], xlim = c(-0.2, 0.2), ylim = c(-0.2, : object 'all_coord' not found\n",
     "output_type": "error",
     "traceback": [
      "Error in points(all_coord[166:250, ], xlim = c(-0.2, 0.2), ylim = c(-0.2, : object 'all_coord' not found\n"
     ]
    },
    {
     "ename": "ERROR",
     "evalue": "Error in points(all_coord[251:317, ], xlim = c(-0.2, 0.2), ylim = c(-0.2, : object 'all_coord' not found\n",
     "output_type": "error",
     "traceback": [
      "Error in points(all_coord[251:317, ], xlim = c(-0.2, 0.2), ylim = c(-0.2, : object 'all_coord' not found\n"
     ]
    }
   ],
   "source": [
    "\n",
    "plot(all_coord[1:165,],xlim=c(-0.2,0.2),ylim=c(-0.2,0.2),col=\"red\")\n",
    "points(all_coord[166:250,],xlim=c(-0.2,0.2),ylim=c(-0.2,0.2),col=\"blue\",type=\"p\")\n",
    "points(all_coord[251:317,],xlim=c(-0.2,0.2),ylim=c(-0.2,0.2),type=\"p\")\n"
   ]
  },
  {
   "cell_type": "code",
   "execution_count": 13,
   "metadata": {
    "collapsed": false
   },
   "outputs": [
    {
     "ename": "ERROR",
     "evalue": "Error in library(vegan): there is no package called ‘vegan’\n",
     "output_type": "error",
     "traceback": [
      "Error in library(vegan): there is no package called ‘vegan’\n"
     ]
    },
    {
     "ename": "ERROR",
     "evalue": "Error in eval(expr, envir, enclos): could not find function \"adonis\"\n",
     "output_type": "error",
     "traceback": [
      "Error in eval(expr, envir, enclos): could not find function \"adonis\"\n"
     ]
    },
    {
     "ename": "ERROR",
     "evalue": "Error in eval(expr, envir, enclos): could not find function \"adonis\"\n",
     "output_type": "error",
     "traceback": [
      "Error in eval(expr, envir, enclos): could not find function \"adonis\"\n"
     ]
    },
    {
     "ename": "ERROR",
     "evalue": "Error in eval(expr, envir, enclos): could not find function \"adonis\"\n",
     "output_type": "error",
     "traceback": [
      "Error in eval(expr, envir, enclos): could not find function \"adonis\"\n"
     ]
    },
    {
     "ename": "ERROR",
     "evalue": "Error in eval(expr, envir, enclos): could not find function \"adonis\"\n",
     "output_type": "error",
     "traceback": [
      "Error in eval(expr, envir, enclos): could not find function \"adonis\"\n"
     ]
    }
   ],
   "source": [
    "\n",
    "#what if we didn't use SNPs but rarer variation?\n",
    "#only higher frequency?\n",
    "#what if we used coding SNPs?\n",
    "#what about other types of variation?\n",
    "#what if the population were Italians, French and English? Would we need more or fewer markers?\n",
    "#what about Mexicans and African Americans? would they cluster? \n",
    "#why is this a problem in mapping? What are the solutions?\n",
    "\n",
    "#grouping as a predictor:\n",
    "pred=cbind(c(rep(1,165),rep(0,(416-165))), c(rep(0,165),rep(1,84),rep(0,(416-249))) ,c(rep(0,249),rep(1,(416-249))))\n",
    "\n",
    "\n",
    "#GAMOVA\n",
    "library(vegan)\n",
    "adonis(thin~pred)\n",
    "adonis(chr21~pred)\n",
    "adonis(all~pred)\n",
    "\n",
    "#random grouping\n",
    "p=rep(c(0,1),208)\n",
    "adonis(all~p)\n",
    "\n",
    "#why do we get lots more variation explained?\n",
    "\n"
   ]
  },
  {
   "cell_type": "markdown",
   "metadata": {},
   "source": [
    "### LEPTOSPIROSIS:\n",
    "\n",
    "###### introduce data\n",
    "\n",
    "#clean data:\n",
    "`plink --noweb --bfile /projects/ps-yeolab/biom262_2017/ondrej/lepto_unrel --maf 0.05 --geno 0.1 --make-bed --out lepto_clean`  \n",
    "\n",
    "#inspect data\n",
    "\n",
    "#prune:\n",
    "`plink --bfile lepto_clean --indep-pairwise 50 5 0.2 --noweb`  \n",
    "`plink --bfile lepto_clean --extract plink.prune.in --make-bed --out lepto_pruned --noweb`  \n",
    "\n",
    "#run unsupervised admixture with 2,3,4,5 clusters\n",
    "`admixture lepto_pruned.bed 2`  \n",
    "`admixture lepto_pruned.bed 3`  \n",
    "`admixture lepto_pruned.bed 4`  \n",
    "\n",
    "#crossvalidation to select best K in bash:\n",
    "`for K in 1 2 3; do admixture --cv lepto_pruned.bed $K | tee log${K}.out; done`\n",
    "\n",
    "CV error (K=1): 0.56669\n",
    "CV error (K=2): 0.55879\n",
    "CV error (K=3): 0.56194\n",
    "CV error (K=4): 0.56811\n",
    "CV error (K=5): 0.56935\n",
    "\n",
    "#inspect"
   ]
  },
  {
   "cell_type": "code",
   "execution_count": 14,
   "metadata": {
    "collapsed": false
   },
   "outputs": [
    {
     "ename": "ERROR",
     "evalue": "Error in parse(text = x, srcfile = src): <text>:2:41: unexpected INCOMPLETE_STRING\n2: barplot(t(a[order(a[,1]),]),col=c(\"red\",\"green),border=NA)\n3: \n                                           ^\n",
     "output_type": "error",
     "traceback": [
      "Error in parse(text = x, srcfile = src): <text>:2:41: unexpected INCOMPLETE_STRING\n2: barplot(t(a[order(a[,1]),]),col=c(\"red\",\"green),border=NA)\n3: \n                                           ^\n"
     ]
    }
   ],
   "source": [
    "a=read.table(\"lepto_pruned.2.P\",F)\n",
    "barplot(t(a[order(a[,1]),]),col=c(\"red\",\"green),border=NA)\n"
   ]
  },
  {
   "cell_type": "markdown",
   "metadata": {},
   "source": [
    "\n",
    "#run association\n",
    "`plink --bfile lepto_clean --noweb --assoc --adjust --qq-plot --out lepto_clean`  \n",
    "\n",
    "#why do we need to remove unrelateds?\n",
    "\n",
    "#make qq plot in R:\n",
    "`data <- read.table(\"lepto_clean.assoc.adjusted\",T)\n",
    "png(\"qqplot.png\")`  \n",
    "`plot(-log10(data$QQ),-log10(data$UNADJ),xlab=\"expected –logP values\",ylab=\"observed –logP values\")`  \n",
    "`abline(a = 0, b = 1)`  \n",
    "`dev.off()`  \n",
    "\n",
    "#inspect plot\n",
    "#explain inflation, ask for possible causes\n",
    "\n",
    "#run a linear model with MDS as covariates:\n",
    "`plink --bfile lepto_pruned --noweb --mds-plot 10 --out cov`  \n",
    "\n",
    "`plink --bfile lepto_clean --noweb --linear --covar cov.mds --covar-number 1,2,4-13 --adjust --qq-plot --out lepto_clean_mds`  \n"
   ]
  },
  {
   "cell_type": "code",
   "execution_count": 15,
   "metadata": {
    "collapsed": false
   },
   "outputs": [
    {
     "name": "stderr",
     "output_type": "stream",
     "text": [
      "Warning message:\n",
      "In file(file, \"rt\"): cannot open file 'lepto_clean_mds.assoc.logistic.adjusted': No such file or directory"
     ]
    },
    {
     "ename": "ERROR",
     "evalue": "Error in file(file, \"rt\"): cannot open the connection\n",
     "output_type": "error",
     "traceback": [
      "Error in file(file, \"rt\"): cannot open the connection\n"
     ]
    },
    {
     "ename": "ERROR",
     "evalue": "Error in data$QQ: object of type 'closure' is not subsettable\n",
     "output_type": "error",
     "traceback": [
      "Error in data$QQ: object of type 'closure' is not subsettable\n"
     ]
    },
    {
     "ename": "ERROR",
     "evalue": "Error in int_abline(a = a, b = b, h = h, v = v, untf = untf, ...): plot.new has not been called yet\n",
     "output_type": "error",
     "traceback": [
      "Error in int_abline(a = a, b = b, h = h, v = v, untf = untf, ...): plot.new has not been called yet\n"
     ]
    },
    {
     "data": {
      "text/html": [
       "<strong>pdf:</strong> 2"
      ],
      "text/latex": [
       "\\textbf{pdf:} 2"
      ],
      "text/markdown": [
       "**pdf:** 2"
      ],
      "text/plain": [
       "pdf \n",
       "  2 "
      ]
     },
     "execution_count": 15,
     "metadata": {},
     "output_type": "execute_result"
    }
   ],
   "source": [
    "\n",
    "#make qq plot in R:\n",
    "data <- read.table(\"lepto_clean_mds.assoc.logistic.adjusted\",T)\n",
    "png(\"qqplot_mds.png\")\n",
    "plot(-log10(data$QQ),-log10(data$UNADJ),xlab=\"expected –logP values\",ylab=\"observed –logP values\")\n",
    "abline(a = 0, b = 1)\n",
    "#dev.off()\n"
   ]
  }
 ],
 "metadata": {
  "kernelspec": {
   "display_name": "R",
   "language": "R",
   "name": "ir"
  },
  "language_info": {
   "codemirror_mode": "r",
   "file_extension": ".r",
   "mimetype": "text/x-r-source",
   "name": "R",
   "pygments_lexer": "r",
   "version": "3.2.2"
  }
 },
 "nbformat": 4,
 "nbformat_minor": 0
}
